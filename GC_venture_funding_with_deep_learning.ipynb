{
 "cells": [
  {
   "cell_type": "markdown",
   "metadata": {
    "id": "JmEcaJzVURr_"
   },
   "source": [
    "# Venture Funding with Deep Learning\n",
    "\n",
    "You work as a risk management associate at Alphabet Soup, a venture capital firm. Alphabet Soup’s business team receives many funding applications from startups every day. This team has asked you to help them create a model that predicts whether applicants will be successful if funded by Alphabet Soup.\n",
    "\n",
    "The business team has given you a CSV containing more than 34,000 organizations that have received funding from Alphabet Soup over the years. With your knowledge of machine learning and neural networks, you decide to use the features in the provided dataset to create a binary classifier model that will predict whether an applicant will become a successful business. The CSV file contains a variety of information about these businesses, including whether or not they ultimately became successful.\n",
    "\n",
    "## Instructions:\n",
    "\n",
    "The steps for this challenge are broken out into the following sections:\n",
    "\n",
    "* Prepare the data for use on a neural network model.\n",
    "\n",
    "* Compile and evaluate a binary classification model using a neural network.\n",
    "\n",
    "* Optimize the neural network model.\n",
    "\n",
    "### Prepare the Data for Use on a Neural Network Model \n",
    "\n",
    "Using your knowledge of Pandas and scikit-learn’s `StandardScaler()`, preprocess the dataset so that you can use it to compile and evaluate the neural network model later.\n",
    "\n",
    "Open the starter code file, and complete the following data preparation steps:\n",
    "\n",
    "1. Read the `applicants_data.csv` file into a Pandas DataFrame. Review the DataFrame, looking for categorical variables that will need to be encoded, as well as columns that could eventually define your features and target variables.   \n",
    "\n",
    "2. Drop the “EIN” (Employer Identification Number) and “NAME” columns from the DataFrame, because they are not relevant to the binary classification model.\n",
    " \n",
    "3. Encode the dataset’s categorical variables using `OneHotEncoder`, and then place the encoded variables into a new DataFrame.\n",
    "\n",
    "4. Add the original DataFrame’s numerical variables to the DataFrame containing the encoded variables.\n",
    "\n",
    "> **Note** To complete this step, you will employ the Pandas `concat()` function that was introduced earlier in this course. \n",
    "\n",
    "5. Using the preprocessed data, create the features (`X`) and target (`y`) datasets. The target dataset should be defined by the preprocessed DataFrame column “IS_SUCCESSFUL”. The remaining columns should define the features dataset. \n",
    "\n",
    "6. Split the features and target sets into training and testing datasets.\n",
    "\n",
    "7. Use scikit-learn's `StandardScaler` to scale the features data.\n",
    "\n",
    "### Compile and Evaluate a Binary Classification Model Using a Neural Network\n",
    "\n",
    "Use your knowledge of TensorFlow to design a binary classification deep neural network model. This model should use the dataset’s features to predict whether an Alphabet Soup&ndash;funded startup will be successful based on the features in the dataset. Consider the number of inputs before determining the number of layers that your model will contain or the number of neurons on each layer. Then, compile and fit your model. Finally, evaluate your binary classification model to calculate the model’s loss and accuracy. \n",
    " \n",
    "To do so, complete the following steps:\n",
    "\n",
    "1. Create a deep neural network by assigning the number of input features, the number of layers, and the number of neurons on each layer using Tensorflow’s Keras.\n",
    "\n",
    "> **Hint** You can start with a two-layer deep neural network model that uses the `relu` activation function for both layers.\n",
    "\n",
    "2. Compile and fit the model using the `binary_crossentropy` loss function, the `adam` optimizer, and the `accuracy` evaluation metric.\n",
    "\n",
    "> **Hint** When fitting the model, start with a small number of epochs, such as 20, 50, or 100.\n",
    "\n",
    "3. Evaluate the model using the test data to determine the model’s loss and accuracy.\n",
    "\n",
    "4. Save and export your model to an HDF5 file, and name the file `AlphabetSoup.h5`. \n",
    "\n",
    "### Optimize the Neural Network Model\n",
    "\n",
    "Using your knowledge of TensorFlow and Keras, optimize your model to improve the model's accuracy. Even if you do not successfully achieve a better accuracy, you'll need to demonstrate at least two attempts to optimize the model. You can include these attempts in your existing notebook. Or, you can make copies of the starter notebook in the same folder, rename them, and code each model optimization in a new notebook. \n",
    "\n",
    "> **Note** You will not lose points if your model does not achieve a high accuracy, as long as you make at least two attempts to optimize the model.\n",
    "\n",
    "To do so, complete the following steps:\n",
    "\n",
    "1. Define at least three new deep neural network models (the original plus 2 optimization attempts). With each, try to improve on your first model’s predictive accuracy.\n",
    "\n",
    "> **Rewind** Recall that perfect accuracy has a value of 1, so accuracy improves as its value moves closer to 1. To optimize your model for a predictive accuracy as close to 1 as possible, you can use any or all of the following techniques:\n",
    ">\n",
    "> * Adjust the input data by dropping different features columns to ensure that no variables or outliers confuse the model.\n",
    ">\n",
    "> * Add more neurons (nodes) to a hidden layer.\n",
    ">\n",
    "> * Add more hidden layers.\n",
    ">\n",
    "> * Use different activation functions for the hidden layers.\n",
    ">\n",
    "> * Add to or reduce the number of epochs in the training regimen.\n",
    "\n",
    "2. After finishing your models, display the accuracy scores achieved by each model, and compare the results.\n",
    "\n",
    "3. Save each of your models as an HDF5 file.\n"
   ]
  },
  {
   "cell_type": "code",
   "execution_count": null,
   "metadata": {},
   "outputs": [],
   "source": []
  },
  {
   "cell_type": "code",
   "execution_count": 1,
   "metadata": {
    "id": "6XiL4BeyURsD"
   },
   "outputs": [],
   "source": [
    "# Imports\n",
    "import pandas as pd\n",
    "import tensorflow as tf\n",
    "from tensorflow.keras.layers import Dense\n",
    "from tensorflow.keras.models import Sequential\n",
    "from sklearn.model_selection import train_test_split\n",
    "from sklearn.preprocessing import StandardScaler,OneHotEncoder"
   ]
  },
  {
   "cell_type": "markdown",
   "metadata": {
    "id": "JzvfMq--URsD"
   },
   "source": [
    "---\n",
    "\n",
    "## Prepare the data to be used on a neural network model"
   ]
  },
  {
   "cell_type": "markdown",
   "metadata": {
    "id": "pJWhWy1zURsE"
   },
   "source": [
    "### Step 1: Read the `applicants_data.csv` file into a Pandas DataFrame. Review the DataFrame, looking for categorical variables that will need to be encoded, as well as columns that could eventually define your features and target variables.  \n"
   ]
  },
  {
   "cell_type": "code",
   "execution_count": 2,
   "metadata": {
    "id": "5GsFRRuGU9r-"
   },
   "outputs": [],
   "source": [
    "# # Upload credit_card_transactions.csv to Colab\n",
    "# from google.colab import files\n",
    "\n",
    "# csv_file = files.upload()"
   ]
  },
  {
   "cell_type": "code",
   "execution_count": 3,
   "metadata": {
    "id": "gSTFDSzYURsE"
   },
   "outputs": [
    {
     "data": {
      "text/html": [
       "<div>\n",
       "<style scoped>\n",
       "    .dataframe tbody tr th:only-of-type {\n",
       "        vertical-align: middle;\n",
       "    }\n",
       "\n",
       "    .dataframe tbody tr th {\n",
       "        vertical-align: top;\n",
       "    }\n",
       "\n",
       "    .dataframe thead th {\n",
       "        text-align: right;\n",
       "    }\n",
       "</style>\n",
       "<table border=\"1\" class=\"dataframe\">\n",
       "  <thead>\n",
       "    <tr style=\"text-align: right;\">\n",
       "      <th></th>\n",
       "      <th>EIN</th>\n",
       "      <th>NAME</th>\n",
       "      <th>APPLICATION_TYPE</th>\n",
       "      <th>AFFILIATION</th>\n",
       "      <th>CLASSIFICATION</th>\n",
       "      <th>USE_CASE</th>\n",
       "      <th>ORGANIZATION</th>\n",
       "      <th>STATUS</th>\n",
       "      <th>INCOME_AMT</th>\n",
       "      <th>SPECIAL_CONSIDERATIONS</th>\n",
       "      <th>ASK_AMT</th>\n",
       "      <th>IS_SUCCESSFUL</th>\n",
       "    </tr>\n",
       "  </thead>\n",
       "  <tbody>\n",
       "    <tr>\n",
       "      <th>0</th>\n",
       "      <td>10520599</td>\n",
       "      <td>BLUE KNIGHTS MOTORCYCLE CLUB</td>\n",
       "      <td>T10</td>\n",
       "      <td>Independent</td>\n",
       "      <td>C1000</td>\n",
       "      <td>ProductDev</td>\n",
       "      <td>Association</td>\n",
       "      <td>1</td>\n",
       "      <td>0</td>\n",
       "      <td>N</td>\n",
       "      <td>5000</td>\n",
       "      <td>1</td>\n",
       "    </tr>\n",
       "    <tr>\n",
       "      <th>1</th>\n",
       "      <td>10531628</td>\n",
       "      <td>AMERICAN CHESAPEAKE CLUB CHARITABLE TR</td>\n",
       "      <td>T3</td>\n",
       "      <td>Independent</td>\n",
       "      <td>C2000</td>\n",
       "      <td>Preservation</td>\n",
       "      <td>Co-operative</td>\n",
       "      <td>1</td>\n",
       "      <td>1-9999</td>\n",
       "      <td>N</td>\n",
       "      <td>108590</td>\n",
       "      <td>1</td>\n",
       "    </tr>\n",
       "    <tr>\n",
       "      <th>2</th>\n",
       "      <td>10547893</td>\n",
       "      <td>ST CLOUD PROFESSIONAL FIREFIGHTERS</td>\n",
       "      <td>T5</td>\n",
       "      <td>CompanySponsored</td>\n",
       "      <td>C3000</td>\n",
       "      <td>ProductDev</td>\n",
       "      <td>Association</td>\n",
       "      <td>1</td>\n",
       "      <td>0</td>\n",
       "      <td>N</td>\n",
       "      <td>5000</td>\n",
       "      <td>0</td>\n",
       "    </tr>\n",
       "    <tr>\n",
       "      <th>3</th>\n",
       "      <td>10553066</td>\n",
       "      <td>SOUTHSIDE ATHLETIC ASSOCIATION</td>\n",
       "      <td>T3</td>\n",
       "      <td>CompanySponsored</td>\n",
       "      <td>C2000</td>\n",
       "      <td>Preservation</td>\n",
       "      <td>Trust</td>\n",
       "      <td>1</td>\n",
       "      <td>10000-24999</td>\n",
       "      <td>N</td>\n",
       "      <td>6692</td>\n",
       "      <td>1</td>\n",
       "    </tr>\n",
       "    <tr>\n",
       "      <th>4</th>\n",
       "      <td>10556103</td>\n",
       "      <td>GENETIC RESEARCH INSTITUTE OF THE DESERT</td>\n",
       "      <td>T3</td>\n",
       "      <td>Independent</td>\n",
       "      <td>C1000</td>\n",
       "      <td>Heathcare</td>\n",
       "      <td>Trust</td>\n",
       "      <td>1</td>\n",
       "      <td>100000-499999</td>\n",
       "      <td>N</td>\n",
       "      <td>142590</td>\n",
       "      <td>1</td>\n",
       "    </tr>\n",
       "  </tbody>\n",
       "</table>\n",
       "</div>"
      ],
      "text/plain": [
       "        EIN                                      NAME APPLICATION_TYPE  \\\n",
       "0  10520599              BLUE KNIGHTS MOTORCYCLE CLUB              T10   \n",
       "1  10531628    AMERICAN CHESAPEAKE CLUB CHARITABLE TR               T3   \n",
       "2  10547893        ST CLOUD PROFESSIONAL FIREFIGHTERS               T5   \n",
       "3  10553066            SOUTHSIDE ATHLETIC ASSOCIATION               T3   \n",
       "4  10556103  GENETIC RESEARCH INSTITUTE OF THE DESERT               T3   \n",
       "\n",
       "        AFFILIATION CLASSIFICATION      USE_CASE  ORGANIZATION  STATUS  \\\n",
       "0       Independent          C1000    ProductDev   Association       1   \n",
       "1       Independent          C2000  Preservation  Co-operative       1   \n",
       "2  CompanySponsored          C3000    ProductDev   Association       1   \n",
       "3  CompanySponsored          C2000  Preservation         Trust       1   \n",
       "4       Independent          C1000     Heathcare         Trust       1   \n",
       "\n",
       "      INCOME_AMT SPECIAL_CONSIDERATIONS  ASK_AMT  IS_SUCCESSFUL  \n",
       "0              0                      N     5000              1  \n",
       "1         1-9999                      N   108590              1  \n",
       "2              0                      N     5000              0  \n",
       "3    10000-24999                      N     6692              1  \n",
       "4  100000-499999                      N   142590              1  "
      ]
     },
     "execution_count": 3,
     "metadata": {},
     "output_type": "execute_result"
    }
   ],
   "source": [
    "# Read the applicants_data.csv file from the Resources folder into a Pandas DataFrame\n",
    "applicant_data_df = pd.read_csv(\"Resources/applicants_data.csv\")\n",
    "\n",
    "# Review the DataFrame\n",
    "# YOUR CODE HERE\n",
    "applicant_data_df.head()"
   ]
  },
  {
   "cell_type": "code",
   "execution_count": 4,
   "metadata": {
    "id": "C-WB0yc4URsE"
   },
   "outputs": [
    {
     "data": {
      "text/plain": [
       "EIN                        int64\n",
       "NAME                      object\n",
       "APPLICATION_TYPE          object\n",
       "AFFILIATION               object\n",
       "CLASSIFICATION            object\n",
       "USE_CASE                  object\n",
       "ORGANIZATION              object\n",
       "STATUS                     int64\n",
       "INCOME_AMT                object\n",
       "SPECIAL_CONSIDERATIONS    object\n",
       "ASK_AMT                    int64\n",
       "IS_SUCCESSFUL              int64\n",
       "dtype: object"
      ]
     },
     "execution_count": 4,
     "metadata": {},
     "output_type": "execute_result"
    }
   ],
   "source": [
    "# Review the data types associated with the columns\n",
    "applicant_data_df.dtypes"
   ]
  },
  {
   "cell_type": "markdown",
   "metadata": {
    "id": "XCwg3ahTURsE"
   },
   "source": [
    "### Step 2: Drop the “EIN” (Employer Identification Number) and “NAME” columns from the DataFrame, because they are not relevant to the binary classification model."
   ]
  },
  {
   "cell_type": "code",
   "execution_count": 5,
   "metadata": {
    "id": "dj7yoYaAURsE"
   },
   "outputs": [
    {
     "data": {
      "text/html": [
       "<div>\n",
       "<style scoped>\n",
       "    .dataframe tbody tr th:only-of-type {\n",
       "        vertical-align: middle;\n",
       "    }\n",
       "\n",
       "    .dataframe tbody tr th {\n",
       "        vertical-align: top;\n",
       "    }\n",
       "\n",
       "    .dataframe thead th {\n",
       "        text-align: right;\n",
       "    }\n",
       "</style>\n",
       "<table border=\"1\" class=\"dataframe\">\n",
       "  <thead>\n",
       "    <tr style=\"text-align: right;\">\n",
       "      <th></th>\n",
       "      <th>APPLICATION_TYPE</th>\n",
       "      <th>AFFILIATION</th>\n",
       "      <th>CLASSIFICATION</th>\n",
       "      <th>USE_CASE</th>\n",
       "      <th>ORGANIZATION</th>\n",
       "      <th>STATUS</th>\n",
       "      <th>INCOME_AMT</th>\n",
       "      <th>SPECIAL_CONSIDERATIONS</th>\n",
       "      <th>ASK_AMT</th>\n",
       "      <th>IS_SUCCESSFUL</th>\n",
       "    </tr>\n",
       "  </thead>\n",
       "  <tbody>\n",
       "    <tr>\n",
       "      <th>0</th>\n",
       "      <td>T10</td>\n",
       "      <td>Independent</td>\n",
       "      <td>C1000</td>\n",
       "      <td>ProductDev</td>\n",
       "      <td>Association</td>\n",
       "      <td>1</td>\n",
       "      <td>0</td>\n",
       "      <td>N</td>\n",
       "      <td>5000</td>\n",
       "      <td>1</td>\n",
       "    </tr>\n",
       "    <tr>\n",
       "      <th>1</th>\n",
       "      <td>T3</td>\n",
       "      <td>Independent</td>\n",
       "      <td>C2000</td>\n",
       "      <td>Preservation</td>\n",
       "      <td>Co-operative</td>\n",
       "      <td>1</td>\n",
       "      <td>1-9999</td>\n",
       "      <td>N</td>\n",
       "      <td>108590</td>\n",
       "      <td>1</td>\n",
       "    </tr>\n",
       "    <tr>\n",
       "      <th>2</th>\n",
       "      <td>T5</td>\n",
       "      <td>CompanySponsored</td>\n",
       "      <td>C3000</td>\n",
       "      <td>ProductDev</td>\n",
       "      <td>Association</td>\n",
       "      <td>1</td>\n",
       "      <td>0</td>\n",
       "      <td>N</td>\n",
       "      <td>5000</td>\n",
       "      <td>0</td>\n",
       "    </tr>\n",
       "    <tr>\n",
       "      <th>3</th>\n",
       "      <td>T3</td>\n",
       "      <td>CompanySponsored</td>\n",
       "      <td>C2000</td>\n",
       "      <td>Preservation</td>\n",
       "      <td>Trust</td>\n",
       "      <td>1</td>\n",
       "      <td>10000-24999</td>\n",
       "      <td>N</td>\n",
       "      <td>6692</td>\n",
       "      <td>1</td>\n",
       "    </tr>\n",
       "    <tr>\n",
       "      <th>4</th>\n",
       "      <td>T3</td>\n",
       "      <td>Independent</td>\n",
       "      <td>C1000</td>\n",
       "      <td>Heathcare</td>\n",
       "      <td>Trust</td>\n",
       "      <td>1</td>\n",
       "      <td>100000-499999</td>\n",
       "      <td>N</td>\n",
       "      <td>142590</td>\n",
       "      <td>1</td>\n",
       "    </tr>\n",
       "  </tbody>\n",
       "</table>\n",
       "</div>"
      ],
      "text/plain": [
       "  APPLICATION_TYPE       AFFILIATION CLASSIFICATION      USE_CASE  \\\n",
       "0              T10       Independent          C1000    ProductDev   \n",
       "1               T3       Independent          C2000  Preservation   \n",
       "2               T5  CompanySponsored          C3000    ProductDev   \n",
       "3               T3  CompanySponsored          C2000  Preservation   \n",
       "4               T3       Independent          C1000     Heathcare   \n",
       "\n",
       "   ORGANIZATION  STATUS     INCOME_AMT SPECIAL_CONSIDERATIONS  ASK_AMT  \\\n",
       "0   Association       1              0                      N     5000   \n",
       "1  Co-operative       1         1-9999                      N   108590   \n",
       "2   Association       1              0                      N     5000   \n",
       "3         Trust       1    10000-24999                      N     6692   \n",
       "4         Trust       1  100000-499999                      N   142590   \n",
       "\n",
       "   IS_SUCCESSFUL  \n",
       "0              1  \n",
       "1              1  \n",
       "2              0  \n",
       "3              1  \n",
       "4              1  "
      ]
     },
     "execution_count": 5,
     "metadata": {},
     "output_type": "execute_result"
    }
   ],
   "source": [
    "# Drop the 'EIN' and 'NAME' columns from the DataFrame\n",
    "applicant_data_df = applicant_data_df.drop(columns=['EIN', 'NAME'])\n",
    "\n",
    "# Review the DataFrame\n",
    "applicant_data_df.head()\n"
   ]
  },
  {
   "cell_type": "code",
   "execution_count": 6,
   "metadata": {},
   "outputs": [
    {
     "data": {
      "text/plain": [
       "['APPLICATION_TYPE',\n",
       " 'AFFILIATION',\n",
       " 'CLASSIFICATION',\n",
       " 'USE_CASE',\n",
       " 'ORGANIZATION',\n",
       " 'INCOME_AMT',\n",
       " 'SPECIAL_CONSIDERATIONS']"
      ]
     },
     "execution_count": 6,
     "metadata": {},
     "output_type": "execute_result"
    }
   ],
   "source": [
    "list(applicant_data_df.dtypes[applicant_data_df.dtypes == \"object\"].index)"
   ]
  },
  {
   "cell_type": "markdown",
   "metadata": {
    "id": "WFF35NwZURsF"
   },
   "source": [
    "### Step 3: Encode the dataset’s categorical variables using `OneHotEncoder`, and then place the encoded variables into a new DataFrame."
   ]
  },
  {
   "cell_type": "code",
   "execution_count": 7,
   "metadata": {
    "id": "aHv_okM7URsF"
   },
   "outputs": [
    {
     "data": {
      "text/plain": [
       "['APPLICATION_TYPE',\n",
       " 'USE_CASE',\n",
       " 'AFFILIATION',\n",
       " 'CLASSIFICATION',\n",
       " 'ORGANIZATION',\n",
       " 'INCOME_AMT',\n",
       " 'SPECIAL_CONSIDERATIONS']"
      ]
     },
     "execution_count": 7,
     "metadata": {},
     "output_type": "execute_result"
    }
   ],
   "source": [
    "# Create a list of categorical variables \n",
    "categorical_variables = ['APPLICATION_TYPE', 'USE_CASE',\n",
    "                         'AFFILIATION',\t'CLASSIFICATION','ORGANIZATION',\n",
    "                         'INCOME_AMT','SPECIAL_CONSIDERATIONS' ]\n",
    "\n",
    "# Display the categorical variables list\n",
    "categorical_variables\n"
   ]
  },
  {
   "cell_type": "code",
   "execution_count": 8,
   "metadata": {
    "id": "IizC83_xURsF"
   },
   "outputs": [],
   "source": [
    "# Create a OneHotEncoder instance\n",
    "enc = OneHotEncoder(sparse=False)\n"
   ]
  },
  {
   "cell_type": "code",
   "execution_count": 9,
   "metadata": {
    "id": "fLUlCo48URsF"
   },
   "outputs": [],
   "source": [
    "# Encode the categorcal variables using OneHotEncoder\n",
    "encoded_data = enc.fit_transform(applicant_data_df[categorical_variables])\n",
    "\n"
   ]
  },
  {
   "cell_type": "code",
   "execution_count": 10,
   "metadata": {
    "id": "Bj-Hc08qURsF"
   },
   "outputs": [
    {
     "data": {
      "text/html": [
       "<div>\n",
       "<style scoped>\n",
       "    .dataframe tbody tr th:only-of-type {\n",
       "        vertical-align: middle;\n",
       "    }\n",
       "\n",
       "    .dataframe tbody tr th {\n",
       "        vertical-align: top;\n",
       "    }\n",
       "\n",
       "    .dataframe thead th {\n",
       "        text-align: right;\n",
       "    }\n",
       "</style>\n",
       "<table border=\"1\" class=\"dataframe\">\n",
       "  <thead>\n",
       "    <tr style=\"text-align: right;\">\n",
       "      <th></th>\n",
       "      <th>APPLICATION_TYPE_T10</th>\n",
       "      <th>APPLICATION_TYPE_T12</th>\n",
       "      <th>APPLICATION_TYPE_T13</th>\n",
       "      <th>APPLICATION_TYPE_T14</th>\n",
       "      <th>APPLICATION_TYPE_T15</th>\n",
       "      <th>APPLICATION_TYPE_T17</th>\n",
       "      <th>APPLICATION_TYPE_T19</th>\n",
       "      <th>APPLICATION_TYPE_T2</th>\n",
       "      <th>APPLICATION_TYPE_T25</th>\n",
       "      <th>APPLICATION_TYPE_T29</th>\n",
       "      <th>...</th>\n",
       "      <th>INCOME_AMT_1-9999</th>\n",
       "      <th>INCOME_AMT_10000-24999</th>\n",
       "      <th>INCOME_AMT_100000-499999</th>\n",
       "      <th>INCOME_AMT_10M-50M</th>\n",
       "      <th>INCOME_AMT_1M-5M</th>\n",
       "      <th>INCOME_AMT_25000-99999</th>\n",
       "      <th>INCOME_AMT_50M+</th>\n",
       "      <th>INCOME_AMT_5M-10M</th>\n",
       "      <th>SPECIAL_CONSIDERATIONS_N</th>\n",
       "      <th>SPECIAL_CONSIDERATIONS_Y</th>\n",
       "    </tr>\n",
       "  </thead>\n",
       "  <tbody>\n",
       "    <tr>\n",
       "      <th>0</th>\n",
       "      <td>1.0</td>\n",
       "      <td>0.0</td>\n",
       "      <td>0.0</td>\n",
       "      <td>0.0</td>\n",
       "      <td>0.0</td>\n",
       "      <td>0.0</td>\n",
       "      <td>0.0</td>\n",
       "      <td>0.0</td>\n",
       "      <td>0.0</td>\n",
       "      <td>0.0</td>\n",
       "      <td>...</td>\n",
       "      <td>0.0</td>\n",
       "      <td>0.0</td>\n",
       "      <td>0.0</td>\n",
       "      <td>0.0</td>\n",
       "      <td>0.0</td>\n",
       "      <td>0.0</td>\n",
       "      <td>0.0</td>\n",
       "      <td>0.0</td>\n",
       "      <td>1.0</td>\n",
       "      <td>0.0</td>\n",
       "    </tr>\n",
       "    <tr>\n",
       "      <th>1</th>\n",
       "      <td>0.0</td>\n",
       "      <td>0.0</td>\n",
       "      <td>0.0</td>\n",
       "      <td>0.0</td>\n",
       "      <td>0.0</td>\n",
       "      <td>0.0</td>\n",
       "      <td>0.0</td>\n",
       "      <td>0.0</td>\n",
       "      <td>0.0</td>\n",
       "      <td>0.0</td>\n",
       "      <td>...</td>\n",
       "      <td>1.0</td>\n",
       "      <td>0.0</td>\n",
       "      <td>0.0</td>\n",
       "      <td>0.0</td>\n",
       "      <td>0.0</td>\n",
       "      <td>0.0</td>\n",
       "      <td>0.0</td>\n",
       "      <td>0.0</td>\n",
       "      <td>1.0</td>\n",
       "      <td>0.0</td>\n",
       "    </tr>\n",
       "    <tr>\n",
       "      <th>2</th>\n",
       "      <td>0.0</td>\n",
       "      <td>0.0</td>\n",
       "      <td>0.0</td>\n",
       "      <td>0.0</td>\n",
       "      <td>0.0</td>\n",
       "      <td>0.0</td>\n",
       "      <td>0.0</td>\n",
       "      <td>0.0</td>\n",
       "      <td>0.0</td>\n",
       "      <td>0.0</td>\n",
       "      <td>...</td>\n",
       "      <td>0.0</td>\n",
       "      <td>0.0</td>\n",
       "      <td>0.0</td>\n",
       "      <td>0.0</td>\n",
       "      <td>0.0</td>\n",
       "      <td>0.0</td>\n",
       "      <td>0.0</td>\n",
       "      <td>0.0</td>\n",
       "      <td>1.0</td>\n",
       "      <td>0.0</td>\n",
       "    </tr>\n",
       "    <tr>\n",
       "      <th>3</th>\n",
       "      <td>0.0</td>\n",
       "      <td>0.0</td>\n",
       "      <td>0.0</td>\n",
       "      <td>0.0</td>\n",
       "      <td>0.0</td>\n",
       "      <td>0.0</td>\n",
       "      <td>0.0</td>\n",
       "      <td>0.0</td>\n",
       "      <td>0.0</td>\n",
       "      <td>0.0</td>\n",
       "      <td>...</td>\n",
       "      <td>0.0</td>\n",
       "      <td>1.0</td>\n",
       "      <td>0.0</td>\n",
       "      <td>0.0</td>\n",
       "      <td>0.0</td>\n",
       "      <td>0.0</td>\n",
       "      <td>0.0</td>\n",
       "      <td>0.0</td>\n",
       "      <td>1.0</td>\n",
       "      <td>0.0</td>\n",
       "    </tr>\n",
       "    <tr>\n",
       "      <th>4</th>\n",
       "      <td>0.0</td>\n",
       "      <td>0.0</td>\n",
       "      <td>0.0</td>\n",
       "      <td>0.0</td>\n",
       "      <td>0.0</td>\n",
       "      <td>0.0</td>\n",
       "      <td>0.0</td>\n",
       "      <td>0.0</td>\n",
       "      <td>0.0</td>\n",
       "      <td>0.0</td>\n",
       "      <td>...</td>\n",
       "      <td>0.0</td>\n",
       "      <td>0.0</td>\n",
       "      <td>1.0</td>\n",
       "      <td>0.0</td>\n",
       "      <td>0.0</td>\n",
       "      <td>0.0</td>\n",
       "      <td>0.0</td>\n",
       "      <td>0.0</td>\n",
       "      <td>1.0</td>\n",
       "      <td>0.0</td>\n",
       "    </tr>\n",
       "  </tbody>\n",
       "</table>\n",
       "<p>5 rows × 114 columns</p>\n",
       "</div>"
      ],
      "text/plain": [
       "   APPLICATION_TYPE_T10  APPLICATION_TYPE_T12  APPLICATION_TYPE_T13  \\\n",
       "0                   1.0                   0.0                   0.0   \n",
       "1                   0.0                   0.0                   0.0   \n",
       "2                   0.0                   0.0                   0.0   \n",
       "3                   0.0                   0.0                   0.0   \n",
       "4                   0.0                   0.0                   0.0   \n",
       "\n",
       "   APPLICATION_TYPE_T14  APPLICATION_TYPE_T15  APPLICATION_TYPE_T17  \\\n",
       "0                   0.0                   0.0                   0.0   \n",
       "1                   0.0                   0.0                   0.0   \n",
       "2                   0.0                   0.0                   0.0   \n",
       "3                   0.0                   0.0                   0.0   \n",
       "4                   0.0                   0.0                   0.0   \n",
       "\n",
       "   APPLICATION_TYPE_T19  APPLICATION_TYPE_T2  APPLICATION_TYPE_T25  \\\n",
       "0                   0.0                  0.0                   0.0   \n",
       "1                   0.0                  0.0                   0.0   \n",
       "2                   0.0                  0.0                   0.0   \n",
       "3                   0.0                  0.0                   0.0   \n",
       "4                   0.0                  0.0                   0.0   \n",
       "\n",
       "   APPLICATION_TYPE_T29  ...  INCOME_AMT_1-9999  INCOME_AMT_10000-24999  \\\n",
       "0                   0.0  ...                0.0                     0.0   \n",
       "1                   0.0  ...                1.0                     0.0   \n",
       "2                   0.0  ...                0.0                     0.0   \n",
       "3                   0.0  ...                0.0                     1.0   \n",
       "4                   0.0  ...                0.0                     0.0   \n",
       "\n",
       "   INCOME_AMT_100000-499999  INCOME_AMT_10M-50M  INCOME_AMT_1M-5M  \\\n",
       "0                       0.0                 0.0               0.0   \n",
       "1                       0.0                 0.0               0.0   \n",
       "2                       0.0                 0.0               0.0   \n",
       "3                       0.0                 0.0               0.0   \n",
       "4                       1.0                 0.0               0.0   \n",
       "\n",
       "   INCOME_AMT_25000-99999  INCOME_AMT_50M+  INCOME_AMT_5M-10M  \\\n",
       "0                     0.0              0.0                0.0   \n",
       "1                     0.0              0.0                0.0   \n",
       "2                     0.0              0.0                0.0   \n",
       "3                     0.0              0.0                0.0   \n",
       "4                     0.0              0.0                0.0   \n",
       "\n",
       "   SPECIAL_CONSIDERATIONS_N  SPECIAL_CONSIDERATIONS_Y  \n",
       "0                       1.0                       0.0  \n",
       "1                       1.0                       0.0  \n",
       "2                       1.0                       0.0  \n",
       "3                       1.0                       0.0  \n",
       "4                       1.0                       0.0  \n",
       "\n",
       "[5 rows x 114 columns]"
      ]
     },
     "execution_count": 10,
     "metadata": {},
     "output_type": "execute_result"
    }
   ],
   "source": [
    "# Create a DataFrame with the encoded variables\n",
    "encoded_df = pd.DataFrame(encoded_data,\n",
    "                          columns = enc.get_feature_names(categorical_variables))\n",
    "\n",
    "# Review the DataFrame\n",
    "encoded_df.head()\n"
   ]
  },
  {
   "cell_type": "markdown",
   "metadata": {
    "id": "A8Bd0AQTURsF"
   },
   "source": [
    "### Step 4: Add the original DataFrame’s numerical variables to the DataFrame containing the encoded variables.\n",
    "\n",
    "> **Note** To complete this step, you will employ the Pandas `concat()` function that was introduced earlier in this course. "
   ]
  },
  {
   "cell_type": "code",
   "execution_count": 11,
   "metadata": {},
   "outputs": [],
   "source": [
    "# numerical_df = applicant_data_df.drop(columns=['APPLICATION_TYPE', 'USE_CASE',\n",
    "#                          'AFFILIATION',\t'CLASSIFICATION','ORGANIZATION',\n",
    "#                          'INCOME_AMT','SPECIAL_CONSIDERATIONS'])\n",
    "# numerical_df.head()"
   ]
  },
  {
   "cell_type": "code",
   "execution_count": 12,
   "metadata": {
    "id": "r43_PQpFURsG"
   },
   "outputs": [
    {
     "data": {
      "text/html": [
       "<div>\n",
       "<style scoped>\n",
       "    .dataframe tbody tr th:only-of-type {\n",
       "        vertical-align: middle;\n",
       "    }\n",
       "\n",
       "    .dataframe tbody tr th {\n",
       "        vertical-align: top;\n",
       "    }\n",
       "\n",
       "    .dataframe thead th {\n",
       "        text-align: right;\n",
       "    }\n",
       "</style>\n",
       "<table border=\"1\" class=\"dataframe\">\n",
       "  <thead>\n",
       "    <tr style=\"text-align: right;\">\n",
       "      <th></th>\n",
       "      <th>STATUS</th>\n",
       "      <th>ASK_AMT</th>\n",
       "      <th>IS_SUCCESSFUL</th>\n",
       "      <th>APPLICATION_TYPE_T10</th>\n",
       "      <th>APPLICATION_TYPE_T12</th>\n",
       "      <th>APPLICATION_TYPE_T13</th>\n",
       "      <th>APPLICATION_TYPE_T14</th>\n",
       "      <th>APPLICATION_TYPE_T15</th>\n",
       "      <th>APPLICATION_TYPE_T17</th>\n",
       "      <th>APPLICATION_TYPE_T19</th>\n",
       "      <th>...</th>\n",
       "      <th>INCOME_AMT_1-9999</th>\n",
       "      <th>INCOME_AMT_10000-24999</th>\n",
       "      <th>INCOME_AMT_100000-499999</th>\n",
       "      <th>INCOME_AMT_10M-50M</th>\n",
       "      <th>INCOME_AMT_1M-5M</th>\n",
       "      <th>INCOME_AMT_25000-99999</th>\n",
       "      <th>INCOME_AMT_50M+</th>\n",
       "      <th>INCOME_AMT_5M-10M</th>\n",
       "      <th>SPECIAL_CONSIDERATIONS_N</th>\n",
       "      <th>SPECIAL_CONSIDERATIONS_Y</th>\n",
       "    </tr>\n",
       "  </thead>\n",
       "  <tbody>\n",
       "    <tr>\n",
       "      <th>0</th>\n",
       "      <td>1</td>\n",
       "      <td>5000</td>\n",
       "      <td>1</td>\n",
       "      <td>1.0</td>\n",
       "      <td>0.0</td>\n",
       "      <td>0.0</td>\n",
       "      <td>0.0</td>\n",
       "      <td>0.0</td>\n",
       "      <td>0.0</td>\n",
       "      <td>0.0</td>\n",
       "      <td>...</td>\n",
       "      <td>0.0</td>\n",
       "      <td>0.0</td>\n",
       "      <td>0.0</td>\n",
       "      <td>0.0</td>\n",
       "      <td>0.0</td>\n",
       "      <td>0.0</td>\n",
       "      <td>0.0</td>\n",
       "      <td>0.0</td>\n",
       "      <td>1.0</td>\n",
       "      <td>0.0</td>\n",
       "    </tr>\n",
       "    <tr>\n",
       "      <th>1</th>\n",
       "      <td>1</td>\n",
       "      <td>108590</td>\n",
       "      <td>1</td>\n",
       "      <td>0.0</td>\n",
       "      <td>0.0</td>\n",
       "      <td>0.0</td>\n",
       "      <td>0.0</td>\n",
       "      <td>0.0</td>\n",
       "      <td>0.0</td>\n",
       "      <td>0.0</td>\n",
       "      <td>...</td>\n",
       "      <td>1.0</td>\n",
       "      <td>0.0</td>\n",
       "      <td>0.0</td>\n",
       "      <td>0.0</td>\n",
       "      <td>0.0</td>\n",
       "      <td>0.0</td>\n",
       "      <td>0.0</td>\n",
       "      <td>0.0</td>\n",
       "      <td>1.0</td>\n",
       "      <td>0.0</td>\n",
       "    </tr>\n",
       "    <tr>\n",
       "      <th>2</th>\n",
       "      <td>1</td>\n",
       "      <td>5000</td>\n",
       "      <td>0</td>\n",
       "      <td>0.0</td>\n",
       "      <td>0.0</td>\n",
       "      <td>0.0</td>\n",
       "      <td>0.0</td>\n",
       "      <td>0.0</td>\n",
       "      <td>0.0</td>\n",
       "      <td>0.0</td>\n",
       "      <td>...</td>\n",
       "      <td>0.0</td>\n",
       "      <td>0.0</td>\n",
       "      <td>0.0</td>\n",
       "      <td>0.0</td>\n",
       "      <td>0.0</td>\n",
       "      <td>0.0</td>\n",
       "      <td>0.0</td>\n",
       "      <td>0.0</td>\n",
       "      <td>1.0</td>\n",
       "      <td>0.0</td>\n",
       "    </tr>\n",
       "    <tr>\n",
       "      <th>3</th>\n",
       "      <td>1</td>\n",
       "      <td>6692</td>\n",
       "      <td>1</td>\n",
       "      <td>0.0</td>\n",
       "      <td>0.0</td>\n",
       "      <td>0.0</td>\n",
       "      <td>0.0</td>\n",
       "      <td>0.0</td>\n",
       "      <td>0.0</td>\n",
       "      <td>0.0</td>\n",
       "      <td>...</td>\n",
       "      <td>0.0</td>\n",
       "      <td>1.0</td>\n",
       "      <td>0.0</td>\n",
       "      <td>0.0</td>\n",
       "      <td>0.0</td>\n",
       "      <td>0.0</td>\n",
       "      <td>0.0</td>\n",
       "      <td>0.0</td>\n",
       "      <td>1.0</td>\n",
       "      <td>0.0</td>\n",
       "    </tr>\n",
       "    <tr>\n",
       "      <th>4</th>\n",
       "      <td>1</td>\n",
       "      <td>142590</td>\n",
       "      <td>1</td>\n",
       "      <td>0.0</td>\n",
       "      <td>0.0</td>\n",
       "      <td>0.0</td>\n",
       "      <td>0.0</td>\n",
       "      <td>0.0</td>\n",
       "      <td>0.0</td>\n",
       "      <td>0.0</td>\n",
       "      <td>...</td>\n",
       "      <td>0.0</td>\n",
       "      <td>0.0</td>\n",
       "      <td>1.0</td>\n",
       "      <td>0.0</td>\n",
       "      <td>0.0</td>\n",
       "      <td>0.0</td>\n",
       "      <td>0.0</td>\n",
       "      <td>0.0</td>\n",
       "      <td>1.0</td>\n",
       "      <td>0.0</td>\n",
       "    </tr>\n",
       "  </tbody>\n",
       "</table>\n",
       "<p>5 rows × 117 columns</p>\n",
       "</div>"
      ],
      "text/plain": [
       "   STATUS  ASK_AMT  IS_SUCCESSFUL  APPLICATION_TYPE_T10  APPLICATION_TYPE_T12  \\\n",
       "0       1     5000              1                   1.0                   0.0   \n",
       "1       1   108590              1                   0.0                   0.0   \n",
       "2       1     5000              0                   0.0                   0.0   \n",
       "3       1     6692              1                   0.0                   0.0   \n",
       "4       1   142590              1                   0.0                   0.0   \n",
       "\n",
       "   APPLICATION_TYPE_T13  APPLICATION_TYPE_T14  APPLICATION_TYPE_T15  \\\n",
       "0                   0.0                   0.0                   0.0   \n",
       "1                   0.0                   0.0                   0.0   \n",
       "2                   0.0                   0.0                   0.0   \n",
       "3                   0.0                   0.0                   0.0   \n",
       "4                   0.0                   0.0                   0.0   \n",
       "\n",
       "   APPLICATION_TYPE_T17  APPLICATION_TYPE_T19  ...  INCOME_AMT_1-9999  \\\n",
       "0                   0.0                   0.0  ...                0.0   \n",
       "1                   0.0                   0.0  ...                1.0   \n",
       "2                   0.0                   0.0  ...                0.0   \n",
       "3                   0.0                   0.0  ...                0.0   \n",
       "4                   0.0                   0.0  ...                0.0   \n",
       "\n",
       "   INCOME_AMT_10000-24999  INCOME_AMT_100000-499999  INCOME_AMT_10M-50M  \\\n",
       "0                     0.0                       0.0                 0.0   \n",
       "1                     0.0                       0.0                 0.0   \n",
       "2                     0.0                       0.0                 0.0   \n",
       "3                     1.0                       0.0                 0.0   \n",
       "4                     0.0                       1.0                 0.0   \n",
       "\n",
       "   INCOME_AMT_1M-5M  INCOME_AMT_25000-99999  INCOME_AMT_50M+  \\\n",
       "0               0.0                     0.0              0.0   \n",
       "1               0.0                     0.0              0.0   \n",
       "2               0.0                     0.0              0.0   \n",
       "3               0.0                     0.0              0.0   \n",
       "4               0.0                     0.0              0.0   \n",
       "\n",
       "   INCOME_AMT_5M-10M  SPECIAL_CONSIDERATIONS_N  SPECIAL_CONSIDERATIONS_Y  \n",
       "0                0.0                       1.0                       0.0  \n",
       "1                0.0                       1.0                       0.0  \n",
       "2                0.0                       1.0                       0.0  \n",
       "3                0.0                       1.0                       0.0  \n",
       "4                0.0                       1.0                       0.0  \n",
       "\n",
       "[5 rows x 117 columns]"
      ]
     },
     "execution_count": 12,
     "metadata": {},
     "output_type": "execute_result"
    }
   ],
   "source": [
    "# Add the numerical variables from the original DataFrame to the one-hot encoding DataFrame\n",
    "encoded_df = pd.concat([applicant_data_df[['STATUS', 'ASK_AMT', 'IS_SUCCESSFUL']], encoded_df], axis=1)\n",
    "\n",
    "# Review the Dataframe\n",
    "encoded_df.head()\n"
   ]
  },
  {
   "cell_type": "markdown",
   "metadata": {
    "id": "RJHzn3uyURsG"
   },
   "source": [
    "### Step 5: Using the preprocessed data, create the features (`X`) and target (`y`) datasets. The target dataset should be defined by the preprocessed DataFrame column “IS_SUCCESSFUL”. The remaining columns should define the features dataset. \n",
    "\n"
   ]
  },
  {
   "cell_type": "code",
   "execution_count": 13,
   "metadata": {
    "id": "XpmWKy35URsG"
   },
   "outputs": [
    {
     "data": {
      "text/plain": [
       "0    1\n",
       "1    1\n",
       "2    0\n",
       "3    1\n",
       "4    1\n",
       "Name: IS_SUCCESSFUL, dtype: int64"
      ]
     },
     "execution_count": 13,
     "metadata": {},
     "output_type": "execute_result"
    }
   ],
   "source": [
    "# Define the target set y using the IS_SUCCESSFUL column\n",
    "y = encoded_df['IS_SUCCESSFUL']\n",
    "\n",
    "# Display a sample of y\n",
    "y.head()\n"
   ]
  },
  {
   "cell_type": "code",
   "execution_count": 14,
   "metadata": {
    "id": "SzVEfRlaURsG"
   },
   "outputs": [
    {
     "data": {
      "text/html": [
       "<div>\n",
       "<style scoped>\n",
       "    .dataframe tbody tr th:only-of-type {\n",
       "        vertical-align: middle;\n",
       "    }\n",
       "\n",
       "    .dataframe tbody tr th {\n",
       "        vertical-align: top;\n",
       "    }\n",
       "\n",
       "    .dataframe thead th {\n",
       "        text-align: right;\n",
       "    }\n",
       "</style>\n",
       "<table border=\"1\" class=\"dataframe\">\n",
       "  <thead>\n",
       "    <tr style=\"text-align: right;\">\n",
       "      <th></th>\n",
       "      <th>STATUS</th>\n",
       "      <th>ASK_AMT</th>\n",
       "      <th>APPLICATION_TYPE_T10</th>\n",
       "      <th>APPLICATION_TYPE_T12</th>\n",
       "      <th>APPLICATION_TYPE_T13</th>\n",
       "      <th>APPLICATION_TYPE_T14</th>\n",
       "      <th>APPLICATION_TYPE_T15</th>\n",
       "      <th>APPLICATION_TYPE_T17</th>\n",
       "      <th>APPLICATION_TYPE_T19</th>\n",
       "      <th>APPLICATION_TYPE_T2</th>\n",
       "      <th>...</th>\n",
       "      <th>INCOME_AMT_1-9999</th>\n",
       "      <th>INCOME_AMT_10000-24999</th>\n",
       "      <th>INCOME_AMT_100000-499999</th>\n",
       "      <th>INCOME_AMT_10M-50M</th>\n",
       "      <th>INCOME_AMT_1M-5M</th>\n",
       "      <th>INCOME_AMT_25000-99999</th>\n",
       "      <th>INCOME_AMT_50M+</th>\n",
       "      <th>INCOME_AMT_5M-10M</th>\n",
       "      <th>SPECIAL_CONSIDERATIONS_N</th>\n",
       "      <th>SPECIAL_CONSIDERATIONS_Y</th>\n",
       "    </tr>\n",
       "  </thead>\n",
       "  <tbody>\n",
       "    <tr>\n",
       "      <th>0</th>\n",
       "      <td>1</td>\n",
       "      <td>5000</td>\n",
       "      <td>1.0</td>\n",
       "      <td>0.0</td>\n",
       "      <td>0.0</td>\n",
       "      <td>0.0</td>\n",
       "      <td>0.0</td>\n",
       "      <td>0.0</td>\n",
       "      <td>0.0</td>\n",
       "      <td>0.0</td>\n",
       "      <td>...</td>\n",
       "      <td>0.0</td>\n",
       "      <td>0.0</td>\n",
       "      <td>0.0</td>\n",
       "      <td>0.0</td>\n",
       "      <td>0.0</td>\n",
       "      <td>0.0</td>\n",
       "      <td>0.0</td>\n",
       "      <td>0.0</td>\n",
       "      <td>1.0</td>\n",
       "      <td>0.0</td>\n",
       "    </tr>\n",
       "    <tr>\n",
       "      <th>1</th>\n",
       "      <td>1</td>\n",
       "      <td>108590</td>\n",
       "      <td>0.0</td>\n",
       "      <td>0.0</td>\n",
       "      <td>0.0</td>\n",
       "      <td>0.0</td>\n",
       "      <td>0.0</td>\n",
       "      <td>0.0</td>\n",
       "      <td>0.0</td>\n",
       "      <td>0.0</td>\n",
       "      <td>...</td>\n",
       "      <td>1.0</td>\n",
       "      <td>0.0</td>\n",
       "      <td>0.0</td>\n",
       "      <td>0.0</td>\n",
       "      <td>0.0</td>\n",
       "      <td>0.0</td>\n",
       "      <td>0.0</td>\n",
       "      <td>0.0</td>\n",
       "      <td>1.0</td>\n",
       "      <td>0.0</td>\n",
       "    </tr>\n",
       "    <tr>\n",
       "      <th>2</th>\n",
       "      <td>1</td>\n",
       "      <td>5000</td>\n",
       "      <td>0.0</td>\n",
       "      <td>0.0</td>\n",
       "      <td>0.0</td>\n",
       "      <td>0.0</td>\n",
       "      <td>0.0</td>\n",
       "      <td>0.0</td>\n",
       "      <td>0.0</td>\n",
       "      <td>0.0</td>\n",
       "      <td>...</td>\n",
       "      <td>0.0</td>\n",
       "      <td>0.0</td>\n",
       "      <td>0.0</td>\n",
       "      <td>0.0</td>\n",
       "      <td>0.0</td>\n",
       "      <td>0.0</td>\n",
       "      <td>0.0</td>\n",
       "      <td>0.0</td>\n",
       "      <td>1.0</td>\n",
       "      <td>0.0</td>\n",
       "    </tr>\n",
       "    <tr>\n",
       "      <th>3</th>\n",
       "      <td>1</td>\n",
       "      <td>6692</td>\n",
       "      <td>0.0</td>\n",
       "      <td>0.0</td>\n",
       "      <td>0.0</td>\n",
       "      <td>0.0</td>\n",
       "      <td>0.0</td>\n",
       "      <td>0.0</td>\n",
       "      <td>0.0</td>\n",
       "      <td>0.0</td>\n",
       "      <td>...</td>\n",
       "      <td>0.0</td>\n",
       "      <td>1.0</td>\n",
       "      <td>0.0</td>\n",
       "      <td>0.0</td>\n",
       "      <td>0.0</td>\n",
       "      <td>0.0</td>\n",
       "      <td>0.0</td>\n",
       "      <td>0.0</td>\n",
       "      <td>1.0</td>\n",
       "      <td>0.0</td>\n",
       "    </tr>\n",
       "    <tr>\n",
       "      <th>4</th>\n",
       "      <td>1</td>\n",
       "      <td>142590</td>\n",
       "      <td>0.0</td>\n",
       "      <td>0.0</td>\n",
       "      <td>0.0</td>\n",
       "      <td>0.0</td>\n",
       "      <td>0.0</td>\n",
       "      <td>0.0</td>\n",
       "      <td>0.0</td>\n",
       "      <td>0.0</td>\n",
       "      <td>...</td>\n",
       "      <td>0.0</td>\n",
       "      <td>0.0</td>\n",
       "      <td>1.0</td>\n",
       "      <td>0.0</td>\n",
       "      <td>0.0</td>\n",
       "      <td>0.0</td>\n",
       "      <td>0.0</td>\n",
       "      <td>0.0</td>\n",
       "      <td>1.0</td>\n",
       "      <td>0.0</td>\n",
       "    </tr>\n",
       "  </tbody>\n",
       "</table>\n",
       "<p>5 rows × 116 columns</p>\n",
       "</div>"
      ],
      "text/plain": [
       "   STATUS  ASK_AMT  APPLICATION_TYPE_T10  APPLICATION_TYPE_T12  \\\n",
       "0       1     5000                   1.0                   0.0   \n",
       "1       1   108590                   0.0                   0.0   \n",
       "2       1     5000                   0.0                   0.0   \n",
       "3       1     6692                   0.0                   0.0   \n",
       "4       1   142590                   0.0                   0.0   \n",
       "\n",
       "   APPLICATION_TYPE_T13  APPLICATION_TYPE_T14  APPLICATION_TYPE_T15  \\\n",
       "0                   0.0                   0.0                   0.0   \n",
       "1                   0.0                   0.0                   0.0   \n",
       "2                   0.0                   0.0                   0.0   \n",
       "3                   0.0                   0.0                   0.0   \n",
       "4                   0.0                   0.0                   0.0   \n",
       "\n",
       "   APPLICATION_TYPE_T17  APPLICATION_TYPE_T19  APPLICATION_TYPE_T2  ...  \\\n",
       "0                   0.0                   0.0                  0.0  ...   \n",
       "1                   0.0                   0.0                  0.0  ...   \n",
       "2                   0.0                   0.0                  0.0  ...   \n",
       "3                   0.0                   0.0                  0.0  ...   \n",
       "4                   0.0                   0.0                  0.0  ...   \n",
       "\n",
       "   INCOME_AMT_1-9999  INCOME_AMT_10000-24999  INCOME_AMT_100000-499999  \\\n",
       "0                0.0                     0.0                       0.0   \n",
       "1                1.0                     0.0                       0.0   \n",
       "2                0.0                     0.0                       0.0   \n",
       "3                0.0                     1.0                       0.0   \n",
       "4                0.0                     0.0                       1.0   \n",
       "\n",
       "   INCOME_AMT_10M-50M  INCOME_AMT_1M-5M  INCOME_AMT_25000-99999  \\\n",
       "0                 0.0               0.0                     0.0   \n",
       "1                 0.0               0.0                     0.0   \n",
       "2                 0.0               0.0                     0.0   \n",
       "3                 0.0               0.0                     0.0   \n",
       "4                 0.0               0.0                     0.0   \n",
       "\n",
       "   INCOME_AMT_50M+  INCOME_AMT_5M-10M  SPECIAL_CONSIDERATIONS_N  \\\n",
       "0              0.0                0.0                       1.0   \n",
       "1              0.0                0.0                       1.0   \n",
       "2              0.0                0.0                       1.0   \n",
       "3              0.0                0.0                       1.0   \n",
       "4              0.0                0.0                       1.0   \n",
       "\n",
       "   SPECIAL_CONSIDERATIONS_Y  \n",
       "0                       0.0  \n",
       "1                       0.0  \n",
       "2                       0.0  \n",
       "3                       0.0  \n",
       "4                       0.0  \n",
       "\n",
       "[5 rows x 116 columns]"
      ]
     },
     "execution_count": 14,
     "metadata": {},
     "output_type": "execute_result"
    }
   ],
   "source": [
    "# Define features set X by selecting all columns but IS_SUCCESSFUL\n",
    "X = encoded_df.drop(columns='IS_SUCCESSFUL')\n",
    "\n",
    "# Review the features DataFrame\n",
    "X.head()\n"
   ]
  },
  {
   "cell_type": "markdown",
   "metadata": {
    "id": "Wgb0PFDKURsG"
   },
   "source": [
    "### Step 6: Split the features and target sets into training and testing datasets.\n"
   ]
  },
  {
   "cell_type": "code",
   "execution_count": 15,
   "metadata": {
    "colab": {
     "base_uri": "https://localhost:8080/",
     "height": 130
    },
    "id": "M_vGfjV4URsG",
    "outputId": "3e4d5433-5f56-45a7-8a68-ec877a10e6f2"
   },
   "outputs": [],
   "source": [
    "# Split the preprocessed data into a training and testing dataset\n",
    "# Assign the function a random_state equal to 1\n",
    "X_train, X_test, y_train, y_test = train_test_split(X, y, random_state=1)\n"
   ]
  },
  {
   "cell_type": "markdown",
   "metadata": {
    "id": "hDcNY8TGURsG"
   },
   "source": [
    "### Step 7: Use scikit-learn's `StandardScaler` to scale the features data."
   ]
  },
  {
   "cell_type": "code",
   "execution_count": 16,
   "metadata": {
    "id": "MWOH8vl-URsG"
   },
   "outputs": [],
   "source": [
    "# Create a StandardScaler instance\n",
    "scaler = StandardScaler()\n",
    "\n",
    "# Fit the scaler to the features training dataset\n",
    "X_scaler = scaler.fit(X_train)\n",
    "\n",
    "# Fit the scaler to the features training dataset\n",
    "X_train_scaled = X_scaler.transform(X_train)\n",
    "X_test_scaled = X_scaler.transform(X_test)\n"
   ]
  },
  {
   "cell_type": "markdown",
   "metadata": {
    "id": "RvE_rJAAURsH"
   },
   "source": [
    "---\n",
    "\n",
    "## Compile and Evaluate a Binary Classification Model Using a Neural Network"
   ]
  },
  {
   "cell_type": "markdown",
   "metadata": {
    "id": "mLD8vtTqURsH"
   },
   "source": [
    "### Step 1: Create a deep neural network by assigning the number of input features, the number of layers, and the number of neurons on each layer using Tensorflow’s Keras.\n",
    "\n",
    "> **Hint** You can start with a two-layer deep neural network model that uses the `relu` activation function for both layers.\n"
   ]
  },
  {
   "cell_type": "code",
   "execution_count": 17,
   "metadata": {
    "id": "K1Vgwz04URsH"
   },
   "outputs": [
    {
     "data": {
      "text/plain": [
       "116"
      ]
     },
     "execution_count": 17,
     "metadata": {},
     "output_type": "execute_result"
    }
   ],
   "source": [
    "# Define the the number of inputs (features) to the model\n",
    "number_input_features = len(X_train.iloc[0])\n",
    "\n",
    "# Review the number of features\n",
    "number_input_features\n"
   ]
  },
  {
   "cell_type": "code",
   "execution_count": 18,
   "metadata": {
    "id": "0mcgkl8SURsH"
   },
   "outputs": [],
   "source": [
    "# Define the number of neurons in the output layer\n",
    "number_output_neurons = 2"
   ]
  },
  {
   "cell_type": "code",
   "execution_count": 19,
   "metadata": {
    "id": "i0Q3iY3wURsH"
   },
   "outputs": [
    {
     "data": {
      "text/plain": [
       "2"
      ]
     },
     "execution_count": 19,
     "metadata": {},
     "output_type": "execute_result"
    }
   ],
   "source": [
    "# Define the number of hidden nodes for the first hidden layer\n",
    "hidden_nodes_layer1 = 2\n",
    "\n",
    "# Review the number hidden nodes in the first layer\n",
    "hidden_nodes_layer1\n"
   ]
  },
  {
   "cell_type": "code",
   "execution_count": 20,
   "metadata": {
    "id": "Ux_lAsrvURsH"
   },
   "outputs": [
    {
     "data": {
      "text/plain": [
       "2"
      ]
     },
     "execution_count": 20,
     "metadata": {},
     "output_type": "execute_result"
    }
   ],
   "source": [
    "# Define the number of hidden nodes for the second hidden layer\n",
    "hidden_nodes_layer2 =  2\n",
    "\n",
    "# Review the number hidden nodes in the second layer\n",
    "hidden_nodes_layer2\n"
   ]
  },
  {
   "cell_type": "code",
   "execution_count": 21,
   "metadata": {
    "id": "1kq9QWhLURsH"
   },
   "outputs": [],
   "source": [
    "# Create the Sequential model instance\n",
    "nn = Sequential()\n"
   ]
  },
  {
   "cell_type": "code",
   "execution_count": 22,
   "metadata": {
    "id": "NcVrWCD_URsI"
   },
   "outputs": [],
   "source": [
    "# Add the first hidden layer\n",
    "nn.add(Dense(input_dim=number_input_features, units=hidden_nodes_layer1, activation=\"relu\"))\n"
   ]
  },
  {
   "cell_type": "code",
   "execution_count": 23,
   "metadata": {
    "id": "Ugxr6lisURsI"
   },
   "outputs": [],
   "source": [
    "# Add the second hidden layer\n",
    "nn.add(Dense(input_dim=number_input_features, units=hidden_nodes_layer2, activation=\"relu\"))\n"
   ]
  },
  {
   "cell_type": "code",
   "execution_count": 24,
   "metadata": {
    "id": "QxcGEyNoURsI"
   },
   "outputs": [],
   "source": [
    "# Add the output layer to the model specifying the number of output neurons and activation function\n",
    "nn.add(Dense(units=number_output_neurons, activation=\"relu\"))\n"
   ]
  },
  {
   "cell_type": "code",
   "execution_count": 25,
   "metadata": {
    "id": "1L2ZVcXgURsI"
   },
   "outputs": [
    {
     "name": "stdout",
     "output_type": "stream",
     "text": [
      "Model: \"sequential\"\n",
      "_________________________________________________________________\n",
      "Layer (type)                 Output Shape              Param #   \n",
      "=================================================================\n",
      "dense (Dense)                (None, 2)                 234       \n",
      "_________________________________________________________________\n",
      "dense_1 (Dense)              (None, 2)                 6         \n",
      "_________________________________________________________________\n",
      "dense_2 (Dense)              (None, 2)                 6         \n",
      "=================================================================\n",
      "Total params: 246\n",
      "Trainable params: 246\n",
      "Non-trainable params: 0\n",
      "_________________________________________________________________\n"
     ]
    }
   ],
   "source": [
    "# Display the Sequential model summary\n",
    "nn.summary()\n"
   ]
  },
  {
   "cell_type": "markdown",
   "metadata": {
    "id": "pzoKsvI3URsI"
   },
   "source": [
    "### Step 2: Compile and fit the model using the `binary_crossentropy` loss function, the `adam` optimizer, and the `accuracy` evaluation metric.\n"
   ]
  },
  {
   "cell_type": "code",
   "execution_count": 26,
   "metadata": {
    "id": "PR8r_cL1URsI"
   },
   "outputs": [],
   "source": [
    "# Compile the Sequential model\n",
    "nn.compile(optimizer='adam',loss='binary_crossentropy', metrics=['accuracy'])\n"
   ]
  },
  {
   "cell_type": "code",
   "execution_count": 27,
   "metadata": {
    "id": "5_z-FPHJURsI",
    "tags": []
   },
   "outputs": [
    {
     "name": "stdout",
     "output_type": "stream",
     "text": [
      "Epoch 1/50\n",
      "804/804 [==============================] - 1s 514us/step - loss: 4.6162 - accuracy: 0.5336\n",
      "Epoch 2/50\n",
      "804/804 [==============================] - 0s 515us/step - loss: 4.5308 - accuracy: 0.5335\n",
      "Epoch 3/50\n",
      "804/804 [==============================] - 0s 478us/step - loss: 4.5224 - accuracy: 0.5335\n",
      "Epoch 4/50\n",
      "804/804 [==============================] - 0s 464us/step - loss: 4.5219 - accuracy: 0.5335\n",
      "Epoch 5/50\n",
      "804/804 [==============================] - 0s 445us/step - loss: 4.5199 - accuracy: 0.5335\n",
      "Epoch 6/50\n",
      "804/804 [==============================] - 0s 453us/step - loss: 4.5161 - accuracy: 0.5335\n",
      "Epoch 7/50\n",
      "804/804 [==============================] - 0s 445us/step - loss: 4.4950 - accuracy: 0.5335\n",
      "Epoch 8/50\n",
      "804/804 [==============================] - 0s 458us/step - loss: 4.4872 - accuracy: 0.5335\n",
      "Epoch 9/50\n",
      "804/804 [==============================] - 0s 496us/step - loss: 4.4725 - accuracy: 0.5335\n",
      "Epoch 10/50\n",
      "804/804 [==============================] - 0s 453us/step - loss: 4.4692 - accuracy: 0.5335\n",
      "Epoch 11/50\n",
      "804/804 [==============================] - 0s 452us/step - loss: 4.4672 - accuracy: 0.5335\n",
      "Epoch 12/50\n",
      "804/804 [==============================] - 0s 451us/step - loss: 4.4644 - accuracy: 0.5335\n",
      "Epoch 13/50\n",
      "804/804 [==============================] - 0s 462us/step - loss: 4.4594 - accuracy: 0.5335\n",
      "Epoch 14/50\n",
      "804/804 [==============================] - 0s 464us/step - loss: 4.4592 - accuracy: 0.5335\n",
      "Epoch 15/50\n",
      "804/804 [==============================] - 0s 463us/step - loss: 4.4596 - accuracy: 0.5335\n",
      "Epoch 16/50\n",
      "804/804 [==============================] - 0s 456us/step - loss: 4.4576 - accuracy: 0.5335\n",
      "Epoch 17/50\n",
      "804/804 [==============================] - 0s 450us/step - loss: 4.4558 - accuracy: 0.5335\n",
      "Epoch 18/50\n",
      "804/804 [==============================] - 0s 452us/step - loss: 4.4547 - accuracy: 0.5335\n",
      "Epoch 19/50\n",
      "804/804 [==============================] - 0s 456us/step - loss: 4.4546 - accuracy: 0.5335\n",
      "Epoch 20/50\n",
      "804/804 [==============================] - 0s 451us/step - loss: 4.4530 - accuracy: 0.5335\n",
      "Epoch 21/50\n",
      "804/804 [==============================] - 0s 451us/step - loss: 4.4483 - accuracy: 0.5335\n",
      "Epoch 22/50\n",
      "804/804 [==============================] - 0s 460us/step - loss: 4.4446 - accuracy: 0.5335\n",
      "Epoch 23/50\n",
      "804/804 [==============================] - 0s 458us/step - loss: 4.4435 - accuracy: 0.5335\n",
      "Epoch 24/50\n",
      "804/804 [==============================] - 0s 455us/step - loss: 4.4411 - accuracy: 0.5335\n",
      "Epoch 25/50\n",
      "804/804 [==============================] - 0s 451us/step - loss: 4.4397 - accuracy: 0.5335\n",
      "Epoch 26/50\n",
      "804/804 [==============================] - 0s 452us/step - loss: 4.4382 - accuracy: 0.5335\n",
      "Epoch 27/50\n",
      "804/804 [==============================] - 0s 449us/step - loss: 4.4346 - accuracy: 0.5335\n",
      "Epoch 28/50\n",
      "804/804 [==============================] - 0s 452us/step - loss: 4.4341 - accuracy: 0.5335\n",
      "Epoch 29/50\n",
      "804/804 [==============================] - 0s 455us/step - loss: 4.4335 - accuracy: 0.5335\n",
      "Epoch 30/50\n",
      "804/804 [==============================] - 0s 448us/step - loss: 4.4344 - accuracy: 0.5335\n",
      "Epoch 31/50\n",
      "804/804 [==============================] - 0s 453us/step - loss: 4.4344 - accuracy: 0.5335\n",
      "Epoch 32/50\n",
      "804/804 [==============================] - 0s 450us/step - loss: 4.4362 - accuracy: 0.5335\n",
      "Epoch 33/50\n",
      "804/804 [==============================] - 0s 453us/step - loss: 4.4337 - accuracy: 0.5335\n",
      "Epoch 34/50\n",
      "804/804 [==============================] - 0s 451us/step - loss: 4.4325 - accuracy: 0.5335\n",
      "Epoch 35/50\n",
      "804/804 [==============================] - 0s 481us/step - loss: 4.4316 - accuracy: 0.5335\n",
      "Epoch 36/50\n",
      "804/804 [==============================] - 0s 460us/step - loss: 4.4320 - accuracy: 0.5335\n",
      "Epoch 37/50\n",
      "804/804 [==============================] - 0s 451us/step - loss: 4.4317 - accuracy: 0.5335\n",
      "Epoch 38/50\n",
      "804/804 [==============================] - 0s 452us/step - loss: 4.4320 - accuracy: 0.5335\n",
      "Epoch 39/50\n",
      "804/804 [==============================] - 0s 452us/step - loss: 4.4334 - accuracy: 0.5335\n",
      "Epoch 40/50\n",
      "804/804 [==============================] - 0s 449us/step - loss: 4.4319 - accuracy: 0.5335\n",
      "Epoch 41/50\n",
      "804/804 [==============================] - 0s 454us/step - loss: 4.4323 - accuracy: 0.5335\n",
      "Epoch 42/50\n",
      "804/804 [==============================] - 0s 451us/step - loss: 4.4328 - accuracy: 0.5335\n",
      "Epoch 43/50\n",
      "804/804 [==============================] - 0s 453us/step - loss: 4.4315 - accuracy: 0.5335\n",
      "Epoch 44/50\n",
      "804/804 [==============================] - 0s 448us/step - loss: 4.4314 - accuracy: 0.5335\n",
      "Epoch 45/50\n",
      "804/804 [==============================] - 0s 461us/step - loss: 4.4298 - accuracy: 0.5335\n",
      "Epoch 46/50\n",
      "804/804 [==============================] - 0s 494us/step - loss: 4.4308 - accuracy: 0.5335\n",
      "Epoch 47/50\n",
      "804/804 [==============================] - 0s 497us/step - loss: 4.4294 - accuracy: 0.5335\n",
      "Epoch 48/50\n",
      "804/804 [==============================] - 0s 484us/step - loss: 4.4294 - accuracy: 0.5335\n",
      "Epoch 49/50\n",
      "804/804 [==============================] - 0s 508us/step - loss: 4.4306 - accuracy: 0.5335\n",
      "Epoch 50/50\n",
      "804/804 [==============================] - 0s 504us/step - loss: 4.4302 - accuracy: 0.5335\n"
     ]
    }
   ],
   "source": [
    "# Fit the model using 50 epochs and the training data\n",
    "model = nn.fit(X_train_scaled, y_train, epochs=50)"
   ]
  },
  {
   "cell_type": "markdown",
   "metadata": {
    "id": "JIbFSQ-FURsI"
   },
   "source": [
    "### Step 3: Evaluate the model using the test data to determine the model’s loss and accuracy.\n"
   ]
  },
  {
   "cell_type": "code",
   "execution_count": null,
   "metadata": {},
   "outputs": [],
   "source": []
  },
  {
   "cell_type": "code",
   "execution_count": 28,
   "metadata": {
    "id": "rWaHGdGrURsI"
   },
   "outputs": [
    {
     "name": "stdout",
     "output_type": "stream",
     "text": [
      "268/268 - 0s - loss: 4.4074 - accuracy: 0.5292\n",
      "Loss: 4.407398223876953, Accuracy: 0.5292128324508667\n"
     ]
    }
   ],
   "source": [
    "# Evaluate the model loss and accuracy metrics using the evaluate method and the test data\n",
    "model_loss, model_accuracy = nn.evaluate(\n",
    "    X_test_scaled, y_test, verbose=2\n",
    ")\n",
    "\n",
    "# Display the model loss and accuracy results\n",
    "print(f\"Loss: {model_loss}, Accuracy: {model_accuracy}\")"
   ]
  },
  {
   "cell_type": "code",
   "execution_count": 29,
   "metadata": {},
   "outputs": [],
   "source": [
    "from pathlib import Path"
   ]
  },
  {
   "cell_type": "markdown",
   "metadata": {
    "id": "ppT2iIP5URsJ"
   },
   "source": [
    "### Step 4: Save and export your model to an HDF5 file, and name the file `AlphabetSoup.h5`. \n"
   ]
  },
  {
   "cell_type": "code",
   "execution_count": 30,
   "metadata": {
    "id": "iOuA28RQURsJ"
   },
   "outputs": [],
   "source": [
    "# Set the model's file path\n",
    "file_path = Path(\"Resources/AlphabeSoup.h5\")\n",
    "# Export your model to a HDF5 file\n",
    "nn.save(file_path)\n"
   ]
  },
  {
   "cell_type": "markdown",
   "metadata": {
    "id": "xlN5E4WfURsJ"
   },
   "source": [
    "---\n",
    "\n",
    "## Optimize the neural network model\n"
   ]
  },
  {
   "cell_type": "code",
   "execution_count": null,
   "metadata": {},
   "outputs": [],
   "source": []
  },
  {
   "cell_type": "markdown",
   "metadata": {
    "id": "0q7pN2XKURsJ"
   },
   "source": [
    "### Step 1: Define at least three new deep neural network models (resulting in the original plus 3 optimization attempts). With each, try to improve on your first model’s predictive accuracy.\n",
    "\n",
    "> **Rewind** Recall that perfect accuracy has a value of 1, so accuracy improves as its value moves closer to 1. To optimize your model for a predictive accuracy as close to 1 as possible, you can use any or all of the following techniques:\n",
    ">\n",
    "> * Adjust the input data by dropping different features columns to ensure that no variables or outliers confuse the model.\n",
    ">\n",
    "> * Add more neurons (nodes) to a hidden layer.\n",
    ">\n",
    "> * Add more hidden layers.\n",
    ">\n",
    "> * Use different activation functions for the hidden layers.\n",
    ">\n",
    "> * Add to or reduce the number of epochs in the training regimen.\n"
   ]
  },
  {
   "cell_type": "markdown",
   "metadata": {
    "id": "slhZ-iS1URsJ"
   },
   "source": [
    "### Alternative Model 1"
   ]
  },
  {
   "cell_type": "code",
   "execution_count": 31,
   "metadata": {
    "id": "zqbrMOgCURsJ"
   },
   "outputs": [
    {
     "data": {
      "text/plain": [
       "116"
      ]
     },
     "execution_count": 31,
     "metadata": {},
     "output_type": "execute_result"
    }
   ],
   "source": [
    "# Define the the number of inputs (features) to the model\n",
    "number_input_features = len(X_train.iloc[0])\n",
    "\n",
    "# Review the number of features\n",
    "number_input_features"
   ]
  },
  {
   "cell_type": "code",
   "execution_count": 32,
   "metadata": {
    "id": "U3rrh76sURsJ"
   },
   "outputs": [],
   "source": [
    "# Define the number of neurons in the output layer\n",
    "number_output_neurons_A1 = 12"
   ]
  },
  {
   "cell_type": "code",
   "execution_count": 33,
   "metadata": {
    "id": "lMOrWGBKURsJ"
   },
   "outputs": [
    {
     "data": {
      "text/plain": [
       "12"
      ]
     },
     "execution_count": 33,
     "metadata": {},
     "output_type": "execute_result"
    }
   ],
   "source": [
    "# Define the number of hidden nodes for the first hidden layer\n",
    "hidden_nodes_layer1_A1 = 12\n",
    "\n",
    "# Review the number of hidden nodes in the first layer\n",
    "hidden_nodes_layer1_A1"
   ]
  },
  {
   "cell_type": "code",
   "execution_count": 34,
   "metadata": {},
   "outputs": [
    {
     "data": {
      "text/plain": [
       "8"
      ]
     },
     "execution_count": 34,
     "metadata": {},
     "output_type": "execute_result"
    }
   ],
   "source": [
    "# Define the number of hidden nodes for the Second hidden layer\n",
    "hidden_nodes_layer2_A1 = 8\n",
    "\n",
    "# Review the number of hidden nodes in the Second layer\n",
    "hidden_nodes_layer2_A1"
   ]
  },
  {
   "cell_type": "code",
   "execution_count": 35,
   "metadata": {},
   "outputs": [
    {
     "data": {
      "text/plain": [
       "6"
      ]
     },
     "execution_count": 35,
     "metadata": {},
     "output_type": "execute_result"
    }
   ],
   "source": [
    "# Define the number of hidden nodes for the Third hidden layer\n",
    "hidden_nodes_layer3_A1 = 6\n",
    "\n",
    "# Review the number of hidden nodes in the Third layer\n",
    "hidden_nodes_layer3_A1"
   ]
  },
  {
   "cell_type": "code",
   "execution_count": 36,
   "metadata": {
    "id": "efNsx7TfURsK"
   },
   "outputs": [],
   "source": [
    "# Create the Sequential model instance\n",
    "nn_A1 = Sequential()"
   ]
  },
  {
   "cell_type": "code",
   "execution_count": 37,
   "metadata": {
    "id": "0uMhdXQWURsK"
   },
   "outputs": [
    {
     "name": "stdout",
     "output_type": "stream",
     "text": [
      "Model: \"sequential_1\"\n",
      "_________________________________________________________________\n",
      "Layer (type)                 Output Shape              Param #   \n",
      "=================================================================\n",
      "dense_3 (Dense)              (None, 12)                1404      \n",
      "_________________________________________________________________\n",
      "dense_4 (Dense)              (None, 8)                 104       \n",
      "_________________________________________________________________\n",
      "dense_5 (Dense)              (None, 6)                 54        \n",
      "_________________________________________________________________\n",
      "dense_6 (Dense)              (None, 12)                84        \n",
      "=================================================================\n",
      "Total params: 1,646\n",
      "Trainable params: 1,646\n",
      "Non-trainable params: 0\n",
      "_________________________________________________________________\n"
     ]
    }
   ],
   "source": [
    "# First hidden layer\n",
    "nn_A1.add(Dense(input_dim=number_input_features, units=hidden_nodes_layer1_A1, activation=\"relu\"))\n",
    "\n",
    "# Second hidden layer\n",
    "nn_A1.add(Dense(input_dim=number_input_features, units=hidden_nodes_layer2_A1, activation=\"linear\"))\n",
    "\n",
    "# Third hidden layer\n",
    "nn_A1.add(Dense(input_dim=number_input_features, units=hidden_nodes_layer3_A1, activation=\"relu\"))\n",
    "\n",
    "# Output layer\n",
    "nn_A1.add(Dense(units=number_output_neurons_A1, activation=\"linear\"))\n",
    "\n",
    "\n",
    "# Check the structure of the model\n",
    "nn_A1.summary()"
   ]
  },
  {
   "cell_type": "code",
   "execution_count": 38,
   "metadata": {
    "id": "2gDpRhG7URsK"
   },
   "outputs": [],
   "source": [
    "# Compile the Sequential model\n",
    "nn_A1.compile(optimizer='adam',loss='binary_crossentropy', metrics=['accuracy'])\n"
   ]
  },
  {
   "cell_type": "code",
   "execution_count": null,
   "metadata": {
    "id": "zE4UD4NyURsK"
   },
   "outputs": [
    {
     "name": "stdout",
     "output_type": "stream",
     "text": [
      "Epoch 1/250\n",
      "804/804 [==============================] - 1s 478us/step - loss: 3.1938 - accuracy: 0.0052\n",
      "Epoch 2/250\n",
      "804/804 [==============================] - 0s 474us/step - loss: 2.1179 - accuracy: 0.0089\n",
      "Epoch 3/250\n",
      "804/804 [==============================] - 0s 490us/step - loss: 1.3406 - accuracy: 0.0079\n",
      "Epoch 4/250\n",
      "804/804 [==============================] - 0s 516us/step - loss: 1.3012 - accuracy: 0.0034\n",
      "Epoch 5/250\n",
      "804/804 [==============================] - 0s 529us/step - loss: 1.2701 - accuracy: 0.0207\n",
      "Epoch 6/250\n",
      "804/804 [==============================] - 0s 504us/step - loss: 1.2409 - accuracy: 0.0232\n",
      "Epoch 7/250\n",
      "804/804 [==============================] - 0s 578us/step - loss: 0.6713 - accuracy: 0.0054\n",
      "Epoch 8/250\n",
      "804/804 [==============================] - 0s 525us/step - loss: 0.5896 - accuracy: 0.2063\n",
      "Epoch 9/250\n",
      "804/804 [==============================] - 0s 590us/step - loss: 0.5852 - accuracy: 0.2916\n",
      "Epoch 10/250\n",
      "804/804 [==============================] - 0s 550us/step - loss: 0.5792 - accuracy: 0.3106\n",
      "Epoch 11/250\n",
      "804/804 [==============================] - 0s 549us/step - loss: 0.5743 - accuracy: 0.25210s - loss: 0.5729 - accuracy\n",
      "Epoch 12/250\n",
      "804/804 [==============================] - 0s 529us/step - loss: 0.5730 - accuracy: 0.2258\n",
      "Epoch 13/250\n",
      "804/804 [==============================] - 0s 523us/step - loss: 0.5816 - accuracy: 0.2183\n",
      "Epoch 14/250\n",
      "804/804 [==============================] - 0s 535us/step - loss: 0.5789 - accuracy: 0.2439\n",
      "Epoch 15/250\n",
      "804/804 [==============================] - 0s 499us/step - loss: 0.5735 - accuracy: 0.1580\n",
      "Epoch 16/250\n",
      "804/804 [==============================] - 0s 523us/step - loss: 0.5681 - accuracy: 0.1373\n",
      "Epoch 17/250\n",
      "804/804 [==============================] - 0s 490us/step - loss: 0.5632 - accuracy: 0.1507\n",
      "Epoch 18/250\n",
      "804/804 [==============================] - 0s 488us/step - loss: 0.5644 - accuracy: 0.1356\n",
      "Epoch 19/250\n",
      "804/804 [==============================] - 0s 489us/step - loss: 0.5660 - accuracy: 0.1202\n",
      "Epoch 20/250\n",
      "804/804 [==============================] - 0s 520us/step - loss: 0.5622 - accuracy: 0.09870s - loss: 0.5622 - accuracy: 0.09\n",
      "Epoch 21/250\n",
      "804/804 [==============================] - 0s 547us/step - loss: 0.5648 - accuracy: 0.0511\n",
      "Epoch 22/250\n",
      "804/804 [==============================] - 0s 529us/step - loss: 0.5608 - accuracy: 0.0311\n",
      "Epoch 23/250\n",
      "804/804 [==============================] - 0s 491us/step - loss: 0.5587 - accuracy: 0.0532\n",
      "Epoch 24/250\n",
      "804/804 [==============================] - 0s 488us/step - loss: 0.5590 - accuracy: 0.0587\n",
      "Epoch 25/250\n",
      "804/804 [==============================] - 0s 488us/step - loss: 0.5588 - accuracy: 0.0098\n",
      "Epoch 26/250\n",
      "804/804 [==============================] - 0s 493us/step - loss: 0.5590 - accuracy: 0.0418\n",
      "Epoch 27/250\n",
      "804/804 [==============================] - 0s 554us/step - loss: 0.5616 - accuracy: 0.0077\n",
      "Epoch 28/250\n",
      "804/804 [==============================] - 0s 501us/step - loss: 0.5641 - accuracy: 0.0696\n",
      "Epoch 29/250\n",
      "804/804 [==============================] - 0s 526us/step - loss: 0.5557 - accuracy: 0.0650\n",
      "Epoch 30/250\n",
      "804/804 [==============================] - 0s 524us/step - loss: 0.5579 - accuracy: 0.0924\n",
      "Epoch 31/250\n",
      "804/804 [==============================] - 0s 491us/step - loss: 0.5586 - accuracy: 0.2253\n",
      "Epoch 32/250\n",
      "804/804 [==============================] - 0s 492us/step - loss: 0.5585 - accuracy: 0.1147\n",
      "Epoch 33/250\n",
      "804/804 [==============================] - 0s 488us/step - loss: 0.5572 - accuracy: 0.0452\n",
      "Epoch 34/250\n",
      "804/804 [==============================] - 0s 565us/step - loss: 0.5565 - accuracy: 0.0432\n",
      "Epoch 35/250\n",
      "804/804 [==============================] - 0s 514us/step - loss: 0.5575 - accuracy: 0.1738\n",
      "Epoch 36/250\n",
      "804/804 [==============================] - 0s 487us/step - loss: 0.5609 - accuracy: 0.1010\n",
      "Epoch 37/250\n",
      "804/804 [==============================] - 0s 490us/step - loss: 0.5577 - accuracy: 0.0079\n",
      "Epoch 38/250\n",
      "804/804 [==============================] - 0s 491us/step - loss: 0.5556 - accuracy: 0.0119\n",
      "Epoch 39/250\n",
      "804/804 [==============================] - 0s 499us/step - loss: 0.5575 - accuracy: 0.0029\n",
      "Epoch 40/250\n",
      "804/804 [==============================] - 0s 493us/step - loss: 0.5599 - accuracy: 0.0168\n",
      "Epoch 41/250\n",
      "804/804 [==============================] - 0s 516us/step - loss: 0.5548 - accuracy: 0.0290\n",
      "Epoch 42/250\n",
      "804/804 [==============================] - 0s 523us/step - loss: 0.5608 - accuracy: 0.0631\n",
      "Epoch 43/250\n",
      "804/804 [==============================] - 0s 532us/step - loss: 0.5603 - accuracy: 0.0353\n",
      "Epoch 44/250\n",
      "804/804 [==============================] - 1s 645us/step - loss: 0.5575 - accuracy: 6.9974e-04\n",
      "Epoch 45/250\n",
      "804/804 [==============================] - 0s 505us/step - loss: 0.5562 - accuracy: 0.0328\n",
      "Epoch 46/250\n",
      "804/804 [==============================] - 0s 513us/step - loss: 0.5565 - accuracy: 0.0287\n",
      "Epoch 47/250\n",
      "804/804 [==============================] - 0s 486us/step - loss: 0.5541 - accuracy: 0.0336\n",
      "Epoch 48/250\n",
      "804/804 [==============================] - 0s 505us/step - loss: 0.5553 - accuracy: 0.0141\n",
      "Epoch 49/250\n",
      "804/804 [==============================] - 0s 522us/step - loss: 0.5530 - accuracy: 0.0067\n",
      "Epoch 50/250\n",
      "804/804 [==============================] - 0s 487us/step - loss: 0.5534 - accuracy: 0.0357\n",
      "Epoch 51/250\n",
      "804/804 [==============================] - 0s 545us/step - loss: 0.5550 - accuracy: 0.0224\n",
      "Epoch 52/250\n",
      "804/804 [==============================] - 0s 506us/step - loss: 0.5539 - accuracy: 0.1393\n",
      "Epoch 53/250\n",
      "804/804 [==============================] - 0s 532us/step - loss: 0.5529 - accuracy: 0.1118\n",
      "Epoch 54/250\n",
      "804/804 [==============================] - 0s 515us/step - loss: 0.5558 - accuracy: 0.1051\n",
      "Epoch 55/250\n",
      "804/804 [==============================] - 0s 533us/step - loss: 0.5553 - accuracy: 0.1629\n",
      "Epoch 56/250\n",
      "804/804 [==============================] - 0s 549us/step - loss: 0.5628 - accuracy: 0.1123\n",
      "Epoch 57/250\n",
      "804/804 [==============================] - 0s 565us/step - loss: 0.5573 - accuracy: 0.0632\n",
      "Epoch 58/250\n",
      "804/804 [==============================] - 0s 522us/step - loss: 0.5579 - accuracy: 0.0447\n",
      "Epoch 59/250\n",
      "804/804 [==============================] - 0s 505us/step - loss: 0.5602 - accuracy: 0.0231\n",
      "Epoch 60/250\n",
      "804/804 [==============================] - 0s 498us/step - loss: 0.5612 - accuracy: 0.0208\n",
      "Epoch 61/250\n",
      "804/804 [==============================] - 0s 527us/step - loss: 0.5610 - accuracy: 0.0518\n",
      "Epoch 62/250\n",
      "804/804 [==============================] - 0s 519us/step - loss: 0.5609 - accuracy: 0.0091\n",
      "Epoch 63/250\n",
      "804/804 [==============================] - 0s 517us/step - loss: 0.5574 - accuracy: 0.0155\n",
      "Epoch 64/250\n",
      "804/804 [==============================] - 0s 550us/step - loss: 0.5549 - accuracy: 0.0124\n",
      "Epoch 65/250\n",
      "804/804 [==============================] - 0s 492us/step - loss: 0.5552 - accuracy: 3.1099e-04\n",
      "Epoch 66/250\n",
      "804/804 [==============================] - 0s 510us/step - loss: 0.5585 - accuracy: 0.0047\n",
      "Epoch 67/250\n",
      "804/804 [==============================] - 0s 521us/step - loss: 0.5567 - accuracy: 0.0182\n",
      "Epoch 68/250\n",
      "804/804 [==============================] - 0s 505us/step - loss: 0.5564 - accuracy: 0.0050\n",
      "Epoch 69/250\n",
      "804/804 [==============================] - 0s 511us/step - loss: 0.5578 - accuracy: 0.0116\n",
      "Epoch 70/250\n",
      "804/804 [==============================] - 0s 532us/step - loss: 0.5604 - accuracy: 0.0067\n",
      "Epoch 71/250\n",
      "804/804 [==============================] - 0s 501us/step - loss: 0.5588 - accuracy: 6.2199e-04\n",
      "Epoch 72/250\n",
      "804/804 [==============================] - 0s 487us/step - loss: 0.5595 - accuracy: 0.0229\n",
      "Epoch 73/250\n",
      "804/804 [==============================] - 0s 510us/step - loss: 0.5601 - accuracy: 0.0131TA: 0s - loss: 0.5604 - accuracy: 0.\n",
      "Epoch 74/250\n",
      "804/804 [==============================] - 0s 490us/step - loss: 0.5582 - accuracy: 0.0478\n",
      "Epoch 75/250\n",
      "804/804 [==============================] - 0s 499us/step - loss: 0.5567 - accuracy: 0.1216\n",
      "Epoch 76/250\n",
      "804/804 [==============================] - 0s 498us/step - loss: 0.5590 - accuracy: 0.0372\n",
      "Epoch 77/250\n",
      "804/804 [==============================] - 0s 517us/step - loss: 0.5614 - accuracy: 0.1219\n",
      "Epoch 78/250\n",
      "804/804 [==============================] - 0s 497us/step - loss: 0.5634 - accuracy: 0.2486\n",
      "Epoch 79/250\n",
      "804/804 [==============================] - 0s 575us/step - loss: 0.5580 - accuracy: 0.1054\n",
      "Epoch 80/250\n",
      "804/804 [==============================] - 0s 599us/step - loss: 0.5596 - accuracy: 0.2556\n",
      "Epoch 81/250\n",
      "804/804 [==============================] - 0s 547us/step - loss: 0.5594 - accuracy: 0.1889\n",
      "Epoch 82/250\n",
      "804/804 [==============================] - 0s 528us/step - loss: 0.5573 - accuracy: 0.2800\n",
      "Epoch 83/250\n",
      "804/804 [==============================] - 0s 545us/step - loss: 0.5590 - accuracy: 0.2498\n",
      "Epoch 84/250\n",
      "804/804 [==============================] - 0s 507us/step - loss: 0.5619 - accuracy: 0.2317\n",
      "Epoch 85/250\n",
      "804/804 [==============================] - 0s 493us/step - loss: 0.5585 - accuracy: 0.1689\n",
      "Epoch 86/250\n",
      "804/804 [==============================] - 0s 484us/step - loss: 0.5616 - accuracy: 0.0500\n",
      "Epoch 87/250\n",
      "804/804 [==============================] - 0s 493us/step - loss: 0.5603 - accuracy: 5.4424e-04\n",
      "Epoch 88/250\n",
      "804/804 [==============================] - 0s 487us/step - loss: 0.5580 - accuracy: 0.0473\n",
      "Epoch 89/250\n",
      "804/804 [==============================] - 0s 493us/step - loss: 0.5598 - accuracy: 0.0475\n",
      "Epoch 90/250\n",
      "804/804 [==============================] - 0s 493us/step - loss: 0.5665 - accuracy: 0.0958\n",
      "Epoch 91/250\n",
      "804/804 [==============================] - 0s 489us/step - loss: 0.5618 - accuracy: 0.0781\n",
      "Epoch 92/250\n",
      "804/804 [==============================] - 0s 493us/step - loss: 0.5584 - accuracy: 0.0340\n",
      "Epoch 93/250\n",
      "804/804 [==============================] - 0s 491us/step - loss: 0.5548 - accuracy: 0.0199\n",
      "Epoch 94/250\n",
      "804/804 [==============================] - 0s 505us/step - loss: 0.5539 - accuracy: 0.0357\n",
      "Epoch 95/250\n",
      "804/804 [==============================] - 0s 496us/step - loss: 0.5620 - accuracy: 0.0126\n",
      "Epoch 96/250\n",
      "804/804 [==============================] - 0s 491us/step - loss: 0.5557 - accuracy: 0.1140\n",
      "Epoch 97/250\n",
      "804/804 [==============================] - 0s 487us/step - loss: 0.5558 - accuracy: 0.0451\n",
      "Epoch 98/250\n",
      "804/804 [==============================] - 0s 488us/step - loss: 0.5541 - accuracy: 0.0334\n",
      "Epoch 99/250\n",
      "804/804 [==============================] - 0s 489us/step - loss: 0.5527 - accuracy: 0.0713\n",
      "Epoch 100/250\n",
      "804/804 [==============================] - 0s 487us/step - loss: 0.5531 - accuracy: 0.1849\n",
      "Epoch 101/250\n",
      "804/804 [==============================] - 0s 475us/step - loss: 0.5587 - accuracy: 0.1048\n",
      "Epoch 102/250\n",
      "804/804 [==============================] - 0s 475us/step - loss: 0.5574 - accuracy: 0.0211\n",
      "Epoch 103/250\n",
      "804/804 [==============================] - 0s 486us/step - loss: 0.5551 - accuracy: 0.0283\n",
      "Epoch 104/250\n",
      "804/804 [==============================] - 0s 494us/step - loss: 0.5507 - accuracy: 0.0049\n",
      "Epoch 105/250\n",
      "804/804 [==============================] - 0s 496us/step - loss: 0.5546 - accuracy: 0.0135\n",
      "Epoch 106/250\n",
      "804/804 [==============================] - 0s 513us/step - loss: 0.5531 - accuracy: 0.0080\n",
      "Epoch 107/250\n",
      "804/804 [==============================] - 0s 545us/step - loss: 0.5525 - accuracy: 0.0152\n",
      "Epoch 108/250\n",
      "804/804 [==============================] - 0s 509us/step - loss: 0.5551 - accuracy: 0.0369\n",
      "Epoch 109/250\n",
      "804/804 [==============================] - 0s 495us/step - loss: 0.5581 - accuracy: 0.3975\n",
      "Epoch 110/250\n",
      "804/804 [==============================] - 0s 491us/step - loss: 0.5644 - accuracy: 0.4326\n",
      "Epoch 111/250\n",
      "804/804 [==============================] - 0s 491us/step - loss: 0.5610 - accuracy: 0.3978\n",
      "Epoch 112/250\n",
      "804/804 [==============================] - 0s 529us/step - loss: 0.5589 - accuracy: 0.3527\n",
      "Epoch 113/250\n",
      "804/804 [==============================] - 0s 505us/step - loss: 0.5584 - accuracy: 0.1442\n",
      "Epoch 114/250\n",
      "804/804 [==============================] - 0s 502us/step - loss: 0.5554 - accuracy: 0.0450\n",
      "Epoch 115/250\n",
      "804/804 [==============================] - 0s 528us/step - loss: 0.5536 - accuracy: 0.0570\n",
      "Epoch 116/250\n",
      "804/804 [==============================] - 0s 513us/step - loss: 0.5542 - accuracy: 0.0430\n",
      "Epoch 117/250\n",
      "804/804 [==============================] - 0s 490us/step - loss: 0.5535 - accuracy: 0.0567\n",
      "Epoch 118/250\n",
      "804/804 [==============================] - 0s 489us/step - loss: 0.5554 - accuracy: 0.1139\n",
      "Epoch 119/250\n",
      "804/804 [==============================] - 0s 492us/step - loss: 0.5520 - accuracy: 0.0826\n",
      "Epoch 120/250\n",
      "804/804 [==============================] - 0s 523us/step - loss: 0.5522 - accuracy: 0.0741\n",
      "Epoch 121/250\n",
      "804/804 [==============================] - 0s 523us/step - loss: 0.5530 - accuracy: 0.0729\n",
      "Epoch 122/250\n",
      "804/804 [==============================] - 0s 508us/step - loss: 0.5527 - accuracy: 0.0398\n",
      "Epoch 123/250\n",
      "804/804 [==============================] - 0s 494us/step - loss: 0.5506 - accuracy: 0.0790\n",
      "Epoch 124/250\n",
      "804/804 [==============================] - 0s 502us/step - loss: 0.5529 - accuracy: 0.0256\n",
      "Epoch 125/250\n",
      "804/804 [==============================] - 0s 502us/step - loss: 0.5576 - accuracy: 0.0592\n",
      "Epoch 126/250\n",
      "804/804 [==============================] - 0s 491us/step - loss: 0.5532 - accuracy: 0.0760\n",
      "Epoch 127/250\n",
      "804/804 [==============================] - 0s 494us/step - loss: 0.5507 - accuracy: 0.0950\n",
      "Epoch 128/250\n",
      "804/804 [==============================] - 0s 489us/step - loss: 0.5563 - accuracy: 0.0447\n",
      "Epoch 129/250\n",
      "804/804 [==============================] - 0s 493us/step - loss: 0.5515 - accuracy: 0.0411\n",
      "Epoch 130/250\n",
      "804/804 [==============================] - 0s 489us/step - loss: 0.5539 - accuracy: 0.0570\n",
      "Epoch 131/250\n",
      "804/804 [==============================] - 0s 504us/step - loss: 0.5526 - accuracy: 0.0793\n",
      "Epoch 132/250\n",
      "804/804 [==============================] - 0s 495us/step - loss: 0.5538 - accuracy: 0.0841\n",
      "Epoch 133/250\n",
      "804/804 [==============================] - 0s 490us/step - loss: 0.5555 - accuracy: 0.0544\n",
      "Epoch 134/250\n",
      "804/804 [==============================] - 0s 494us/step - loss: 0.5534 - accuracy: 0.0155\n",
      "Epoch 135/250\n",
      "804/804 [==============================] - 0s 496us/step - loss: 0.5545 - accuracy: 0.0365\n",
      "Epoch 136/250\n",
      "804/804 [==============================] - 0s 492us/step - loss: 0.5569 - accuracy: 0.0403\n",
      "Epoch 137/250\n",
      "804/804 [==============================] - 0s 506us/step - loss: 0.5555 - accuracy: 0.0340\n",
      "Epoch 138/250\n",
      "804/804 [==============================] - 0s 495us/step - loss: 0.5532 - accuracy: 9.7186e-04\n",
      "Epoch 139/250\n",
      "804/804 [==============================] - 0s 510us/step - loss: 0.5577 - accuracy: 0.0093\n",
      "Epoch 140/250\n",
      "804/804 [==============================] - 0s 538us/step - loss: 0.5557 - accuracy: 0.0023\n",
      "Epoch 141/250\n",
      "804/804 [==============================] - 0s 547us/step - loss: 0.5543 - accuracy: 6.9974e-04\n",
      "Epoch 142/250\n",
      "804/804 [==============================] - 0s 503us/step - loss: 0.5542 - accuracy: 0.0061\n",
      "Epoch 143/250\n",
      "804/804 [==============================] - 0s 483us/step - loss: 0.5539 - accuracy: 0.0089\n",
      "Epoch 144/250\n",
      "804/804 [==============================] - 0s 536us/step - loss: 0.5557 - accuracy: 0.0031\n",
      "Epoch 145/250\n",
      "804/804 [==============================] - 0s 529us/step - loss: 0.5544 - accuracy: 0.0000e+00\n",
      "Epoch 146/250\n",
      "804/804 [==============================] - 0s 545us/step - loss: 0.5554 - accuracy: 0.0070\n",
      "Epoch 147/250\n",
      "804/804 [==============================] - 0s 532us/step - loss: 0.5566 - accuracy: 0.0015\n",
      "Epoch 148/250\n",
      "804/804 [==============================] - 0s 573us/step - loss: 0.5540 - accuracy: 0.0013\n",
      "Epoch 149/250\n",
      "804/804 [==============================] - 0s 554us/step - loss: 0.5538 - accuracy: 0.0036\n",
      "Epoch 150/250\n",
      "804/804 [==============================] - 0s 523us/step - loss: 0.5541 - accuracy: 0.0119\n",
      "Epoch 151/250\n",
      "804/804 [==============================] - 0s 562us/step - loss: 0.5522 - accuracy: 0.0037\n",
      "Epoch 152/250\n",
      "804/804 [==============================] - 0s 530us/step - loss: 0.5531 - accuracy: 0.0157\n",
      "Epoch 153/250\n",
      "804/804 [==============================] - 0s 512us/step - loss: 0.5569 - accuracy: 0.0539\n",
      "Epoch 154/250\n",
      "804/804 [==============================] - 0s 550us/step - loss: 0.5532 - accuracy: 0.0235\n",
      "Epoch 155/250\n",
      "804/804 [==============================] - 0s 556us/step - loss: 0.5519 - accuracy: 0.0029\n",
      "Epoch 156/250\n",
      "804/804 [==============================] - 0s 521us/step - loss: 0.5535 - accuracy: 5.0536e-04\n",
      "Epoch 157/250\n",
      "804/804 [==============================] - 0s 539us/step - loss: 0.5575 - accuracy: 2.7212e-04\n",
      "Epoch 158/250\n",
      "804/804 [==============================] - 0s 548us/step - loss: 0.5565 - accuracy: 0.0030\n",
      "Epoch 159/250\n",
      "804/804 [==============================] - 0s 553us/step - loss: 0.5565 - accuracy: 3.8874e-04\n",
      "Epoch 160/250\n",
      "804/804 [==============================] - 0s 538us/step - loss: 0.5521 - accuracy: 0.0012\n",
      "Epoch 161/250\n",
      "804/804 [==============================] - 0s 528us/step - loss: 0.5519 - accuracy: 0.0031\n",
      "Epoch 162/250\n",
      "804/804 [==============================] - 0s 522us/step - loss: 0.5546 - accuracy: 0.0109\n",
      "Epoch 163/250\n",
      "804/804 [==============================] - 0s 513us/step - loss: 0.5576 - accuracy: 0.1850\n",
      "Epoch 164/250\n",
      "804/804 [==============================] - 0s 518us/step - loss: 0.5550 - accuracy: 0.3346\n",
      "Epoch 165/250\n",
      "804/804 [==============================] - 0s 507us/step - loss: 0.5543 - accuracy: 0.3449\n",
      "Epoch 166/250\n",
      "804/804 [==============================] - 0s 514us/step - loss: 0.5539 - accuracy: 0.3810\n",
      "Epoch 167/250\n",
      "804/804 [==============================] - 0s 503us/step - loss: 0.5521 - accuracy: 0.2961\n",
      "Epoch 168/250\n",
      "804/804 [==============================] - 0s 517us/step - loss: 0.5540 - accuracy: 0.2016\n",
      "Epoch 169/250\n",
      "804/804 [==============================] - 0s 538us/step - loss: 0.5517 - accuracy: 0.2060\n",
      "Epoch 170/250\n",
      "804/804 [==============================] - 0s 510us/step - loss: 0.5543 - accuracy: 0.0684\n",
      "Epoch 171/250\n",
      "804/804 [==============================] - 0s 533us/step - loss: 0.5537 - accuracy: 0.0725\n",
      "Epoch 172/250\n",
      "804/804 [==============================] - 0s 563us/step - loss: 0.5574 - accuracy: 0.1193\n",
      "Epoch 173/250\n",
      "804/804 [==============================] - 0s 509us/step - loss: 0.5522 - accuracy: 0.0924\n",
      "Epoch 174/250\n",
      "804/804 [==============================] - 0s 579us/step - loss: 0.5514 - accuracy: 0.0256\n",
      "Epoch 175/250\n",
      "804/804 [==============================] - 0s 520us/step - loss: 0.5531 - accuracy: 0.0167\n",
      "Epoch 176/250\n",
      "804/804 [==============================] - 0s 531us/step - loss: 0.5519 - accuracy: 0.0767\n",
      "Epoch 177/250\n",
      "804/804 [==============================] - 0s 559us/step - loss: 0.5542 - accuracy: 0.0812\n",
      "Epoch 178/250\n",
      "804/804 [==============================] - 0s 510us/step - loss: 0.5530 - accuracy: 0.0207\n",
      "Epoch 179/250\n",
      "804/804 [==============================] - 0s 572us/step - loss: 0.5526 - accuracy: 0.0179\n",
      "Epoch 180/250\n",
      "804/804 [==============================] - 0s 532us/step - loss: 0.5522 - accuracy: 0.0015\n",
      "Epoch 181/250\n",
      "804/804 [==============================] - 0s 551us/step - loss: 0.5525 - accuracy: 0.0038\n",
      "Epoch 182/250\n",
      "804/804 [==============================] - 0s 556us/step - loss: 0.5536 - accuracy: 0.0022\n",
      "Epoch 183/250\n",
      "804/804 [==============================] - 0s 515us/step - loss: 0.5536 - accuracy: 0.0524\n",
      "Epoch 184/250\n",
      "804/804 [==============================] - 0s 490us/step - loss: 0.5577 - accuracy: 0.1370\n",
      "Epoch 185/250\n",
      "804/804 [==============================] - 0s 477us/step - loss: 0.5526 - accuracy: 0.1274\n",
      "Epoch 186/250\n",
      "804/804 [==============================] - 0s 478us/step - loss: 0.5527 - accuracy: 0.0346\n",
      "Epoch 187/250\n",
      "804/804 [==============================] - 0s 529us/step - loss: 0.5516 - accuracy: 0.0472\n",
      "Epoch 188/250\n",
      "804/804 [==============================] - 0s 483us/step - loss: 0.5512 - accuracy: 0.0483\n",
      "Epoch 189/250\n",
      "804/804 [==============================] - 0s 475us/step - loss: 0.5524 - accuracy: 0.0320\n",
      "Epoch 190/250\n",
      "804/804 [==============================] - 0s 470us/step - loss: 0.5577 - accuracy: 0.0152\n",
      "Epoch 191/250\n",
      "804/804 [==============================] - 0s 468us/step - loss: 0.5569 - accuracy: 0.0524\n",
      "Epoch 192/250\n",
      "753/804 [===========================>..] - ETA: 0s - loss: 0.5540 - accuracy: 0.0387"
     ]
    }
   ],
   "source": [
    "# Fit the model using 50 epochs and the training data\n",
    "fit_model_A1 = nn_A1.fit(X_train_scaled, y_train, epochs=250)\n"
   ]
  },
  {
   "cell_type": "code",
   "execution_count": null,
   "metadata": {},
   "outputs": [],
   "source": []
  },
  {
   "cell_type": "code",
   "execution_count": null,
   "metadata": {},
   "outputs": [],
   "source": []
  },
  {
   "cell_type": "code",
   "execution_count": null,
   "metadata": {},
   "outputs": [],
   "source": []
  },
  {
   "cell_type": "markdown",
   "metadata": {
    "id": "aMZAmHrlURsK"
   },
   "source": [
    "#### Alternative Model 2"
   ]
  },
  {
   "cell_type": "code",
   "execution_count": null,
   "metadata": {},
   "outputs": [],
   "source": []
  },
  {
   "cell_type": "code",
   "execution_count": null,
   "metadata": {
    "id": "Mw0cxkvOURsK"
   },
   "outputs": [],
   "source": [
    "# Define the the number of inputs (features) to the model\n",
    "number_input_features = len(X_train.iloc[0])\n",
    "\n",
    "# Review the number of features\n",
    "number_input_features"
   ]
  },
  {
   "cell_type": "code",
   "execution_count": null,
   "metadata": {
    "id": "qnLSrAKJURsK"
   },
   "outputs": [],
   "source": [
    "# Define the number of neurons in the output layer\n",
    "number_output_neurons_A2 = 6"
   ]
  },
  {
   "cell_type": "code",
   "execution_count": null,
   "metadata": {
    "id": "myK4iGVBURsK"
   },
   "outputs": [],
   "source": [
    "# Define the number of hidden nodes for the first hidden layer\n",
    "hidden_nodes_layer1_A2 =6\n",
    "\n",
    "# Review the number of hidden nodes in the first layer\n",
    "hidden_nodes_layer1_A2"
   ]
  },
  {
   "cell_type": "code",
   "execution_count": null,
   "metadata": {},
   "outputs": [],
   "source": [
    "# Define the number of hidden nodes for the Second hidden layer\n",
    "hidden_nodes_layer2_A2 =4\n",
    "\n",
    "# Review the number of hidden nodes in the Second layer\n",
    "hidden_nodes_layer2_A2"
   ]
  },
  {
   "cell_type": "code",
   "execution_count": null,
   "metadata": {
    "id": "lB6J98OSURsL"
   },
   "outputs": [],
   "source": [
    "# Create the Sequential model instance\n",
    "nn_A2 = Sequential()"
   ]
  },
  {
   "cell_type": "code",
   "execution_count": null,
   "metadata": {
    "id": "EX5HLuh9URsL"
   },
   "outputs": [],
   "source": [
    "# First hidden layer\n",
    "nn_A2.add(Dense(input_dim=number_input_features, units=hidden_nodes_layer1_A2, activation=\"relu\"))\n",
    "\n",
    "# Second hidden layer\n",
    "nn_A2.add(Dense(input_dim=number_input_features, units=hidden_nodes_layer2_A2, activation=\"relu\"))\n",
    "\n",
    "# Output layer\n",
    "nn_A2.add(Dense(units=number_output_neurons_A2, activation=\"relu\"))\n",
    "\n",
    "# Check the structure of the model\n",
    "nn_A2.summary()\n"
   ]
  },
  {
   "cell_type": "code",
   "execution_count": null,
   "metadata": {
    "id": "JrI6zrIRURsL"
   },
   "outputs": [],
   "source": [
    "# Compile the model\n",
    "nn_A2.compile(optimizer='adam',loss='binary_crossentropy', metrics=['accuracy'])\n"
   ]
  },
  {
   "cell_type": "code",
   "execution_count": null,
   "metadata": {
    "id": "8M3fXVn_URsL"
   },
   "outputs": [],
   "source": [
    "# Fit the model\n",
    "nn_A2.fit(X_train_scaled, y_train, epochs=25)\n"
   ]
  },
  {
   "cell_type": "markdown",
   "metadata": {
    "id": "JkA48Z4hURsL"
   },
   "source": [
    "### Step 2: After finishing your models, display the accuracy scores achieved by each model, and compare the results."
   ]
  },
  {
   "cell_type": "code",
   "execution_count": null,
   "metadata": {
    "id": "RXhF6K8SURsL"
   },
   "outputs": [],
   "source": [
    "print(\"Original Model Results\")\n",
    "\n",
    "# Evaluate the model loss and accuracy metrics using the evaluate method and the test data\n",
    "model_loss, model_accuracy = nn.evaluate(X_test_scaled, y_test, verbose=2)\n",
    "\n",
    "# Display the model loss and accuracy results\n",
    "print(f\"Loss: {model_loss}, Accuracy: {model_accuracy}\")"
   ]
  },
  {
   "cell_type": "code",
   "execution_count": null,
   "metadata": {},
   "outputs": [],
   "source": []
  },
  {
   "cell_type": "code",
   "execution_count": null,
   "metadata": {
    "id": "W52oclvkURsL"
   },
   "outputs": [],
   "source": [
    "print(\"Alternative Model 1 Results\")\n",
    "\n",
    "# Evaluate the model loss and accuracy metrics using the evaluate method and the test data\n",
    "model_loss, model_accuracy =nn_A1.evaluate(\n",
    "    X_test_scaled, y_test, verbose=2\n",
    ")\n",
    "\n",
    "# Display the model loss and accuracy results\n",
    "print(f\"Loss: {model_loss}, Accuracy: {model_accuracy}\")"
   ]
  },
  {
   "cell_type": "code",
   "execution_count": null,
   "metadata": {
    "id": "4yPtU8_nURsL"
   },
   "outputs": [],
   "source": [
    "print(\"Alternative Model 2 Results\")\n",
    "\n",
    "# Evaluate the model loss and accuracy metrics using the evaluate method and the test data\n",
    "model_loss, model_accuracy = nn_A2.evaluate(\n",
    "    X_test_scaled, y_test, verbose=2\n",
    ")\n",
    "\n",
    "\n",
    "# Display the model loss and accuracy results\n",
    "print(f\"Loss: {model_loss}, Accuracy: {model_accuracy}\")"
   ]
  },
  {
   "cell_type": "markdown",
   "metadata": {
    "id": "eQ3b2y7OURsM"
   },
   "source": [
    "### Step 3: Save each of your alternative models as an HDF5 file.\n"
   ]
  },
  {
   "cell_type": "code",
   "execution_count": null,
   "metadata": {
    "id": "a1tXiNBZURsM"
   },
   "outputs": [],
   "source": [
    "# Set the file path for the first alternative model\n",
    "file_path = # YOUR CODE HERE\n",
    "\n",
    "# Export your model to a HDF5 file\n",
    "# YOUR CODE HERE\n"
   ]
  },
  {
   "cell_type": "code",
   "execution_count": null,
   "metadata": {
    "id": "W9KTZW35URsM"
   },
   "outputs": [],
   "source": [
    "# Set the file path for the second alternative model\n",
    "file_path = # YOUR CODE HERE\n",
    "\n",
    "# Export your model to a HDF5 file\n",
    "# YOUR CODE HERE\n"
   ]
  }
 ],
 "metadata": {
  "colab": {
   "name": "venture_funding_with_deep_learning.ipynb",
   "provenance": []
  },
  "kernelspec": {
   "display_name": "Python 3",
   "language": "python",
   "name": "python3"
  },
  "language_info": {
   "codemirror_mode": {
    "name": "ipython",
    "version": 3
   },
   "file_extension": ".py",
   "mimetype": "text/x-python",
   "name": "python",
   "nbconvert_exporter": "python",
   "pygments_lexer": "ipython3",
   "version": "3.8.8"
  }
 },
 "nbformat": 4,
 "nbformat_minor": 4
}
