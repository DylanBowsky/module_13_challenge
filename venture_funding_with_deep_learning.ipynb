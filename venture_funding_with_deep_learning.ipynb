{
 "cells": [
  {
   "cell_type": "markdown",
   "metadata": {},
   "source": [
    "# Venture Funding with Deep Learning\n",
    "\n",
    "You work as a risk management associate at Alphabet Soup, a venture capital firm. Alphabet Soup’s business team receives many funding applications from startups every day. This team has asked you to help them create a model that predicts whether applicants will be successful if funded by Alphabet Soup.\n",
    "\n",
    "The business team has given you a CSV containing more than 34,000 organizations that have received funding from Alphabet Soup over the years. With your knowledge of machine learning and neural networks, you decide to use the features in the provided dataset to create a binary classifier model that will predict whether an applicant will become a successful business. The CSV file contains a variety of information about these businesses, including whether or not they ultimately became successful.\n",
    "\n",
    "## Instructions:\n",
    "\n",
    "The steps for this challenge are broken out into the following sections:\n",
    "\n",
    "* Prepare the data for use on a neural network model.\n",
    "\n",
    "* Compile and evaluate a binary classification model using a neural network.\n",
    "\n",
    "* Optimize the neural network model.\n",
    "\n",
    "### Prepare the Data for Use on a Neural Network Model \n",
    "\n",
    "Using your knowledge of Pandas and scikit-learn’s `StandardScaler()`, preprocess the dataset so that you can use it to compile and evaluate the neural network model later.\n",
    "\n",
    "Open the starter code file, and complete the following data preparation steps:\n",
    "\n",
    "1. Read the `applicants_data.csv` file into a Pandas DataFrame. Review the DataFrame, looking for categorical variables that will need to be encoded, as well as columns that could eventually define your features and target variables.   \n",
    "\n",
    "2. Drop the “EIN” (Employer Identification Number) and “NAME” columns from the DataFrame, because they are not relevant to the binary classification model.\n",
    " \n",
    "3. Encode the dataset’s categorical variables using `OneHotEncoder`, and then place the encoded variables into a new DataFrame.\n",
    "\n",
    "4. Add the original DataFrame’s numerical variables to the DataFrame containing the encoded variables.\n",
    "\n",
    "> **Note** To complete this step, you will employ the Pandas `concat()` function that was introduced earlier in this course. \n",
    "\n",
    "5. Using the preprocessed data, create the features (`X`) and target (`y`) datasets. The target dataset should be defined by the preprocessed DataFrame column “IS_SUCCESSFUL”. The remaining columns should define the features dataset. \n",
    "\n",
    "6. Split the features and target sets into training and testing datasets.\n",
    "\n",
    "7. Use scikit-learn's `StandardScaler` to scale the features data.\n",
    "\n",
    "### Compile and Evaluate a Binary Classification Model Using a Neural Network\n",
    "\n",
    "Use your knowledge of TensorFlow to design a binary classification deep neural network model. This model should use the dataset’s features to predict whether an Alphabet Soup&ndash;funded startup will be successful based on the features in the dataset. Consider the number of inputs before determining the number of layers that your model will contain or the number of neurons on each layer. Then, compile and fit your model. Finally, evaluate your binary classification model to calculate the model’s loss and accuracy. \n",
    " \n",
    "To do so, complete the following steps:\n",
    "\n",
    "1. Create a deep neural network by assigning the number of input features, the number of layers, and the number of neurons on each layer using Tensorflow’s Keras.\n",
    "\n",
    "> **Hint** You can start with a two-layer deep neural network model that uses the `relu` activation function for both layers.\n",
    "\n",
    "2. Compile and fit the model using the `binary_crossentropy` loss function, the `adam` optimizer, and the `accuracy` evaluation metric.\n",
    "\n",
    "> **Hint** When fitting the model, start with a small number of epochs, such as 20, 50, or 100.\n",
    "\n",
    "3. Evaluate the model using the test data to determine the model’s loss and accuracy.\n",
    "\n",
    "4. Save and export your model to an HDF5 file, and name the file `AlphabetSoup.h5`. \n",
    "\n",
    "### Optimize the Neural Network Model\n",
    "\n",
    "Using your knowledge of TensorFlow and Keras, optimize your model to improve the model's accuracy. Even if you do not successfully achieve a better accuracy, you'll need to demonstrate at least two attempts to optimize the model. You can include these attempts in your existing notebook. Or, you can make copies of the starter notebook in the same folder, rename them, and code each model optimization in a new notebook. \n",
    "\n",
    "> **Note** You will not lose points if your model does not achieve a high accuracy, as long as you make at least two attempts to optimize the model.\n",
    "\n",
    "To do so, complete the following steps:\n",
    "\n",
    "1. Define at least three new deep neural network models (the original plus 2 optimization attempts). With each, try to improve on your first model’s predictive accuracy.\n",
    "\n",
    "> **Rewind** Recall that perfect accuracy has a value of 1, so accuracy improves as its value moves closer to 1. To optimize your model for a predictive accuracy as close to 1 as possible, you can use any or all of the following techniques:\n",
    ">\n",
    "> * Adjust the input data by dropping different features columns to ensure that no variables or outliers confuse the model.\n",
    ">\n",
    "> * Add more neurons (nodes) to a hidden layer.\n",
    ">\n",
    "> * Add more hidden layers.\n",
    ">\n",
    "> * Use different activation functions for the hidden layers.\n",
    ">\n",
    "> * Add to or reduce the number of epochs in the training regimen.\n",
    "\n",
    "2. After finishing your models, display the accuracy scores achieved by each model, and compare the results.\n",
    "\n",
    "3. Save each of your models as an HDF5 file.\n"
   ]
  },
  {
   "cell_type": "code",
   "execution_count": 1,
   "metadata": {},
   "outputs": [],
   "source": [
    "# Imports\n",
    "import pandas as pd\n",
    "from pathlib import Path\n",
    "import tensorflow as tf\n",
    "from tensorflow.keras.layers import Dense\n",
    "from tensorflow.keras.models import Sequential\n",
    "from sklearn.model_selection import train_test_split\n",
    "from sklearn.preprocessing import StandardScaler,OneHotEncoder"
   ]
  },
  {
   "cell_type": "markdown",
   "metadata": {},
   "source": [
    "---\n",
    "\n",
    "## Prepare the data to be used on a neural network model"
   ]
  },
  {
   "cell_type": "markdown",
   "metadata": {},
   "source": [
    "### Step 1: Read the `applicants_data.csv` file into a Pandas DataFrame. Review the DataFrame, looking for categorical variables that will need to be encoded, as well as columns that could eventually define your features and target variables.  \n"
   ]
  },
  {
   "cell_type": "code",
   "execution_count": 2,
   "metadata": {},
   "outputs": [
    {
     "data": {
      "text/html": [
       "<div>\n",
       "<style scoped>\n",
       "    .dataframe tbody tr th:only-of-type {\n",
       "        vertical-align: middle;\n",
       "    }\n",
       "\n",
       "    .dataframe tbody tr th {\n",
       "        vertical-align: top;\n",
       "    }\n",
       "\n",
       "    .dataframe thead th {\n",
       "        text-align: right;\n",
       "    }\n",
       "</style>\n",
       "<table border=\"1\" class=\"dataframe\">\n",
       "  <thead>\n",
       "    <tr style=\"text-align: right;\">\n",
       "      <th></th>\n",
       "      <th>EIN</th>\n",
       "      <th>NAME</th>\n",
       "      <th>APPLICATION_TYPE</th>\n",
       "      <th>AFFILIATION</th>\n",
       "      <th>CLASSIFICATION</th>\n",
       "      <th>USE_CASE</th>\n",
       "      <th>ORGANIZATION</th>\n",
       "      <th>STATUS</th>\n",
       "      <th>INCOME_AMT</th>\n",
       "      <th>SPECIAL_CONSIDERATIONS</th>\n",
       "      <th>ASK_AMT</th>\n",
       "      <th>IS_SUCCESSFUL</th>\n",
       "    </tr>\n",
       "  </thead>\n",
       "  <tbody>\n",
       "    <tr>\n",
       "      <th>0</th>\n",
       "      <td>10520599</td>\n",
       "      <td>BLUE KNIGHTS MOTORCYCLE CLUB</td>\n",
       "      <td>T10</td>\n",
       "      <td>Independent</td>\n",
       "      <td>C1000</td>\n",
       "      <td>ProductDev</td>\n",
       "      <td>Association</td>\n",
       "      <td>1</td>\n",
       "      <td>0</td>\n",
       "      <td>N</td>\n",
       "      <td>5000</td>\n",
       "      <td>1</td>\n",
       "    </tr>\n",
       "    <tr>\n",
       "      <th>1</th>\n",
       "      <td>10531628</td>\n",
       "      <td>AMERICAN CHESAPEAKE CLUB CHARITABLE TR</td>\n",
       "      <td>T3</td>\n",
       "      <td>Independent</td>\n",
       "      <td>C2000</td>\n",
       "      <td>Preservation</td>\n",
       "      <td>Co-operative</td>\n",
       "      <td>1</td>\n",
       "      <td>1-9999</td>\n",
       "      <td>N</td>\n",
       "      <td>108590</td>\n",
       "      <td>1</td>\n",
       "    </tr>\n",
       "    <tr>\n",
       "      <th>2</th>\n",
       "      <td>10547893</td>\n",
       "      <td>ST CLOUD PROFESSIONAL FIREFIGHTERS</td>\n",
       "      <td>T5</td>\n",
       "      <td>CompanySponsored</td>\n",
       "      <td>C3000</td>\n",
       "      <td>ProductDev</td>\n",
       "      <td>Association</td>\n",
       "      <td>1</td>\n",
       "      <td>0</td>\n",
       "      <td>N</td>\n",
       "      <td>5000</td>\n",
       "      <td>0</td>\n",
       "    </tr>\n",
       "    <tr>\n",
       "      <th>3</th>\n",
       "      <td>10553066</td>\n",
       "      <td>SOUTHSIDE ATHLETIC ASSOCIATION</td>\n",
       "      <td>T3</td>\n",
       "      <td>CompanySponsored</td>\n",
       "      <td>C2000</td>\n",
       "      <td>Preservation</td>\n",
       "      <td>Trust</td>\n",
       "      <td>1</td>\n",
       "      <td>10000-24999</td>\n",
       "      <td>N</td>\n",
       "      <td>6692</td>\n",
       "      <td>1</td>\n",
       "    </tr>\n",
       "    <tr>\n",
       "      <th>4</th>\n",
       "      <td>10556103</td>\n",
       "      <td>GENETIC RESEARCH INSTITUTE OF THE DESERT</td>\n",
       "      <td>T3</td>\n",
       "      <td>Independent</td>\n",
       "      <td>C1000</td>\n",
       "      <td>Heathcare</td>\n",
       "      <td>Trust</td>\n",
       "      <td>1</td>\n",
       "      <td>100000-499999</td>\n",
       "      <td>N</td>\n",
       "      <td>142590</td>\n",
       "      <td>1</td>\n",
       "    </tr>\n",
       "  </tbody>\n",
       "</table>\n",
       "</div>"
      ],
      "text/plain": [
       "        EIN                                      NAME APPLICATION_TYPE  \\\n",
       "0  10520599              BLUE KNIGHTS MOTORCYCLE CLUB              T10   \n",
       "1  10531628    AMERICAN CHESAPEAKE CLUB CHARITABLE TR               T3   \n",
       "2  10547893        ST CLOUD PROFESSIONAL FIREFIGHTERS               T5   \n",
       "3  10553066            SOUTHSIDE ATHLETIC ASSOCIATION               T3   \n",
       "4  10556103  GENETIC RESEARCH INSTITUTE OF THE DESERT               T3   \n",
       "\n",
       "        AFFILIATION CLASSIFICATION      USE_CASE  ORGANIZATION  STATUS  \\\n",
       "0       Independent          C1000    ProductDev   Association       1   \n",
       "1       Independent          C2000  Preservation  Co-operative       1   \n",
       "2  CompanySponsored          C3000    ProductDev   Association       1   \n",
       "3  CompanySponsored          C2000  Preservation         Trust       1   \n",
       "4       Independent          C1000     Heathcare         Trust       1   \n",
       "\n",
       "      INCOME_AMT SPECIAL_CONSIDERATIONS  ASK_AMT  IS_SUCCESSFUL  \n",
       "0              0                      N     5000              1  \n",
       "1         1-9999                      N   108590              1  \n",
       "2              0                      N     5000              0  \n",
       "3    10000-24999                      N     6692              1  \n",
       "4  100000-499999                      N   142590              1  "
      ]
     },
     "execution_count": 2,
     "metadata": {},
     "output_type": "execute_result"
    }
   ],
   "source": [
    "# Read the applicants_data.csv file from the Resources folder into a Pandas DataFrame\n",
    "applicant_data_df = pd.read_csv('./Resources/applicants_data.csv')\n",
    "\n",
    "# Review the DataFrame\n",
    "applicant_data_df.head()\n"
   ]
  },
  {
   "cell_type": "code",
   "execution_count": 3,
   "metadata": {},
   "outputs": [
    {
     "data": {
      "text/plain": [
       "EIN                        int64\n",
       "NAME                      object\n",
       "APPLICATION_TYPE          object\n",
       "AFFILIATION               object\n",
       "CLASSIFICATION            object\n",
       "USE_CASE                  object\n",
       "ORGANIZATION              object\n",
       "STATUS                     int64\n",
       "INCOME_AMT                object\n",
       "SPECIAL_CONSIDERATIONS    object\n",
       "ASK_AMT                    int64\n",
       "IS_SUCCESSFUL              int64\n",
       "dtype: object"
      ]
     },
     "execution_count": 3,
     "metadata": {},
     "output_type": "execute_result"
    }
   ],
   "source": [
    "# Review the data types associated with the columns\n",
    "applicant_data_df.dtypes\n"
   ]
  },
  {
   "cell_type": "markdown",
   "metadata": {},
   "source": [
    "### Step 2: Drop the “EIN” (Employer Identification Number) and “NAME” columns from the DataFrame, because they are not relevant to the binary classification model."
   ]
  },
  {
   "cell_type": "code",
   "execution_count": 4,
   "metadata": {},
   "outputs": [
    {
     "data": {
      "text/html": [
       "<div>\n",
       "<style scoped>\n",
       "    .dataframe tbody tr th:only-of-type {\n",
       "        vertical-align: middle;\n",
       "    }\n",
       "\n",
       "    .dataframe tbody tr th {\n",
       "        vertical-align: top;\n",
       "    }\n",
       "\n",
       "    .dataframe thead th {\n",
       "        text-align: right;\n",
       "    }\n",
       "</style>\n",
       "<table border=\"1\" class=\"dataframe\">\n",
       "  <thead>\n",
       "    <tr style=\"text-align: right;\">\n",
       "      <th></th>\n",
       "      <th>APPLICATION_TYPE</th>\n",
       "      <th>AFFILIATION</th>\n",
       "      <th>CLASSIFICATION</th>\n",
       "      <th>USE_CASE</th>\n",
       "      <th>ORGANIZATION</th>\n",
       "      <th>STATUS</th>\n",
       "      <th>INCOME_AMT</th>\n",
       "      <th>SPECIAL_CONSIDERATIONS</th>\n",
       "      <th>ASK_AMT</th>\n",
       "      <th>IS_SUCCESSFUL</th>\n",
       "    </tr>\n",
       "  </thead>\n",
       "  <tbody>\n",
       "    <tr>\n",
       "      <th>0</th>\n",
       "      <td>T10</td>\n",
       "      <td>Independent</td>\n",
       "      <td>C1000</td>\n",
       "      <td>ProductDev</td>\n",
       "      <td>Association</td>\n",
       "      <td>1</td>\n",
       "      <td>0</td>\n",
       "      <td>N</td>\n",
       "      <td>5000</td>\n",
       "      <td>1</td>\n",
       "    </tr>\n",
       "    <tr>\n",
       "      <th>1</th>\n",
       "      <td>T3</td>\n",
       "      <td>Independent</td>\n",
       "      <td>C2000</td>\n",
       "      <td>Preservation</td>\n",
       "      <td>Co-operative</td>\n",
       "      <td>1</td>\n",
       "      <td>1-9999</td>\n",
       "      <td>N</td>\n",
       "      <td>108590</td>\n",
       "      <td>1</td>\n",
       "    </tr>\n",
       "    <tr>\n",
       "      <th>2</th>\n",
       "      <td>T5</td>\n",
       "      <td>CompanySponsored</td>\n",
       "      <td>C3000</td>\n",
       "      <td>ProductDev</td>\n",
       "      <td>Association</td>\n",
       "      <td>1</td>\n",
       "      <td>0</td>\n",
       "      <td>N</td>\n",
       "      <td>5000</td>\n",
       "      <td>0</td>\n",
       "    </tr>\n",
       "    <tr>\n",
       "      <th>3</th>\n",
       "      <td>T3</td>\n",
       "      <td>CompanySponsored</td>\n",
       "      <td>C2000</td>\n",
       "      <td>Preservation</td>\n",
       "      <td>Trust</td>\n",
       "      <td>1</td>\n",
       "      <td>10000-24999</td>\n",
       "      <td>N</td>\n",
       "      <td>6692</td>\n",
       "      <td>1</td>\n",
       "    </tr>\n",
       "    <tr>\n",
       "      <th>4</th>\n",
       "      <td>T3</td>\n",
       "      <td>Independent</td>\n",
       "      <td>C1000</td>\n",
       "      <td>Heathcare</td>\n",
       "      <td>Trust</td>\n",
       "      <td>1</td>\n",
       "      <td>100000-499999</td>\n",
       "      <td>N</td>\n",
       "      <td>142590</td>\n",
       "      <td>1</td>\n",
       "    </tr>\n",
       "  </tbody>\n",
       "</table>\n",
       "</div>"
      ],
      "text/plain": [
       "  APPLICATION_TYPE       AFFILIATION CLASSIFICATION      USE_CASE  \\\n",
       "0              T10       Independent          C1000    ProductDev   \n",
       "1               T3       Independent          C2000  Preservation   \n",
       "2               T5  CompanySponsored          C3000    ProductDev   \n",
       "3               T3  CompanySponsored          C2000  Preservation   \n",
       "4               T3       Independent          C1000     Heathcare   \n",
       "\n",
       "   ORGANIZATION  STATUS     INCOME_AMT SPECIAL_CONSIDERATIONS  ASK_AMT  \\\n",
       "0   Association       1              0                      N     5000   \n",
       "1  Co-operative       1         1-9999                      N   108590   \n",
       "2   Association       1              0                      N     5000   \n",
       "3         Trust       1    10000-24999                      N     6692   \n",
       "4         Trust       1  100000-499999                      N   142590   \n",
       "\n",
       "   IS_SUCCESSFUL  \n",
       "0              1  \n",
       "1              1  \n",
       "2              0  \n",
       "3              1  \n",
       "4              1  "
      ]
     },
     "execution_count": 4,
     "metadata": {},
     "output_type": "execute_result"
    }
   ],
   "source": [
    "# Drop the 'EIN' and 'NAME' columns from the DataFrame\n",
    "applicant_data_df = applicant_data_df.drop(columns=['EIN', 'NAME'])\n",
    "\n",
    "# Review the DataFrame\n",
    "applicant_data_df.head()\n"
   ]
  },
  {
   "cell_type": "markdown",
   "metadata": {},
   "source": [
    "### Step 3: Encode the dataset’s categorical variables using `OneHotEncoder`, and then place the encoded variables into a new DataFrame."
   ]
  },
  {
   "cell_type": "code",
   "execution_count": 5,
   "metadata": {},
   "outputs": [
    {
     "data": {
      "text/plain": [
       "['APPLICATION_TYPE',\n",
       " 'AFFILIATION',\n",
       " 'CLASSIFICATION',\n",
       " 'USE_CASE',\n",
       " 'ORGANIZATION',\n",
       " 'INCOME_AMT',\n",
       " 'SPECIAL_CONSIDERATIONS']"
      ]
     },
     "metadata": {},
     "output_type": "display_data"
    }
   ],
   "source": [
    "# Create a list of categorical variables \n",
    "categorical_variables = ['APPLICATION_TYPE',\n",
    " 'AFFILIATION',\n",
    " 'CLASSIFICATION',\n",
    " 'USE_CASE',\n",
    " 'ORGANIZATION',\n",
    " 'INCOME_AMT',\n",
    " 'SPECIAL_CONSIDERATIONS']\n",
    "\n",
    "# Display the categorical variables list\n",
    "display(categorical_variables)\n"
   ]
  },
  {
   "cell_type": "code",
   "execution_count": 6,
   "metadata": {},
   "outputs": [],
   "source": [
    "# Create a OneHotEncoder instance\n",
    "enc = OneHotEncoder(sparse=False)\n"
   ]
  },
  {
   "cell_type": "code",
   "execution_count": 7,
   "metadata": {},
   "outputs": [],
   "source": [
    "# Encode the categorcal variables using OneHotEncoder\n",
    "encoded_data = enc.fit_transform(applicant_data_df[categorical_variables])\n"
   ]
  },
  {
   "cell_type": "code",
   "execution_count": 8,
   "metadata": {},
   "outputs": [
    {
     "data": {
      "text/html": [
       "<div>\n",
       "<style scoped>\n",
       "    .dataframe tbody tr th:only-of-type {\n",
       "        vertical-align: middle;\n",
       "    }\n",
       "\n",
       "    .dataframe tbody tr th {\n",
       "        vertical-align: top;\n",
       "    }\n",
       "\n",
       "    .dataframe thead th {\n",
       "        text-align: right;\n",
       "    }\n",
       "</style>\n",
       "<table border=\"1\" class=\"dataframe\">\n",
       "  <thead>\n",
       "    <tr style=\"text-align: right;\">\n",
       "      <th></th>\n",
       "      <th>APPLICATION_TYPE_T10</th>\n",
       "      <th>APPLICATION_TYPE_T12</th>\n",
       "      <th>APPLICATION_TYPE_T13</th>\n",
       "      <th>APPLICATION_TYPE_T14</th>\n",
       "      <th>APPLICATION_TYPE_T15</th>\n",
       "      <th>APPLICATION_TYPE_T17</th>\n",
       "      <th>APPLICATION_TYPE_T19</th>\n",
       "      <th>APPLICATION_TYPE_T2</th>\n",
       "      <th>APPLICATION_TYPE_T25</th>\n",
       "      <th>APPLICATION_TYPE_T29</th>\n",
       "      <th>...</th>\n",
       "      <th>INCOME_AMT_1-9999</th>\n",
       "      <th>INCOME_AMT_10000-24999</th>\n",
       "      <th>INCOME_AMT_100000-499999</th>\n",
       "      <th>INCOME_AMT_10M-50M</th>\n",
       "      <th>INCOME_AMT_1M-5M</th>\n",
       "      <th>INCOME_AMT_25000-99999</th>\n",
       "      <th>INCOME_AMT_50M+</th>\n",
       "      <th>INCOME_AMT_5M-10M</th>\n",
       "      <th>SPECIAL_CONSIDERATIONS_N</th>\n",
       "      <th>SPECIAL_CONSIDERATIONS_Y</th>\n",
       "    </tr>\n",
       "  </thead>\n",
       "  <tbody>\n",
       "    <tr>\n",
       "      <th>0</th>\n",
       "      <td>1.0</td>\n",
       "      <td>0.0</td>\n",
       "      <td>0.0</td>\n",
       "      <td>0.0</td>\n",
       "      <td>0.0</td>\n",
       "      <td>0.0</td>\n",
       "      <td>0.0</td>\n",
       "      <td>0.0</td>\n",
       "      <td>0.0</td>\n",
       "      <td>0.0</td>\n",
       "      <td>...</td>\n",
       "      <td>0.0</td>\n",
       "      <td>0.0</td>\n",
       "      <td>0.0</td>\n",
       "      <td>0.0</td>\n",
       "      <td>0.0</td>\n",
       "      <td>0.0</td>\n",
       "      <td>0.0</td>\n",
       "      <td>0.0</td>\n",
       "      <td>1.0</td>\n",
       "      <td>0.0</td>\n",
       "    </tr>\n",
       "    <tr>\n",
       "      <th>1</th>\n",
       "      <td>0.0</td>\n",
       "      <td>0.0</td>\n",
       "      <td>0.0</td>\n",
       "      <td>0.0</td>\n",
       "      <td>0.0</td>\n",
       "      <td>0.0</td>\n",
       "      <td>0.0</td>\n",
       "      <td>0.0</td>\n",
       "      <td>0.0</td>\n",
       "      <td>0.0</td>\n",
       "      <td>...</td>\n",
       "      <td>1.0</td>\n",
       "      <td>0.0</td>\n",
       "      <td>0.0</td>\n",
       "      <td>0.0</td>\n",
       "      <td>0.0</td>\n",
       "      <td>0.0</td>\n",
       "      <td>0.0</td>\n",
       "      <td>0.0</td>\n",
       "      <td>1.0</td>\n",
       "      <td>0.0</td>\n",
       "    </tr>\n",
       "    <tr>\n",
       "      <th>2</th>\n",
       "      <td>0.0</td>\n",
       "      <td>0.0</td>\n",
       "      <td>0.0</td>\n",
       "      <td>0.0</td>\n",
       "      <td>0.0</td>\n",
       "      <td>0.0</td>\n",
       "      <td>0.0</td>\n",
       "      <td>0.0</td>\n",
       "      <td>0.0</td>\n",
       "      <td>0.0</td>\n",
       "      <td>...</td>\n",
       "      <td>0.0</td>\n",
       "      <td>0.0</td>\n",
       "      <td>0.0</td>\n",
       "      <td>0.0</td>\n",
       "      <td>0.0</td>\n",
       "      <td>0.0</td>\n",
       "      <td>0.0</td>\n",
       "      <td>0.0</td>\n",
       "      <td>1.0</td>\n",
       "      <td>0.0</td>\n",
       "    </tr>\n",
       "    <tr>\n",
       "      <th>3</th>\n",
       "      <td>0.0</td>\n",
       "      <td>0.0</td>\n",
       "      <td>0.0</td>\n",
       "      <td>0.0</td>\n",
       "      <td>0.0</td>\n",
       "      <td>0.0</td>\n",
       "      <td>0.0</td>\n",
       "      <td>0.0</td>\n",
       "      <td>0.0</td>\n",
       "      <td>0.0</td>\n",
       "      <td>...</td>\n",
       "      <td>0.0</td>\n",
       "      <td>1.0</td>\n",
       "      <td>0.0</td>\n",
       "      <td>0.0</td>\n",
       "      <td>0.0</td>\n",
       "      <td>0.0</td>\n",
       "      <td>0.0</td>\n",
       "      <td>0.0</td>\n",
       "      <td>1.0</td>\n",
       "      <td>0.0</td>\n",
       "    </tr>\n",
       "    <tr>\n",
       "      <th>4</th>\n",
       "      <td>0.0</td>\n",
       "      <td>0.0</td>\n",
       "      <td>0.0</td>\n",
       "      <td>0.0</td>\n",
       "      <td>0.0</td>\n",
       "      <td>0.0</td>\n",
       "      <td>0.0</td>\n",
       "      <td>0.0</td>\n",
       "      <td>0.0</td>\n",
       "      <td>0.0</td>\n",
       "      <td>...</td>\n",
       "      <td>0.0</td>\n",
       "      <td>0.0</td>\n",
       "      <td>1.0</td>\n",
       "      <td>0.0</td>\n",
       "      <td>0.0</td>\n",
       "      <td>0.0</td>\n",
       "      <td>0.0</td>\n",
       "      <td>0.0</td>\n",
       "      <td>1.0</td>\n",
       "      <td>0.0</td>\n",
       "    </tr>\n",
       "  </tbody>\n",
       "</table>\n",
       "<p>5 rows × 114 columns</p>\n",
       "</div>"
      ],
      "text/plain": [
       "   APPLICATION_TYPE_T10  APPLICATION_TYPE_T12  APPLICATION_TYPE_T13  \\\n",
       "0                   1.0                   0.0                   0.0   \n",
       "1                   0.0                   0.0                   0.0   \n",
       "2                   0.0                   0.0                   0.0   \n",
       "3                   0.0                   0.0                   0.0   \n",
       "4                   0.0                   0.0                   0.0   \n",
       "\n",
       "   APPLICATION_TYPE_T14  APPLICATION_TYPE_T15  APPLICATION_TYPE_T17  \\\n",
       "0                   0.0                   0.0                   0.0   \n",
       "1                   0.0                   0.0                   0.0   \n",
       "2                   0.0                   0.0                   0.0   \n",
       "3                   0.0                   0.0                   0.0   \n",
       "4                   0.0                   0.0                   0.0   \n",
       "\n",
       "   APPLICATION_TYPE_T19  APPLICATION_TYPE_T2  APPLICATION_TYPE_T25  \\\n",
       "0                   0.0                  0.0                   0.0   \n",
       "1                   0.0                  0.0                   0.0   \n",
       "2                   0.0                  0.0                   0.0   \n",
       "3                   0.0                  0.0                   0.0   \n",
       "4                   0.0                  0.0                   0.0   \n",
       "\n",
       "   APPLICATION_TYPE_T29  ...  INCOME_AMT_1-9999  INCOME_AMT_10000-24999  \\\n",
       "0                   0.0  ...                0.0                     0.0   \n",
       "1                   0.0  ...                1.0                     0.0   \n",
       "2                   0.0  ...                0.0                     0.0   \n",
       "3                   0.0  ...                0.0                     1.0   \n",
       "4                   0.0  ...                0.0                     0.0   \n",
       "\n",
       "   INCOME_AMT_100000-499999  INCOME_AMT_10M-50M  INCOME_AMT_1M-5M  \\\n",
       "0                       0.0                 0.0               0.0   \n",
       "1                       0.0                 0.0               0.0   \n",
       "2                       0.0                 0.0               0.0   \n",
       "3                       0.0                 0.0               0.0   \n",
       "4                       1.0                 0.0               0.0   \n",
       "\n",
       "   INCOME_AMT_25000-99999  INCOME_AMT_50M+  INCOME_AMT_5M-10M  \\\n",
       "0                     0.0              0.0                0.0   \n",
       "1                     0.0              0.0                0.0   \n",
       "2                     0.0              0.0                0.0   \n",
       "3                     0.0              0.0                0.0   \n",
       "4                     0.0              0.0                0.0   \n",
       "\n",
       "   SPECIAL_CONSIDERATIONS_N  SPECIAL_CONSIDERATIONS_Y  \n",
       "0                       1.0                       0.0  \n",
       "1                       1.0                       0.0  \n",
       "2                       1.0                       0.0  \n",
       "3                       1.0                       0.0  \n",
       "4                       1.0                       0.0  \n",
       "\n",
       "[5 rows x 114 columns]"
      ]
     },
     "execution_count": 8,
     "metadata": {},
     "output_type": "execute_result"
    }
   ],
   "source": [
    "# Create a DataFrame with the encoded variables\n",
    "encoded_df = pd.DataFrame(encoded_data, columns = enc.get_feature_names(categorical_variables))\n",
    "\n",
    "# Review the DataFrame\n",
    "encoded_df.head()\n"
   ]
  },
  {
   "cell_type": "markdown",
   "metadata": {},
   "source": [
    "### Step 4: Add the original DataFrame’s numerical variables to the DataFrame containing the encoded variables.\n",
    "\n",
    "> **Note** To complete this step, you will employ the Pandas `concat()` function that was introduced earlier in this course. "
   ]
  },
  {
   "cell_type": "code",
   "execution_count": 9,
   "metadata": {},
   "outputs": [
    {
     "data": {
      "text/html": [
       "<div>\n",
       "<style scoped>\n",
       "    .dataframe tbody tr th:only-of-type {\n",
       "        vertical-align: middle;\n",
       "    }\n",
       "\n",
       "    .dataframe tbody tr th {\n",
       "        vertical-align: top;\n",
       "    }\n",
       "\n",
       "    .dataframe thead th {\n",
       "        text-align: right;\n",
       "    }\n",
       "</style>\n",
       "<table border=\"1\" class=\"dataframe\">\n",
       "  <thead>\n",
       "    <tr style=\"text-align: right;\">\n",
       "      <th></th>\n",
       "      <th>STATUS</th>\n",
       "      <th>ASK_AMT</th>\n",
       "      <th>IS_SUCCESSFUL</th>\n",
       "      <th>APPLICATION_TYPE_T10</th>\n",
       "      <th>APPLICATION_TYPE_T12</th>\n",
       "      <th>APPLICATION_TYPE_T13</th>\n",
       "      <th>APPLICATION_TYPE_T14</th>\n",
       "      <th>APPLICATION_TYPE_T15</th>\n",
       "      <th>APPLICATION_TYPE_T17</th>\n",
       "      <th>APPLICATION_TYPE_T19</th>\n",
       "      <th>...</th>\n",
       "      <th>INCOME_AMT_1-9999</th>\n",
       "      <th>INCOME_AMT_10000-24999</th>\n",
       "      <th>INCOME_AMT_100000-499999</th>\n",
       "      <th>INCOME_AMT_10M-50M</th>\n",
       "      <th>INCOME_AMT_1M-5M</th>\n",
       "      <th>INCOME_AMT_25000-99999</th>\n",
       "      <th>INCOME_AMT_50M+</th>\n",
       "      <th>INCOME_AMT_5M-10M</th>\n",
       "      <th>SPECIAL_CONSIDERATIONS_N</th>\n",
       "      <th>SPECIAL_CONSIDERATIONS_Y</th>\n",
       "    </tr>\n",
       "  </thead>\n",
       "  <tbody>\n",
       "    <tr>\n",
       "      <th>0</th>\n",
       "      <td>1</td>\n",
       "      <td>5000</td>\n",
       "      <td>1</td>\n",
       "      <td>1.0</td>\n",
       "      <td>0.0</td>\n",
       "      <td>0.0</td>\n",
       "      <td>0.0</td>\n",
       "      <td>0.0</td>\n",
       "      <td>0.0</td>\n",
       "      <td>0.0</td>\n",
       "      <td>...</td>\n",
       "      <td>0.0</td>\n",
       "      <td>0.0</td>\n",
       "      <td>0.0</td>\n",
       "      <td>0.0</td>\n",
       "      <td>0.0</td>\n",
       "      <td>0.0</td>\n",
       "      <td>0.0</td>\n",
       "      <td>0.0</td>\n",
       "      <td>1.0</td>\n",
       "      <td>0.0</td>\n",
       "    </tr>\n",
       "    <tr>\n",
       "      <th>1</th>\n",
       "      <td>1</td>\n",
       "      <td>108590</td>\n",
       "      <td>1</td>\n",
       "      <td>0.0</td>\n",
       "      <td>0.0</td>\n",
       "      <td>0.0</td>\n",
       "      <td>0.0</td>\n",
       "      <td>0.0</td>\n",
       "      <td>0.0</td>\n",
       "      <td>0.0</td>\n",
       "      <td>...</td>\n",
       "      <td>1.0</td>\n",
       "      <td>0.0</td>\n",
       "      <td>0.0</td>\n",
       "      <td>0.0</td>\n",
       "      <td>0.0</td>\n",
       "      <td>0.0</td>\n",
       "      <td>0.0</td>\n",
       "      <td>0.0</td>\n",
       "      <td>1.0</td>\n",
       "      <td>0.0</td>\n",
       "    </tr>\n",
       "    <tr>\n",
       "      <th>2</th>\n",
       "      <td>1</td>\n",
       "      <td>5000</td>\n",
       "      <td>0</td>\n",
       "      <td>0.0</td>\n",
       "      <td>0.0</td>\n",
       "      <td>0.0</td>\n",
       "      <td>0.0</td>\n",
       "      <td>0.0</td>\n",
       "      <td>0.0</td>\n",
       "      <td>0.0</td>\n",
       "      <td>...</td>\n",
       "      <td>0.0</td>\n",
       "      <td>0.0</td>\n",
       "      <td>0.0</td>\n",
       "      <td>0.0</td>\n",
       "      <td>0.0</td>\n",
       "      <td>0.0</td>\n",
       "      <td>0.0</td>\n",
       "      <td>0.0</td>\n",
       "      <td>1.0</td>\n",
       "      <td>0.0</td>\n",
       "    </tr>\n",
       "    <tr>\n",
       "      <th>3</th>\n",
       "      <td>1</td>\n",
       "      <td>6692</td>\n",
       "      <td>1</td>\n",
       "      <td>0.0</td>\n",
       "      <td>0.0</td>\n",
       "      <td>0.0</td>\n",
       "      <td>0.0</td>\n",
       "      <td>0.0</td>\n",
       "      <td>0.0</td>\n",
       "      <td>0.0</td>\n",
       "      <td>...</td>\n",
       "      <td>0.0</td>\n",
       "      <td>1.0</td>\n",
       "      <td>0.0</td>\n",
       "      <td>0.0</td>\n",
       "      <td>0.0</td>\n",
       "      <td>0.0</td>\n",
       "      <td>0.0</td>\n",
       "      <td>0.0</td>\n",
       "      <td>1.0</td>\n",
       "      <td>0.0</td>\n",
       "    </tr>\n",
       "    <tr>\n",
       "      <th>4</th>\n",
       "      <td>1</td>\n",
       "      <td>142590</td>\n",
       "      <td>1</td>\n",
       "      <td>0.0</td>\n",
       "      <td>0.0</td>\n",
       "      <td>0.0</td>\n",
       "      <td>0.0</td>\n",
       "      <td>0.0</td>\n",
       "      <td>0.0</td>\n",
       "      <td>0.0</td>\n",
       "      <td>...</td>\n",
       "      <td>0.0</td>\n",
       "      <td>0.0</td>\n",
       "      <td>1.0</td>\n",
       "      <td>0.0</td>\n",
       "      <td>0.0</td>\n",
       "      <td>0.0</td>\n",
       "      <td>0.0</td>\n",
       "      <td>0.0</td>\n",
       "      <td>1.0</td>\n",
       "      <td>0.0</td>\n",
       "    </tr>\n",
       "  </tbody>\n",
       "</table>\n",
       "<p>5 rows × 117 columns</p>\n",
       "</div>"
      ],
      "text/plain": [
       "   STATUS  ASK_AMT  IS_SUCCESSFUL  APPLICATION_TYPE_T10  APPLICATION_TYPE_T12  \\\n",
       "0       1     5000              1                   1.0                   0.0   \n",
       "1       1   108590              1                   0.0                   0.0   \n",
       "2       1     5000              0                   0.0                   0.0   \n",
       "3       1     6692              1                   0.0                   0.0   \n",
       "4       1   142590              1                   0.0                   0.0   \n",
       "\n",
       "   APPLICATION_TYPE_T13  APPLICATION_TYPE_T14  APPLICATION_TYPE_T15  \\\n",
       "0                   0.0                   0.0                   0.0   \n",
       "1                   0.0                   0.0                   0.0   \n",
       "2                   0.0                   0.0                   0.0   \n",
       "3                   0.0                   0.0                   0.0   \n",
       "4                   0.0                   0.0                   0.0   \n",
       "\n",
       "   APPLICATION_TYPE_T17  APPLICATION_TYPE_T19  ...  INCOME_AMT_1-9999  \\\n",
       "0                   0.0                   0.0  ...                0.0   \n",
       "1                   0.0                   0.0  ...                1.0   \n",
       "2                   0.0                   0.0  ...                0.0   \n",
       "3                   0.0                   0.0  ...                0.0   \n",
       "4                   0.0                   0.0  ...                0.0   \n",
       "\n",
       "   INCOME_AMT_10000-24999  INCOME_AMT_100000-499999  INCOME_AMT_10M-50M  \\\n",
       "0                     0.0                       0.0                 0.0   \n",
       "1                     0.0                       0.0                 0.0   \n",
       "2                     0.0                       0.0                 0.0   \n",
       "3                     1.0                       0.0                 0.0   \n",
       "4                     0.0                       1.0                 0.0   \n",
       "\n",
       "   INCOME_AMT_1M-5M  INCOME_AMT_25000-99999  INCOME_AMT_50M+  \\\n",
       "0               0.0                     0.0              0.0   \n",
       "1               0.0                     0.0              0.0   \n",
       "2               0.0                     0.0              0.0   \n",
       "3               0.0                     0.0              0.0   \n",
       "4               0.0                     0.0              0.0   \n",
       "\n",
       "   INCOME_AMT_5M-10M  SPECIAL_CONSIDERATIONS_N  SPECIAL_CONSIDERATIONS_Y  \n",
       "0                0.0                       1.0                       0.0  \n",
       "1                0.0                       1.0                       0.0  \n",
       "2                0.0                       1.0                       0.0  \n",
       "3                0.0                       1.0                       0.0  \n",
       "4                0.0                       1.0                       0.0  \n",
       "\n",
       "[5 rows x 117 columns]"
      ]
     },
     "execution_count": 9,
     "metadata": {},
     "output_type": "execute_result"
    }
   ],
   "source": [
    "# Add the numerical variables from the original DataFrame to the one-hot encoding DataFrame\n",
    "encoded_df = pd.concat([applicant_data_df[['STATUS', 'ASK_AMT', 'IS_SUCCESSFUL']], encoded_df], axis=1)\n",
    "\n",
    "# Review the Dataframe\n",
    "encoded_df.head()\n"
   ]
  },
  {
   "cell_type": "markdown",
   "metadata": {},
   "source": [
    "### Step 5: Using the preprocessed data, create the features (`X`) and target (`y`) datasets. The target dataset should be defined by the preprocessed DataFrame column “IS_SUCCESSFUL”. The remaining columns should define the features dataset. \n",
    "\n"
   ]
  },
  {
   "cell_type": "code",
   "execution_count": 10,
   "metadata": {},
   "outputs": [
    {
     "data": {
      "text/plain": [
       "30325    1\n",
       "Name: IS_SUCCESSFUL, dtype: int64"
      ]
     },
     "execution_count": 10,
     "metadata": {},
     "output_type": "execute_result"
    }
   ],
   "source": [
    "# Define the target set y using the IS_SUCCESSFUL column\n",
    "y = encoded_df['IS_SUCCESSFUL']\n",
    "\n",
    "# Display a sample of y\n",
    "y.sample()\n"
   ]
  },
  {
   "cell_type": "code",
   "execution_count": 11,
   "metadata": {},
   "outputs": [
    {
     "data": {
      "text/html": [
       "<div>\n",
       "<style scoped>\n",
       "    .dataframe tbody tr th:only-of-type {\n",
       "        vertical-align: middle;\n",
       "    }\n",
       "\n",
       "    .dataframe tbody tr th {\n",
       "        vertical-align: top;\n",
       "    }\n",
       "\n",
       "    .dataframe thead th {\n",
       "        text-align: right;\n",
       "    }\n",
       "</style>\n",
       "<table border=\"1\" class=\"dataframe\">\n",
       "  <thead>\n",
       "    <tr style=\"text-align: right;\">\n",
       "      <th></th>\n",
       "      <th>STATUS</th>\n",
       "      <th>ASK_AMT</th>\n",
       "      <th>APPLICATION_TYPE_T10</th>\n",
       "      <th>APPLICATION_TYPE_T12</th>\n",
       "      <th>APPLICATION_TYPE_T13</th>\n",
       "      <th>APPLICATION_TYPE_T14</th>\n",
       "      <th>APPLICATION_TYPE_T15</th>\n",
       "      <th>APPLICATION_TYPE_T17</th>\n",
       "      <th>APPLICATION_TYPE_T19</th>\n",
       "      <th>APPLICATION_TYPE_T2</th>\n",
       "      <th>...</th>\n",
       "      <th>INCOME_AMT_1-9999</th>\n",
       "      <th>INCOME_AMT_10000-24999</th>\n",
       "      <th>INCOME_AMT_100000-499999</th>\n",
       "      <th>INCOME_AMT_10M-50M</th>\n",
       "      <th>INCOME_AMT_1M-5M</th>\n",
       "      <th>INCOME_AMT_25000-99999</th>\n",
       "      <th>INCOME_AMT_50M+</th>\n",
       "      <th>INCOME_AMT_5M-10M</th>\n",
       "      <th>SPECIAL_CONSIDERATIONS_N</th>\n",
       "      <th>SPECIAL_CONSIDERATIONS_Y</th>\n",
       "    </tr>\n",
       "  </thead>\n",
       "  <tbody>\n",
       "    <tr>\n",
       "      <th>0</th>\n",
       "      <td>1</td>\n",
       "      <td>5000</td>\n",
       "      <td>1.0</td>\n",
       "      <td>0.0</td>\n",
       "      <td>0.0</td>\n",
       "      <td>0.0</td>\n",
       "      <td>0.0</td>\n",
       "      <td>0.0</td>\n",
       "      <td>0.0</td>\n",
       "      <td>0.0</td>\n",
       "      <td>...</td>\n",
       "      <td>0.0</td>\n",
       "      <td>0.0</td>\n",
       "      <td>0.0</td>\n",
       "      <td>0.0</td>\n",
       "      <td>0.0</td>\n",
       "      <td>0.0</td>\n",
       "      <td>0.0</td>\n",
       "      <td>0.0</td>\n",
       "      <td>1.0</td>\n",
       "      <td>0.0</td>\n",
       "    </tr>\n",
       "    <tr>\n",
       "      <th>1</th>\n",
       "      <td>1</td>\n",
       "      <td>108590</td>\n",
       "      <td>0.0</td>\n",
       "      <td>0.0</td>\n",
       "      <td>0.0</td>\n",
       "      <td>0.0</td>\n",
       "      <td>0.0</td>\n",
       "      <td>0.0</td>\n",
       "      <td>0.0</td>\n",
       "      <td>0.0</td>\n",
       "      <td>...</td>\n",
       "      <td>1.0</td>\n",
       "      <td>0.0</td>\n",
       "      <td>0.0</td>\n",
       "      <td>0.0</td>\n",
       "      <td>0.0</td>\n",
       "      <td>0.0</td>\n",
       "      <td>0.0</td>\n",
       "      <td>0.0</td>\n",
       "      <td>1.0</td>\n",
       "      <td>0.0</td>\n",
       "    </tr>\n",
       "    <tr>\n",
       "      <th>2</th>\n",
       "      <td>1</td>\n",
       "      <td>5000</td>\n",
       "      <td>0.0</td>\n",
       "      <td>0.0</td>\n",
       "      <td>0.0</td>\n",
       "      <td>0.0</td>\n",
       "      <td>0.0</td>\n",
       "      <td>0.0</td>\n",
       "      <td>0.0</td>\n",
       "      <td>0.0</td>\n",
       "      <td>...</td>\n",
       "      <td>0.0</td>\n",
       "      <td>0.0</td>\n",
       "      <td>0.0</td>\n",
       "      <td>0.0</td>\n",
       "      <td>0.0</td>\n",
       "      <td>0.0</td>\n",
       "      <td>0.0</td>\n",
       "      <td>0.0</td>\n",
       "      <td>1.0</td>\n",
       "      <td>0.0</td>\n",
       "    </tr>\n",
       "    <tr>\n",
       "      <th>3</th>\n",
       "      <td>1</td>\n",
       "      <td>6692</td>\n",
       "      <td>0.0</td>\n",
       "      <td>0.0</td>\n",
       "      <td>0.0</td>\n",
       "      <td>0.0</td>\n",
       "      <td>0.0</td>\n",
       "      <td>0.0</td>\n",
       "      <td>0.0</td>\n",
       "      <td>0.0</td>\n",
       "      <td>...</td>\n",
       "      <td>0.0</td>\n",
       "      <td>1.0</td>\n",
       "      <td>0.0</td>\n",
       "      <td>0.0</td>\n",
       "      <td>0.0</td>\n",
       "      <td>0.0</td>\n",
       "      <td>0.0</td>\n",
       "      <td>0.0</td>\n",
       "      <td>1.0</td>\n",
       "      <td>0.0</td>\n",
       "    </tr>\n",
       "    <tr>\n",
       "      <th>4</th>\n",
       "      <td>1</td>\n",
       "      <td>142590</td>\n",
       "      <td>0.0</td>\n",
       "      <td>0.0</td>\n",
       "      <td>0.0</td>\n",
       "      <td>0.0</td>\n",
       "      <td>0.0</td>\n",
       "      <td>0.0</td>\n",
       "      <td>0.0</td>\n",
       "      <td>0.0</td>\n",
       "      <td>...</td>\n",
       "      <td>0.0</td>\n",
       "      <td>0.0</td>\n",
       "      <td>1.0</td>\n",
       "      <td>0.0</td>\n",
       "      <td>0.0</td>\n",
       "      <td>0.0</td>\n",
       "      <td>0.0</td>\n",
       "      <td>0.0</td>\n",
       "      <td>1.0</td>\n",
       "      <td>0.0</td>\n",
       "    </tr>\n",
       "  </tbody>\n",
       "</table>\n",
       "<p>5 rows × 116 columns</p>\n",
       "</div>"
      ],
      "text/plain": [
       "   STATUS  ASK_AMT  APPLICATION_TYPE_T10  APPLICATION_TYPE_T12  \\\n",
       "0       1     5000                   1.0                   0.0   \n",
       "1       1   108590                   0.0                   0.0   \n",
       "2       1     5000                   0.0                   0.0   \n",
       "3       1     6692                   0.0                   0.0   \n",
       "4       1   142590                   0.0                   0.0   \n",
       "\n",
       "   APPLICATION_TYPE_T13  APPLICATION_TYPE_T14  APPLICATION_TYPE_T15  \\\n",
       "0                   0.0                   0.0                   0.0   \n",
       "1                   0.0                   0.0                   0.0   \n",
       "2                   0.0                   0.0                   0.0   \n",
       "3                   0.0                   0.0                   0.0   \n",
       "4                   0.0                   0.0                   0.0   \n",
       "\n",
       "   APPLICATION_TYPE_T17  APPLICATION_TYPE_T19  APPLICATION_TYPE_T2  ...  \\\n",
       "0                   0.0                   0.0                  0.0  ...   \n",
       "1                   0.0                   0.0                  0.0  ...   \n",
       "2                   0.0                   0.0                  0.0  ...   \n",
       "3                   0.0                   0.0                  0.0  ...   \n",
       "4                   0.0                   0.0                  0.0  ...   \n",
       "\n",
       "   INCOME_AMT_1-9999  INCOME_AMT_10000-24999  INCOME_AMT_100000-499999  \\\n",
       "0                0.0                     0.0                       0.0   \n",
       "1                1.0                     0.0                       0.0   \n",
       "2                0.0                     0.0                       0.0   \n",
       "3                0.0                     1.0                       0.0   \n",
       "4                0.0                     0.0                       1.0   \n",
       "\n",
       "   INCOME_AMT_10M-50M  INCOME_AMT_1M-5M  INCOME_AMT_25000-99999  \\\n",
       "0                 0.0               0.0                     0.0   \n",
       "1                 0.0               0.0                     0.0   \n",
       "2                 0.0               0.0                     0.0   \n",
       "3                 0.0               0.0                     0.0   \n",
       "4                 0.0               0.0                     0.0   \n",
       "\n",
       "   INCOME_AMT_50M+  INCOME_AMT_5M-10M  SPECIAL_CONSIDERATIONS_N  \\\n",
       "0              0.0                0.0                       1.0   \n",
       "1              0.0                0.0                       1.0   \n",
       "2              0.0                0.0                       1.0   \n",
       "3              0.0                0.0                       1.0   \n",
       "4              0.0                0.0                       1.0   \n",
       "\n",
       "   SPECIAL_CONSIDERATIONS_Y  \n",
       "0                       0.0  \n",
       "1                       0.0  \n",
       "2                       0.0  \n",
       "3                       0.0  \n",
       "4                       0.0  \n",
       "\n",
       "[5 rows x 116 columns]"
      ]
     },
     "execution_count": 11,
     "metadata": {},
     "output_type": "execute_result"
    }
   ],
   "source": [
    "# Define features set X by selecting all columns but IS_SUCCESSFUL\n",
    "X = encoded_df.drop(columns=['IS_SUCCESSFUL'])\n",
    "\n",
    "# Review the features DataFrame\n",
    "X.head()\n"
   ]
  },
  {
   "cell_type": "markdown",
   "metadata": {},
   "source": [
    "### Step 6: Split the features and target sets into training and testing datasets.\n"
   ]
  },
  {
   "cell_type": "code",
   "execution_count": 12,
   "metadata": {},
   "outputs": [],
   "source": [
    "# Split the preprocessed data into a training and testing dataset\n",
    "# Assign the function a random_state equal to 1\n",
    "X_train, X_test, y_train, y_test = train_test_split(X, y, random_state=1)\n"
   ]
  },
  {
   "cell_type": "markdown",
   "metadata": {},
   "source": [
    "### Step 7: Use scikit-learn's `StandardScaler` to scale the features data."
   ]
  },
  {
   "cell_type": "code",
   "execution_count": 13,
   "metadata": {},
   "outputs": [],
   "source": [
    "# Create a StandardScaler instance\n",
    "scaler = StandardScaler()\n",
    "\n",
    "# Fit the scaler to the features training dataset\n",
    "X_scaler = scaler.fit(X_train)\n",
    "\n",
    "# Fit the scaler to the features training dataset\n",
    "X_train_scaled = X_scaler.transform(X_train)\n",
    "X_test_scaled = X_scaler.transform(X_test)\n"
   ]
  },
  {
   "cell_type": "markdown",
   "metadata": {},
   "source": [
    "---\n",
    "\n",
    "## Compile and Evaluate a Binary Classification Model Using a Neural Network"
   ]
  },
  {
   "cell_type": "markdown",
   "metadata": {},
   "source": [
    "### Step 1: Create a deep neural network by assigning the number of input features, the number of layers, and the number of neurons on each layer using Tensorflow’s Keras.\n",
    "\n",
    "> **Hint** You can start with a two-layer deep neural network model that uses the `relu` activation function for both layers.\n"
   ]
  },
  {
   "cell_type": "code",
   "execution_count": 14,
   "metadata": {},
   "outputs": [
    {
     "data": {
      "text/plain": [
       "116"
      ]
     },
     "execution_count": 14,
     "metadata": {},
     "output_type": "execute_result"
    }
   ],
   "source": [
    "# Define the the number of inputs (features) to the model\n",
    "number_input_features = 116 \n",
    "\n",
    "# Review the number of features\n",
    "number_input_features\n"
   ]
  },
  {
   "cell_type": "code",
   "execution_count": 15,
   "metadata": {},
   "outputs": [],
   "source": [
    "# Define the number of neurons in the output layer\n",
    "number_output_neurons = 2"
   ]
  },
  {
   "cell_type": "code",
   "execution_count": 16,
   "metadata": {},
   "outputs": [
    {
     "data": {
      "text/plain": [
       "2"
      ]
     },
     "execution_count": 16,
     "metadata": {},
     "output_type": "execute_result"
    }
   ],
   "source": [
    "# Define the number of hidden nodes for the first hidden layer\n",
    "hidden_nodes_layer1 =  2\n",
    "\n",
    "# Review the number hidden nodes in the first layer\n",
    "hidden_nodes_layer1\n"
   ]
  },
  {
   "cell_type": "code",
   "execution_count": 17,
   "metadata": {},
   "outputs": [
    {
     "data": {
      "text/plain": [
       "2"
      ]
     },
     "execution_count": 17,
     "metadata": {},
     "output_type": "execute_result"
    }
   ],
   "source": [
    "# Define the number of hidden nodes for the second hidden layer\n",
    "hidden_nodes_layer2 =  2\n",
    "\n",
    "# Review the number hidden nodes in the second layer\n",
    "hidden_nodes_layer2\n"
   ]
  },
  {
   "cell_type": "code",
   "execution_count": null,
   "metadata": {},
   "outputs": [],
   "source": []
  },
  {
   "cell_type": "code",
   "execution_count": 18,
   "metadata": {},
   "outputs": [],
   "source": [
    "# Create the Sequential model instance\n",
    "nn = Sequential()\n"
   ]
  },
  {
   "cell_type": "code",
   "execution_count": 19,
   "metadata": {},
   "outputs": [],
   "source": [
    "# Add the first hidden layer\n",
    "nn.add(Dense(input_dim=number_input_features, units=hidden_nodes_layer1, activation=\"relu\"))\n"
   ]
  },
  {
   "cell_type": "code",
   "execution_count": 20,
   "metadata": {},
   "outputs": [],
   "source": [
    "# Add the second hidden layer\n",
    "nn.add(Dense(input_dim=number_input_features, units=hidden_nodes_layer2, activation=\"relu\"))\n"
   ]
  },
  {
   "cell_type": "code",
   "execution_count": 21,
   "metadata": {},
   "outputs": [],
   "source": [
    "# Add the output layer to the model specifying the number of output neurons and activation function\n",
    "nn.add(Dense(units=number_output_neurons, activation=\"relu\"))\n"
   ]
  },
  {
   "cell_type": "code",
   "execution_count": 22,
   "metadata": {},
   "outputs": [
    {
     "name": "stdout",
     "output_type": "stream",
     "text": [
      "Model: \"sequential\"\n",
      "_________________________________________________________________\n",
      "Layer (type)                 Output Shape              Param #   \n",
      "=================================================================\n",
      "dense (Dense)                (None, 2)                 234       \n",
      "_________________________________________________________________\n",
      "dense_1 (Dense)              (None, 2)                 6         \n",
      "_________________________________________________________________\n",
      "dense_2 (Dense)              (None, 2)                 6         \n",
      "=================================================================\n",
      "Total params: 246\n",
      "Trainable params: 246\n",
      "Non-trainable params: 0\n",
      "_________________________________________________________________\n"
     ]
    }
   ],
   "source": [
    "# Display the Sequential model summary\n",
    "nn.summary()"
   ]
  },
  {
   "cell_type": "markdown",
   "metadata": {},
   "source": [
    "### Step 2: Compile and fit the model using the `binary_crossentropy` loss function, the `adam` optimizer, and the `accuracy` evaluation metric.\n"
   ]
  },
  {
   "cell_type": "code",
   "execution_count": 23,
   "metadata": {},
   "outputs": [],
   "source": [
    "# Compile the Sequential model\n",
    "nn.compile(optimizer='adam',loss='binary_crossentropy', metrics=['accuracy'])\n"
   ]
  },
  {
   "cell_type": "code",
   "execution_count": 24,
   "metadata": {},
   "outputs": [
    {
     "name": "stdout",
     "output_type": "stream",
     "text": [
      "Epoch 1/50\n",
      "804/804 [==============================] - 1s 494us/step - loss: 8.2288 - accuracy: 0.4665\n",
      "Epoch 2/50\n",
      "804/804 [==============================] - 0s 465us/step - loss: 8.2288 - accuracy: 0.4665\n",
      "Epoch 3/50\n",
      "804/804 [==============================] - 0s 452us/step - loss: 8.2288 - accuracy: 0.4665\n",
      "Epoch 4/50\n",
      "804/804 [==============================] - 0s 450us/step - loss: 8.2288 - accuracy: 0.4665\n",
      "Epoch 5/50\n",
      "804/804 [==============================] - 0s 460us/step - loss: 8.2288 - accuracy: 0.4665\n",
      "Epoch 6/50\n",
      "804/804 [==============================] - 0s 453us/step - loss: 8.2288 - accuracy: 0.4665\n",
      "Epoch 7/50\n",
      "804/804 [==============================] - 0s 477us/step - loss: 8.2288 - accuracy: 0.4665\n",
      "Epoch 8/50\n",
      "804/804 [==============================] - 0s 460us/step - loss: 8.2288 - accuracy: 0.4665\n",
      "Epoch 9/50\n",
      "804/804 [==============================] - 0s 451us/step - loss: 8.2288 - accuracy: 0.4665\n",
      "Epoch 10/50\n",
      "804/804 [==============================] - 0s 453us/step - loss: 8.2288 - accuracy: 0.4665\n",
      "Epoch 11/50\n",
      "804/804 [==============================] - 0s 454us/step - loss: 8.2288 - accuracy: 0.4665\n",
      "Epoch 12/50\n",
      "804/804 [==============================] - 0s 449us/step - loss: 8.2288 - accuracy: 0.4665\n",
      "Epoch 13/50\n",
      "804/804 [==============================] - 0s 449us/step - loss: 8.2288 - accuracy: 0.4665\n",
      "Epoch 14/50\n",
      "804/804 [==============================] - 0s 457us/step - loss: 8.2288 - accuracy: 0.4665\n",
      "Epoch 15/50\n",
      "804/804 [==============================] - 0s 456us/step - loss: 8.2288 - accuracy: 0.4665\n",
      "Epoch 16/50\n",
      "804/804 [==============================] - 0s 453us/step - loss: 8.2288 - accuracy: 0.4665\n",
      "Epoch 17/50\n",
      "804/804 [==============================] - 0s 448us/step - loss: 8.2288 - accuracy: 0.4665\n",
      "Epoch 18/50\n",
      "804/804 [==============================] - 0s 452us/step - loss: 8.2288 - accuracy: 0.4665\n",
      "Epoch 19/50\n",
      "804/804 [==============================] - 0s 447us/step - loss: 8.2288 - accuracy: 0.4665\n",
      "Epoch 20/50\n",
      "804/804 [==============================] - 0s 450us/step - loss: 8.2288 - accuracy: 0.4665\n",
      "Epoch 21/50\n",
      "804/804 [==============================] - 0s 456us/step - loss: 8.2288 - accuracy: 0.4665\n",
      "Epoch 22/50\n",
      "804/804 [==============================] - 0s 447us/step - loss: 8.2288 - accuracy: 0.4665\n",
      "Epoch 23/50\n",
      "804/804 [==============================] - 0s 451us/step - loss: 8.2288 - accuracy: 0.4665\n",
      "Epoch 24/50\n",
      "804/804 [==============================] - 0s 450us/step - loss: 8.2288 - accuracy: 0.4665\n",
      "Epoch 25/50\n",
      "804/804 [==============================] - 0s 452us/step - loss: 8.2288 - accuracy: 0.4665\n",
      "Epoch 26/50\n",
      "804/804 [==============================] - 0s 450us/step - loss: 8.2288 - accuracy: 0.4665\n",
      "Epoch 27/50\n",
      "804/804 [==============================] - 0s 471us/step - loss: 8.2288 - accuracy: 0.4665\n",
      "Epoch 28/50\n",
      "804/804 [==============================] - 0s 468us/step - loss: 8.2288 - accuracy: 0.4665\n",
      "Epoch 29/50\n",
      "804/804 [==============================] - 0s 449us/step - loss: 8.2288 - accuracy: 0.4665\n",
      "Epoch 30/50\n",
      "804/804 [==============================] - 0s 448us/step - loss: 8.2288 - accuracy: 0.4665\n",
      "Epoch 31/50\n",
      "804/804 [==============================] - 0s 451us/step - loss: 8.2288 - accuracy: 0.4665\n",
      "Epoch 32/50\n",
      "804/804 [==============================] - 0s 450us/step - loss: 8.2288 - accuracy: 0.4665\n",
      "Epoch 33/50\n",
      "804/804 [==============================] - 0s 452us/step - loss: 8.2288 - accuracy: 0.4665\n",
      "Epoch 34/50\n",
      "804/804 [==============================] - 0s 451us/step - loss: 8.2288 - accuracy: 0.4665\n",
      "Epoch 35/50\n",
      "804/804 [==============================] - 0s 453us/step - loss: 8.2288 - accuracy: 0.4665\n",
      "Epoch 36/50\n",
      "804/804 [==============================] - 0s 446us/step - loss: 8.2288 - accuracy: 0.4665\n",
      "Epoch 37/50\n",
      "804/804 [==============================] - 0s 448us/step - loss: 8.2288 - accuracy: 0.4665\n",
      "Epoch 38/50\n",
      "804/804 [==============================] - 0s 495us/step - loss: 8.2288 - accuracy: 0.4665\n",
      "Epoch 39/50\n",
      "804/804 [==============================] - 0s 493us/step - loss: 8.2288 - accuracy: 0.4665\n",
      "Epoch 40/50\n",
      "804/804 [==============================] - 0s 487us/step - loss: 8.2288 - accuracy: 0.4665\n",
      "Epoch 41/50\n",
      "804/804 [==============================] - 0s 487us/step - loss: 8.2288 - accuracy: 0.4665\n",
      "Epoch 42/50\n",
      "804/804 [==============================] - 0s 510us/step - loss: 8.2288 - accuracy: 0.4665\n",
      "Epoch 43/50\n",
      "804/804 [==============================] - 0s 501us/step - loss: 8.2288 - accuracy: 0.4665\n",
      "Epoch 44/50\n",
      "804/804 [==============================] - 0s 453us/step - loss: 8.2288 - accuracy: 0.4665\n",
      "Epoch 45/50\n",
      "804/804 [==============================] - 0s 491us/step - loss: 8.2288 - accuracy: 0.4665\n",
      "Epoch 46/50\n",
      "804/804 [==============================] - 0s 436us/step - loss: 8.2288 - accuracy: 0.4665\n",
      "Epoch 47/50\n",
      "804/804 [==============================] - 0s 431us/step - loss: 8.2288 - accuracy: 0.4665\n",
      "Epoch 48/50\n",
      "804/804 [==============================] - 0s 472us/step - loss: 8.2288 - accuracy: 0.4665\n",
      "Epoch 49/50\n",
      "804/804 [==============================] - 0s 454us/step - loss: 8.2288 - accuracy: 0.4665\n",
      "Epoch 50/50\n",
      "804/804 [==============================] - 0s 449us/step - loss: 8.2288 - accuracy: 0.4665\n"
     ]
    },
    {
     "data": {
      "text/plain": [
       "<keras.callbacks.History at 0x17b73e5f760>"
      ]
     },
     "execution_count": 24,
     "metadata": {},
     "output_type": "execute_result"
    }
   ],
   "source": [
    "# Fit the model using 50 epochs and the training data\n",
    "nn.fit(X_train_scaled, y_train, epochs=50)\n"
   ]
  },
  {
   "cell_type": "markdown",
   "metadata": {},
   "source": [
    "### Step 3: Evaluate the model using the test data to determine the model’s loss and accuracy.\n"
   ]
  },
  {
   "cell_type": "code",
   "execution_count": 25,
   "metadata": {},
   "outputs": [
    {
     "name": "stdout",
     "output_type": "stream",
     "text": [
      "268/268 - 0s - loss: 8.1631 - accuracy: 0.4708\n",
      "Loss: 8.163082122802734, Accuracy: 0.4707871675491333\n"
     ]
    }
   ],
   "source": [
    "# Evaluate the model loss and accuracy metrics using the evaluate method and the test data\n",
    "model_loss, model_accuracy = nn.evaluate(\n",
    "    X_test_scaled, y_test, verbose=2\n",
    ")\n",
    "\n",
    "# Display the model loss and accuracy results\n",
    "print(f\"Loss: {model_loss}, Accuracy: {model_accuracy}\")"
   ]
  },
  {
   "cell_type": "code",
   "execution_count": 26,
   "metadata": {},
   "outputs": [],
   "source": [
    "from pathlib import Path"
   ]
  },
  {
   "cell_type": "markdown",
   "metadata": {},
   "source": [
    "### Step 4: Save and export your model to an HDF5 file, and name the file `AlphabetSoup.h5`. \n"
   ]
  },
  {
   "cell_type": "code",
   "execution_count": 27,
   "metadata": {},
   "outputs": [],
   "source": [
    "# Set the model's file path\n",
    "file_path = Path(\"Resources/AlphabeSoup.h5\")\n",
    "# Export your model to a HDF5 file\n",
    "nn.save(file_path)"
   ]
  },
  {
   "cell_type": "markdown",
   "metadata": {},
   "source": [
    "---\n",
    "\n",
    "## Optimize the neural network model\n"
   ]
  },
  {
   "cell_type": "markdown",
   "metadata": {},
   "source": [
    "### Step 1: Define at least three new deep neural network models (resulting in the original plus 3 optimization attempts). With each, try to improve on your first model’s predictive accuracy.\n",
    "\n",
    "> **Rewind** Recall that perfect accuracy has a value of 1, so accuracy improves as its value moves closer to 1. To optimize your model for a predictive accuracy as close to 1 as possible, you can use any or all of the following techniques:\n",
    ">\n",
    "> * Adjust the input data by dropping different features columns to ensure that no variables or outliers confuse the model.\n",
    ">\n",
    "> * Add more neurons (nodes) to a hidden layer.\n",
    ">\n",
    "> * Add more hidden layers.\n",
    ">\n",
    "> * Use different activation functions for the hidden layers.\n",
    ">\n",
    "> * Add to or reduce the number of epochs in the training regimen.\n"
   ]
  },
  {
   "cell_type": "markdown",
   "metadata": {},
   "source": [
    "### Alternative Model 1"
   ]
  },
  {
   "cell_type": "code",
   "execution_count": 28,
   "metadata": {},
   "outputs": [
    {
     "data": {
      "text/plain": [
       "116"
      ]
     },
     "execution_count": 28,
     "metadata": {},
     "output_type": "execute_result"
    }
   ],
   "source": [
    "# Define the the number of inputs (features) to the model\n",
    "number_input_features = len(X_train.iloc[0])\n",
    "\n",
    "# Review the number of features\n",
    "number_input_features"
   ]
  },
  {
   "cell_type": "code",
   "execution_count": 29,
   "metadata": {},
   "outputs": [],
   "source": [
    "# Define the number of neurons in the output layer\n",
    "number_output_neurons_A1 = 18"
   ]
  },
  {
   "cell_type": "code",
   "execution_count": 30,
   "metadata": {},
   "outputs": [
    {
     "data": {
      "text/plain": [
       "24"
      ]
     },
     "execution_count": 30,
     "metadata": {},
     "output_type": "execute_result"
    }
   ],
   "source": [
    "# Define the number of hidden nodes for the first hidden layer\n",
    "hidden_nodes_layer1_A1 = 24\n",
    "\n",
    "# Review the number of hidden nodes in the first layer\n",
    "hidden_nodes_layer1_A1"
   ]
  },
  {
   "cell_type": "code",
   "execution_count": 31,
   "metadata": {},
   "outputs": [
    {
     "data": {
      "text/plain": [
       "12"
      ]
     },
     "execution_count": 31,
     "metadata": {},
     "output_type": "execute_result"
    }
   ],
   "source": [
    "# Define the number of hidden nodes for the first hidden layer\n",
    "hidden_nodes_layer2_A1 = 12\n",
    "\n",
    "# Review the number of hidden nodes in the first layer\n",
    "hidden_nodes_layer2_A1"
   ]
  },
  {
   "cell_type": "code",
   "execution_count": 32,
   "metadata": {},
   "outputs": [],
   "source": [
    "# Create the Sequential model instance\n",
    "nn_A1 = Sequential()"
   ]
  },
  {
   "cell_type": "code",
   "execution_count": 33,
   "metadata": {},
   "outputs": [
    {
     "name": "stdout",
     "output_type": "stream",
     "text": [
      "Model: \"sequential_1\"\n",
      "_________________________________________________________________\n",
      "Layer (type)                 Output Shape              Param #   \n",
      "=================================================================\n",
      "dense_3 (Dense)              (None, 24)                2808      \n",
      "_________________________________________________________________\n",
      "dense_4 (Dense)              (None, 12)                300       \n",
      "_________________________________________________________________\n",
      "dense_5 (Dense)              (None, 18)                234       \n",
      "=================================================================\n",
      "Total params: 3,342\n",
      "Trainable params: 3,342\n",
      "Non-trainable params: 0\n",
      "_________________________________________________________________\n"
     ]
    }
   ],
   "source": [
    "# First hidden layer\n",
    "nn_A1.add(Dense(input_dim=number_input_features, units=hidden_nodes_layer1_A1, activation=\"relu\"))\n",
    "\n",
    "# Second hidden layer\n",
    "nn_A1.add(Dense(input_dim=number_input_features, units=hidden_nodes_layer2_A1, activation=\"linear\"))\n",
    "\n",
    "\n",
    "# Output layer\n",
    "nn_A1.add(Dense(units=number_output_neurons_A1, activation=\"relu\"))\n",
    "\n",
    "\n",
    "# Check the structure of the model\n",
    "nn_A1.summary()"
   ]
  },
  {
   "cell_type": "code",
   "execution_count": 34,
   "metadata": {},
   "outputs": [],
   "source": [
    "# Compile the Sequential model\n",
    "nn_A1.compile(optimizer='adam',loss='binary_crossentropy', metrics=['accuracy'])\n"
   ]
  },
  {
   "cell_type": "code",
   "execution_count": 35,
   "metadata": {},
   "outputs": [
    {
     "name": "stdout",
     "output_type": "stream",
     "text": [
      "Epoch 1/100\n",
      "804/804 [==============================] - 1s 514us/step - loss: 1.9976 - accuracy: 0.0170\n",
      "Epoch 2/100\n",
      "804/804 [==============================] - 0s 500us/step - loss: 0.9755 - accuracy: 0.0401\n",
      "Epoch 3/100\n",
      "804/804 [==============================] - 0s 565us/step - loss: 0.8722 - accuracy: 0.1607\n",
      "Epoch 4/100\n",
      "804/804 [==============================] - 0s 512us/step - loss: 0.8263 - accuracy: 0.1565\n",
      "Epoch 5/100\n",
      "804/804 [==============================] - 0s 554us/step - loss: 0.7948 - accuracy: 0.1514\n",
      "Epoch 6/100\n",
      "804/804 [==============================] - 0s 521us/step - loss: 0.7381 - accuracy: 0.2009\n",
      "Epoch 7/100\n",
      "804/804 [==============================] - 0s 516us/step - loss: 0.7159 - accuracy: 0.1745\n",
      "Epoch 8/100\n",
      "804/804 [==============================] - 0s 502us/step - loss: 0.7163 - accuracy: 0.1460\n",
      "Epoch 9/100\n",
      "804/804 [==============================] - 0s 491us/step - loss: 0.6764 - accuracy: 0.1223\n",
      "Epoch 10/100\n",
      "804/804 [==============================] - 0s 496us/step - loss: 0.6546 - accuracy: 0.1724\n",
      "Epoch 11/100\n",
      "804/804 [==============================] - 0s 502us/step - loss: 0.6441 - accuracy: 0.1730\n",
      "Epoch 12/100\n",
      "804/804 [==============================] - 0s 497us/step - loss: 0.6429 - accuracy: 0.1697\n",
      "Epoch 13/100\n",
      "804/804 [==============================] - 0s 462us/step - loss: 0.6519 - accuracy: 0.1168\n",
      "Epoch 14/100\n",
      "804/804 [==============================] - 0s 464us/step - loss: 0.6287 - accuracy: 0.0952\n",
      "Epoch 15/100\n",
      "804/804 [==============================] - 0s 461us/step - loss: 0.6241 - accuracy: 0.0990\n",
      "Epoch 16/100\n",
      "804/804 [==============================] - 0s 468us/step - loss: 0.6158 - accuracy: 0.1160\n",
      "Epoch 17/100\n",
      "804/804 [==============================] - 0s 504us/step - loss: 0.6150 - accuracy: 0.1150\n",
      "Epoch 18/100\n",
      "804/804 [==============================] - 0s 533us/step - loss: 0.6120 - accuracy: 0.1196\n",
      "Epoch 19/100\n",
      "804/804 [==============================] - 0s 485us/step - loss: 0.5936 - accuracy: 0.1037\n",
      "Epoch 20/100\n",
      "804/804 [==============================] - 0s 463us/step - loss: 0.6011 - accuracy: 0.0644\n",
      "Epoch 21/100\n",
      "804/804 [==============================] - 0s 461us/step - loss: 0.6022 - accuracy: 0.0421\n",
      "Epoch 22/100\n",
      "804/804 [==============================] - 0s 465us/step - loss: 0.5981 - accuracy: 0.0595\n",
      "Epoch 23/100\n",
      "804/804 [==============================] - 0s 465us/step - loss: 0.5943 - accuracy: 0.0669\n",
      "Epoch 24/100\n",
      "804/804 [==============================] - 0s 532us/step - loss: 0.5942 - accuracy: 0.0740\n",
      "Epoch 25/100\n",
      "804/804 [==============================] - 0s 474us/step - loss: 0.5880 - accuracy: 0.1205\n",
      "Epoch 26/100\n",
      "804/804 [==============================] - 0s 497us/step - loss: 0.5951 - accuracy: 0.0993\n",
      "Epoch 27/100\n",
      "804/804 [==============================] - 0s 501us/step - loss: 0.5868 - accuracy: 0.1100\n",
      "Epoch 28/100\n",
      "804/804 [==============================] - 0s 473us/step - loss: 0.5852 - accuracy: 0.0618\n",
      "Epoch 29/100\n",
      "804/804 [==============================] - 0s 467us/step - loss: 0.5831 - accuracy: 0.0598\n",
      "Epoch 30/100\n",
      "804/804 [==============================] - 0s 461us/step - loss: 0.5793 - accuracy: 0.0752\n",
      "Epoch 31/100\n",
      "804/804 [==============================] - 0s 513us/step - loss: 0.5770 - accuracy: 0.2099\n",
      "Epoch 32/100\n",
      "804/804 [==============================] - 0s 528us/step - loss: 0.5768 - accuracy: 0.0543\n",
      "Epoch 33/100\n",
      "804/804 [==============================] - 0s 461us/step - loss: 0.5780 - accuracy: 0.0342\n",
      "Epoch 34/100\n",
      "804/804 [==============================] - 0s 464us/step - loss: 0.5718 - accuracy: 0.0337\n",
      "Epoch 35/100\n",
      "804/804 [==============================] - 0s 462us/step - loss: 0.5818 - accuracy: 0.0635\n",
      "Epoch 36/100\n",
      "804/804 [==============================] - 0s 467us/step - loss: 0.5820 - accuracy: 0.0853\n",
      "Epoch 37/100\n",
      "804/804 [==============================] - 0s 474us/step - loss: 0.5744 - accuracy: 0.0680\n",
      "Epoch 38/100\n",
      "804/804 [==============================] - 0s 462us/step - loss: 0.5733 - accuracy: 0.0299\n",
      "Epoch 39/100\n",
      "804/804 [==============================] - 0s 499us/step - loss: 0.5739 - accuracy: 0.0524\n",
      "Epoch 40/100\n",
      "804/804 [==============================] - 0s 490us/step - loss: 0.5716 - accuracy: 0.0356\n",
      "Epoch 41/100\n",
      "804/804 [==============================] - 0s 525us/step - loss: 0.5718 - accuracy: 0.0481\n",
      "Epoch 42/100\n",
      "804/804 [==============================] - 0s 620us/step - loss: 0.5843 - accuracy: 0.0628\n",
      "Epoch 43/100\n",
      "804/804 [==============================] - 0s 479us/step - loss: 0.5731 - accuracy: 0.1908\n",
      "Epoch 44/100\n",
      "804/804 [==============================] - 0s 491us/step - loss: 0.5707 - accuracy: 0.0613\n",
      "Epoch 45/100\n",
      "804/804 [==============================] - 0s 468us/step - loss: 0.5695 - accuracy: 0.0261\n",
      "Epoch 46/100\n",
      "804/804 [==============================] - 0s 481us/step - loss: 0.5705 - accuracy: 0.0255\n",
      "Epoch 47/100\n",
      "804/804 [==============================] - 0s 497us/step - loss: 0.5684 - accuracy: 0.0385\n",
      "Epoch 48/100\n",
      "804/804 [==============================] - 0s 466us/step - loss: 0.5706 - accuracy: 0.0316\n",
      "Epoch 49/100\n",
      "804/804 [==============================] - 0s 517us/step - loss: 0.5774 - accuracy: 0.0332\n",
      "Epoch 50/100\n",
      "804/804 [==============================] - 0s 476us/step - loss: 0.5780 - accuracy: 0.0220\n",
      "Epoch 51/100\n",
      "804/804 [==============================] - 0s 499us/step - loss: 0.5697 - accuracy: 0.0169\n",
      "Epoch 52/100\n",
      "804/804 [==============================] - 0s 497us/step - loss: 0.5691 - accuracy: 0.0344\n",
      "Epoch 53/100\n",
      "804/804 [==============================] - 0s 486us/step - loss: 0.5684 - accuracy: 0.0425\n",
      "Epoch 54/100\n",
      "804/804 [==============================] - 0s 512us/step - loss: 0.5680 - accuracy: 0.0561\n",
      "Epoch 55/100\n",
      "804/804 [==============================] - 0s 564us/step - loss: 0.5711 - accuracy: 0.0394\n",
      "Epoch 56/100\n",
      "804/804 [==============================] - 0s 513us/step - loss: 0.5664 - accuracy: 0.0545\n",
      "Epoch 57/100\n",
      "804/804 [==============================] - 0s 493us/step - loss: 0.5683 - accuracy: 0.0287\n",
      "Epoch 58/100\n",
      "804/804 [==============================] - 0s 479us/step - loss: 0.5639 - accuracy: 0.0231\n",
      "Epoch 59/100\n",
      "804/804 [==============================] - 0s 482us/step - loss: 0.5637 - accuracy: 0.0225\n",
      "Epoch 60/100\n",
      "804/804 [==============================] - 0s 502us/step - loss: 0.5662 - accuracy: 0.0417\n",
      "Epoch 61/100\n",
      "804/804 [==============================] - 0s 488us/step - loss: 0.5643 - accuracy: 0.0533\n",
      "Epoch 62/100\n",
      "804/804 [==============================] - 0s 486us/step - loss: 0.5655 - accuracy: 0.1495\n",
      "Epoch 63/100\n",
      "804/804 [==============================] - 0s 525us/step - loss: 0.5676 - accuracy: 0.0426\n",
      "Epoch 64/100\n",
      "804/804 [==============================] - 0s 468us/step - loss: 0.5659 - accuracy: 0.0307\n",
      "Epoch 65/100\n",
      "804/804 [==============================] - 0s 486us/step - loss: 0.5683 - accuracy: 0.0577\n",
      "Epoch 66/100\n",
      "804/804 [==============================] - 0s 496us/step - loss: 0.5665 - accuracy: 0.0760\n",
      "Epoch 67/100\n",
      "804/804 [==============================] - 0s 482us/step - loss: 0.5662 - accuracy: 0.0711\n",
      "Epoch 68/100\n",
      "804/804 [==============================] - 0s 482us/step - loss: 0.5662 - accuracy: 0.0292\n",
      "Epoch 69/100\n",
      "804/804 [==============================] - 0s 501us/step - loss: 0.5619 - accuracy: 0.0577\n",
      "Epoch 70/100\n",
      "804/804 [==============================] - 0s 483us/step - loss: 0.5622 - accuracy: 0.0559\n",
      "Epoch 71/100\n",
      "804/804 [==============================] - 0s 462us/step - loss: 0.5639 - accuracy: 0.0424\n",
      "Epoch 72/100\n",
      "804/804 [==============================] - 0s 462us/step - loss: 0.5654 - accuracy: 0.0480\n",
      "Epoch 73/100\n",
      "804/804 [==============================] - 0s 488us/step - loss: 0.5627 - accuracy: 0.0276\n",
      "Epoch 74/100\n",
      "804/804 [==============================] - 0s 471us/step - loss: 0.5612 - accuracy: 0.0236\n",
      "Epoch 75/100\n",
      "804/804 [==============================] - 0s 477us/step - loss: 0.5658 - accuracy: 0.0527\n",
      "Epoch 76/100\n",
      "804/804 [==============================] - 0s 467us/step - loss: 0.5633 - accuracy: 0.0323\n",
      "Epoch 77/100\n",
      "804/804 [==============================] - 0s 489us/step - loss: 0.5626 - accuracy: 0.0324\n",
      "Epoch 78/100\n",
      "804/804 [==============================] - 0s 473us/step - loss: 0.5604 - accuracy: 0.0320\n",
      "Epoch 79/100\n",
      "804/804 [==============================] - 0s 581us/step - loss: 0.5625 - accuracy: 0.0470\n",
      "Epoch 80/100\n",
      "804/804 [==============================] - 0s 564us/step - loss: 0.5612 - accuracy: 0.0412\n",
      "Epoch 81/100\n",
      "804/804 [==============================] - 0s 536us/step - loss: 0.5620 - accuracy: 0.0504\n",
      "Epoch 82/100\n",
      "804/804 [==============================] - 0s 512us/step - loss: 0.5629 - accuracy: 0.0553\n",
      "Epoch 83/100\n",
      "804/804 [==============================] - 0s 513us/step - loss: 0.5612 - accuracy: 0.0825\n",
      "Epoch 84/100\n",
      "804/804 [==============================] - 0s 487us/step - loss: 0.5626 - accuracy: 0.0403\n",
      "Epoch 85/100\n",
      "804/804 [==============================] - 0s 470us/step - loss: 0.5617 - accuracy: 0.0449\n",
      "Epoch 86/100\n",
      "804/804 [==============================] - 0s 461us/step - loss: 0.5619 - accuracy: 0.0723\n",
      "Epoch 87/100\n",
      "804/804 [==============================] - 0s 466us/step - loss: 0.5618 - accuracy: 0.0468\n",
      "Epoch 88/100\n",
      "804/804 [==============================] - 0s 462us/step - loss: 0.5621 - accuracy: 0.1191\n",
      "Epoch 89/100\n",
      "804/804 [==============================] - 0s 468us/step - loss: 0.5651 - accuracy: 0.0863\n",
      "Epoch 90/100\n",
      "804/804 [==============================] - 0s 466us/step - loss: 0.5634 - accuracy: 0.0650\n",
      "Epoch 91/100\n",
      "804/804 [==============================] - 0s 469us/step - loss: 0.5618 - accuracy: 0.0681\n",
      "Epoch 92/100\n",
      "804/804 [==============================] - 0s 465us/step - loss: 0.5698 - accuracy: 0.0617\n",
      "Epoch 93/100\n",
      "804/804 [==============================] - 0s 466us/step - loss: 0.5615 - accuracy: 0.0622\n",
      "Epoch 94/100\n",
      "804/804 [==============================] - 0s 466us/step - loss: 0.5618 - accuracy: 0.0588\n",
      "Epoch 95/100\n",
      "804/804 [==============================] - 0s 484us/step - loss: 0.5608 - accuracy: 0.0644\n",
      "Epoch 96/100\n",
      "804/804 [==============================] - 0s 473us/step - loss: 0.5617 - accuracy: 0.0492\n",
      "Epoch 97/100\n",
      "804/804 [==============================] - 0s 472us/step - loss: 0.5700 - accuracy: 0.0554\n",
      "Epoch 98/100\n",
      "804/804 [==============================] - 0s 472us/step - loss: 0.5641 - accuracy: 0.0486\n",
      "Epoch 99/100\n",
      "804/804 [==============================] - 0s 473us/step - loss: 0.5593 - accuracy: 0.0391\n",
      "Epoch 100/100\n",
      "804/804 [==============================] - 0s 478us/step - loss: 0.5589 - accuracy: 0.0441\n"
     ]
    }
   ],
   "source": [
    "# Fit the model using 50 epochs and the training data\n",
    "fit_model_A1 = nn_A1.fit(X_train_scaled, y_train, epochs=100)"
   ]
  },
  {
   "cell_type": "markdown",
   "metadata": {},
   "source": [
    "#### Alternative Model 2"
   ]
  },
  {
   "cell_type": "code",
   "execution_count": null,
   "metadata": {},
   "outputs": [],
   "source": []
  },
  {
   "cell_type": "code",
   "execution_count": 36,
   "metadata": {},
   "outputs": [
    {
     "data": {
      "text/plain": [
       "116"
      ]
     },
     "execution_count": 36,
     "metadata": {},
     "output_type": "execute_result"
    }
   ],
   "source": [
    "# Define the the number of inputs (features) to the model\n",
    "number_input_features = len(X_train.iloc[0])\n",
    "\n",
    "# Review the number of features\n",
    "number_input_features"
   ]
  },
  {
   "cell_type": "code",
   "execution_count": 37,
   "metadata": {},
   "outputs": [],
   "source": [
    "# Define the number of neurons in the output layer\n",
    "number_output_neurons_A2 = 12"
   ]
  },
  {
   "cell_type": "code",
   "execution_count": 38,
   "metadata": {},
   "outputs": [
    {
     "data": {
      "text/plain": [
       "16"
      ]
     },
     "execution_count": 38,
     "metadata": {},
     "output_type": "execute_result"
    }
   ],
   "source": [
    "# Define the number of hidden nodes for the first hidden layer\n",
    "hidden_nodes_layer1_A2 = 16\n",
    "\n",
    "# Review the number of hidden nodes in the first layer\n",
    "hidden_nodes_layer1_A2"
   ]
  },
  {
   "cell_type": "code",
   "execution_count": 39,
   "metadata": {},
   "outputs": [
    {
     "data": {
      "text/plain": [
       "8"
      ]
     },
     "execution_count": 39,
     "metadata": {},
     "output_type": "execute_result"
    }
   ],
   "source": [
    "# Define the number of hidden nodes for the Second hidden layer\n",
    "hidden_nodes_layer2_A2 = 8\n",
    "\n",
    "# Review the number of hidden nodes in the Second layer\n",
    "hidden_nodes_layer2_A2"
   ]
  },
  {
   "cell_type": "code",
   "execution_count": 40,
   "metadata": {},
   "outputs": [
    {
     "data": {
      "text/plain": [
       "4"
      ]
     },
     "execution_count": 40,
     "metadata": {},
     "output_type": "execute_result"
    }
   ],
   "source": [
    "# Define the number of hidden nodes for the Third hidden layer\n",
    "hidden_nodes_layer3_A2 = 4\n",
    "\n",
    "# Review the number of hidden nodes in the Third layer\n",
    "hidden_nodes_layer3_A2"
   ]
  },
  {
   "cell_type": "code",
   "execution_count": 41,
   "metadata": {},
   "outputs": [
    {
     "data": {
      "text/plain": [
       "4"
      ]
     },
     "execution_count": 41,
     "metadata": {},
     "output_type": "execute_result"
    }
   ],
   "source": [
    "# Define the number of hidden nodes for the Fourth hidden layer\n",
    "hidden_nodes_layer4_A2 =4\n",
    "\n",
    "# Review the number of hidden nodes in the Fourth layer\n",
    "hidden_nodes_layer4_A2"
   ]
  },
  {
   "cell_type": "code",
   "execution_count": 42,
   "metadata": {},
   "outputs": [],
   "source": [
    "# Create the Sequential model instance\n",
    "nn_A2 = Sequential()"
   ]
  },
  {
   "cell_type": "code",
   "execution_count": 43,
   "metadata": {},
   "outputs": [
    {
     "name": "stdout",
     "output_type": "stream",
     "text": [
      "Model: \"sequential_2\"\n",
      "_________________________________________________________________\n",
      "Layer (type)                 Output Shape              Param #   \n",
      "=================================================================\n",
      "dense_6 (Dense)              (None, 16)                1872      \n",
      "_________________________________________________________________\n",
      "dense_7 (Dense)              (None, 8)                 136       \n",
      "_________________________________________________________________\n",
      "dense_8 (Dense)              (None, 4)                 36        \n",
      "_________________________________________________________________\n",
      "dense_9 (Dense)              (None, 4)                 20        \n",
      "_________________________________________________________________\n",
      "dense_10 (Dense)             (None, 12)                60        \n",
      "=================================================================\n",
      "Total params: 2,124\n",
      "Trainable params: 2,124\n",
      "Non-trainable params: 0\n",
      "_________________________________________________________________\n"
     ]
    }
   ],
   "source": [
    "# First hidden layer\n",
    "nn_A2.add(Dense(input_dim=number_input_features, units=hidden_nodes_layer1_A2, activation=\"relu\"))\n",
    "\n",
    "# Second hidden layer\n",
    "nn_A2.add(Dense(input_dim=number_input_features, units=hidden_nodes_layer2_A2, activation=\"linear\"))\n",
    "\n",
    "# Third hidden layer\n",
    "nn_A2.add(Dense(input_dim=number_input_features, units=hidden_nodes_layer3_A2, activation=\"relu\"))\n",
    "\n",
    "# Fourth hidden layer\n",
    "nn_A2.add(Dense(input_dim=number_input_features, units=hidden_nodes_layer4_A2, activation=\"linear\"))\n",
    "\n",
    "# Output layer\n",
    "nn_A2.add(Dense(units=number_output_neurons_A2, activation=\"relu\"))\n",
    "\n",
    "\n",
    "# Check the structure of the model\n",
    "nn_A2.summary()\n"
   ]
  },
  {
   "cell_type": "code",
   "execution_count": 44,
   "metadata": {},
   "outputs": [],
   "source": [
    "# Compile the model\n",
    "nn_A2.compile(optimizer='adam',loss='binary_crossentropy', metrics=['accuracy'])\n"
   ]
  },
  {
   "cell_type": "code",
   "execution_count": 45,
   "metadata": {},
   "outputs": [
    {
     "name": "stdout",
     "output_type": "stream",
     "text": [
      "Epoch 1/75\n",
      "804/804 [==============================] - 1s 509us/step - loss: 1.5510 - accuracy: 0.0296\n",
      "Epoch 2/75\n",
      "804/804 [==============================] - 0s 509us/step - loss: 0.6926 - accuracy: 0.0382\n",
      "Epoch 3/75\n",
      "804/804 [==============================] - 0s 538us/step - loss: 0.6357 - accuracy: 0.1074\n",
      "Epoch 4/75\n",
      "804/804 [==============================] - 0s 538us/step - loss: 0.6151 - accuracy: 0.1570\n",
      "Epoch 5/75\n",
      "804/804 [==============================] - 0s 523us/step - loss: 0.6047 - accuracy: 0.1681\n",
      "Epoch 6/75\n",
      "804/804 [==============================] - 0s 504us/step - loss: 0.5972 - accuracy: 0.1754\n",
      "Epoch 7/75\n",
      "804/804 [==============================] - 0s 504us/step - loss: 0.5994 - accuracy: 0.1913\n",
      "Epoch 8/75\n",
      "804/804 [==============================] - 0s 511us/step - loss: 0.5960 - accuracy: 0.1068\n",
      "Epoch 9/75\n",
      "804/804 [==============================] - 0s 542us/step - loss: 0.5845 - accuracy: 0.1366\n",
      "Epoch 10/75\n",
      "804/804 [==============================] - 0s 519us/step - loss: 0.5825 - accuracy: 0.1102\n",
      "Epoch 11/75\n",
      "804/804 [==============================] - 0s 522us/step - loss: 0.5915 - accuracy: 0.1100\n",
      "Epoch 12/75\n",
      "804/804 [==============================] - 0s 542us/step - loss: 0.5841 - accuracy: 0.0532\n",
      "Epoch 13/75\n",
      "804/804 [==============================] - 0s 526us/step - loss: 0.5875 - accuracy: 0.0184\n",
      "Epoch 14/75\n",
      "804/804 [==============================] - 0s 511us/step - loss: 0.5744 - accuracy: 0.0485\n",
      "Epoch 15/75\n",
      "804/804 [==============================] - 0s 512us/step - loss: 0.5733 - accuracy: 0.1151\n",
      "Epoch 16/75\n",
      "804/804 [==============================] - 0s 550us/step - loss: 0.5733 - accuracy: 0.0574\n",
      "Epoch 17/75\n",
      "804/804 [==============================] - 0s 537us/step - loss: 0.5678 - accuracy: 0.1816\n",
      "Epoch 18/75\n",
      "804/804 [==============================] - 0s 520us/step - loss: 0.5631 - accuracy: 0.1569\n",
      "Epoch 19/75\n",
      "804/804 [==============================] - 0s 507us/step - loss: 0.5621 - accuracy: 0.1099\n",
      "Epoch 20/75\n",
      "804/804 [==============================] - 0s 516us/step - loss: 0.5684 - accuracy: 0.1052\n",
      "Epoch 21/75\n",
      "804/804 [==============================] - 0s 521us/step - loss: 0.5709 - accuracy: 0.0977\n",
      "Epoch 22/75\n",
      "804/804 [==============================] - 0s 509us/step - loss: 0.5615 - accuracy: 0.0404\n",
      "Epoch 23/75\n",
      "804/804 [==============================] - 0s 519us/step - loss: 0.5613 - accuracy: 0.0351\n",
      "Epoch 24/75\n",
      "804/804 [==============================] - 0s 510us/step - loss: 0.5619 - accuracy: 0.0138\n",
      "Epoch 25/75\n",
      "804/804 [==============================] - 0s 513us/step - loss: 0.5673 - accuracy: 0.0256\n",
      "Epoch 26/75\n",
      "804/804 [==============================] - 0s 510us/step - loss: 0.5688 - accuracy: 0.0238\n",
      "Epoch 27/75\n",
      "804/804 [==============================] - 0s 526us/step - loss: 0.5612 - accuracy: 0.0394\n",
      "Epoch 28/75\n",
      "804/804 [==============================] - 0s 512us/step - loss: 0.5586 - accuracy: 0.0673\n",
      "Epoch 29/75\n",
      "804/804 [==============================] - 0s 515us/step - loss: 0.5583 - accuracy: 0.0641\n",
      "Epoch 30/75\n",
      "804/804 [==============================] - 0s 513us/step - loss: 0.5571 - accuracy: 0.0586\n",
      "Epoch 31/75\n",
      "804/804 [==============================] - 0s 511us/step - loss: 0.5566 - accuracy: 0.1083\n",
      "Epoch 32/75\n",
      "804/804 [==============================] - 0s 519us/step - loss: 0.5580 - accuracy: 0.1036\n",
      "Epoch 33/75\n",
      "804/804 [==============================] - 0s 517us/step - loss: 0.5672 - accuracy: 0.0725\n",
      "Epoch 34/75\n",
      "804/804 [==============================] - 0s 514us/step - loss: 0.5616 - accuracy: 0.1220\n",
      "Epoch 35/75\n",
      "804/804 [==============================] - 0s 551us/step - loss: 0.5562 - accuracy: 0.0419\n",
      "Epoch 36/75\n",
      "804/804 [==============================] - 0s 538us/step - loss: 0.5555 - accuracy: 0.1008\n",
      "Epoch 37/75\n",
      "804/804 [==============================] - 0s 580us/step - loss: 0.5561 - accuracy: 0.0431\n",
      "Epoch 38/75\n",
      "804/804 [==============================] - 0s 515us/step - loss: 0.5555 - accuracy: 0.0639\n",
      "Epoch 39/75\n",
      "804/804 [==============================] - 0s 522us/step - loss: 0.5618 - accuracy: 0.0849\n",
      "Epoch 40/75\n",
      "804/804 [==============================] - 0s 556us/step - loss: 0.5586 - accuracy: 0.1173\n",
      "Epoch 41/75\n",
      "804/804 [==============================] - 0s 565us/step - loss: 0.5656 - accuracy: 0.1639\n",
      "Epoch 42/75\n",
      "804/804 [==============================] - 0s 566us/step - loss: 0.5599 - accuracy: 0.0423\n",
      "Epoch 43/75\n",
      "804/804 [==============================] - 0s 576us/step - loss: 0.5580 - accuracy: 0.0150\n",
      "Epoch 44/75\n",
      "804/804 [==============================] - 0s 581us/step - loss: 0.5531 - accuracy: 7.7748e-050s - loss: 0.5546 - accuracy: 8.8152\n",
      "Epoch 45/75\n",
      "804/804 [==============================] - 0s 556us/step - loss: 0.5529 - accuracy: 0.0610\n",
      "Epoch 46/75\n",
      "804/804 [==============================] - 0s 586us/step - loss: 0.5659 - accuracy: 0.1152\n",
      "Epoch 47/75\n",
      "804/804 [==============================] - ETA: 0s - loss: 0.5553 - accuracy: 0.0016 - 0s 555us/step - loss: 0.5571 - accuracy: 0.0053\n",
      "Epoch 48/75\n",
      "804/804 [==============================] - 0s 530us/step - loss: 0.5566 - accuracy: 0.0178\n",
      "Epoch 49/75\n",
      "804/804 [==============================] - 0s 578us/step - loss: 0.5528 - accuracy: 0.1148\n",
      "Epoch 50/75\n",
      "804/804 [==============================] - 0s 586us/step - loss: 0.5520 - accuracy: 0.0257\n",
      "Epoch 51/75\n",
      "804/804 [==============================] - 0s 544us/step - loss: 0.5522 - accuracy: 0.0125\n",
      "Epoch 52/75\n",
      "804/804 [==============================] - 0s 563us/step - loss: 0.5510 - accuracy: 0.0350\n",
      "Epoch 53/75\n",
      "804/804 [==============================] - 0s 564us/step - loss: 0.5506 - accuracy: 0.0763\n",
      "Epoch 54/75\n",
      "804/804 [==============================] - 0s 577us/step - loss: 0.5531 - accuracy: 0.1386\n",
      "Epoch 55/75\n",
      "804/804 [==============================] - 0s 570us/step - loss: 0.5596 - accuracy: 0.3551\n",
      "Epoch 56/75\n",
      "804/804 [==============================] - 0s 547us/step - loss: 0.5542 - accuracy: 0.3992\n",
      "Epoch 57/75\n",
      "804/804 [==============================] - 0s 522us/step - loss: 0.5508 - accuracy: 0.5991\n",
      "Epoch 58/75\n",
      "804/804 [==============================] - 0s 535us/step - loss: 0.5495 - accuracy: 0.5296\n",
      "Epoch 59/75\n",
      "804/804 [==============================] - 0s 529us/step - loss: 0.5514 - accuracy: 0.5074\n",
      "Epoch 60/75\n",
      "804/804 [==============================] - 0s 527us/step - loss: 0.5547 - accuracy: 0.0186\n",
      "Epoch 61/75\n",
      "804/804 [==============================] - 0s 522us/step - loss: 0.5512 - accuracy: 0.0159\n",
      "Epoch 62/75\n",
      "804/804 [==============================] - 0s 520us/step - loss: 0.5499 - accuracy: 0.0661\n",
      "Epoch 63/75\n",
      "804/804 [==============================] - 0s 550us/step - loss: 0.5480 - accuracy: 0.1747\n",
      "Epoch 64/75\n",
      "804/804 [==============================] - 0s 537us/step - loss: 0.5490 - accuracy: 0.2227\n",
      "Epoch 65/75\n",
      "804/804 [==============================] - 0s 528us/step - loss: 0.5500 - accuracy: 0.1991\n",
      "Epoch 66/75\n",
      "804/804 [==============================] - 0s 616us/step - loss: 0.5493 - accuracy: 0.2070\n",
      "Epoch 67/75\n",
      "804/804 [==============================] - 0s 537us/step - loss: 0.5503 - accuracy: 0.1240\n",
      "Epoch 68/75\n",
      "804/804 [==============================] - 0s 592us/step - loss: 0.5486 - accuracy: 0.1834\n",
      "Epoch 69/75\n",
      "804/804 [==============================] - 0s 544us/step - loss: 0.5476 - accuracy: 0.2315\n",
      "Epoch 70/75\n",
      "804/804 [==============================] - 0s 550us/step - loss: 0.5500 - accuracy: 0.0992\n",
      "Epoch 71/75\n",
      "804/804 [==============================] - 0s 581us/step - loss: 0.5506 - accuracy: 0.05920s - loss: 0.5512 - accuracy: 0.\n",
      "Epoch 72/75\n",
      "804/804 [==============================] - 0s 538us/step - loss: 0.5492 - accuracy: 0.2138\n",
      "Epoch 73/75\n",
      "804/804 [==============================] - 0s 596us/step - loss: 0.5491 - accuracy: 0.1071\n",
      "Epoch 74/75\n",
      "804/804 [==============================] - 0s 548us/step - loss: 0.5482 - accuracy: 0.0845\n",
      "Epoch 75/75\n",
      "804/804 [==============================] - 0s 560us/step - loss: 0.5500 - accuracy: 0.0321\n"
     ]
    }
   ],
   "source": [
    "# Fit the model\n",
    "fit_model_A1 = nn_A2.fit(X_train_scaled, y_train, epochs=75)\n"
   ]
  },
  {
   "cell_type": "markdown",
   "metadata": {},
   "source": [
    "### Step 2: After finishing your models, display the accuracy scores achieved by each model, and compare the results."
   ]
  },
  {
   "cell_type": "code",
   "execution_count": 46,
   "metadata": {},
   "outputs": [
    {
     "name": "stdout",
     "output_type": "stream",
     "text": [
      "Original Model Results\n",
      "268/268 - 0s - loss: 8.1631 - accuracy: 0.4708\n",
      "Loss: 8.163082122802734, Accuracy: 0.4707871675491333\n"
     ]
    }
   ],
   "source": [
    "print(\"Original Model Results\")\n",
    "\n",
    "# Evaluate the model loss and accuracy metrics using the evaluate method and the test data\n",
    "model_loss, model_accuracy =nn.evaluate(X_test_scaled, y_test, verbose=2)\n",
    "\n",
    "# Display the model loss and accuracy results\n",
    "print(f\"Loss: {model_loss}, Accuracy: {model_accuracy}\")"
   ]
  },
  {
   "cell_type": "code",
   "execution_count": 47,
   "metadata": {},
   "outputs": [
    {
     "name": "stdout",
     "output_type": "stream",
     "text": [
      "Alternative Model 1 Results\n",
      "268/268 - 0s - loss: 0.5738 - accuracy: 0.0564\n",
      "Loss: 0.5738170146942139, Accuracy: 0.056443147361278534\n"
     ]
    }
   ],
   "source": [
    "print(\"Alternative Model 1 Results\")\n",
    "\n",
    "# Evaluate the model loss and accuracy metrics using the evaluate method and the test data\n",
    "model_loss, model_accuracy = nn_A1.evaluate(\n",
    "    X_test_scaled, y_test, verbose=2\n",
    ")\n",
    "\n",
    "# Display the model loss and accuracy results\n",
    "print(f\"Loss: {model_loss}, Accuracy: {model_accuracy}\")"
   ]
  },
  {
   "cell_type": "code",
   "execution_count": 48,
   "metadata": {},
   "outputs": [
    {
     "name": "stdout",
     "output_type": "stream",
     "text": [
      "Alternative Model 2 Results\n",
      "268/268 - 0s - loss: 0.5649 - accuracy: 0.0653\n",
      "Loss: 0.5649293661117554, Accuracy: 0.06530611962080002\n"
     ]
    }
   ],
   "source": [
    "print(\"Alternative Model 2 Results\")\n",
    "\n",
    "# Evaluate the model loss and accuracy metrics using the evaluate method and the test data\n",
    "model_loss, model_accuracy = nn_A2.evaluate(\n",
    "    X_test_scaled, y_test, verbose=2\n",
    ")\n",
    "\n",
    "# Display the model loss and accuracy results\n",
    "print(f\"Loss: {model_loss}, Accuracy: {model_accuracy}\")"
   ]
  },
  {
   "cell_type": "markdown",
   "metadata": {},
   "source": [
    "### Step 3: Save each of your alternative models as an HDF5 file.\n"
   ]
  },
  {
   "cell_type": "code",
   "execution_count": 49,
   "metadata": {},
   "outputs": [],
   "source": [
    "# Set the file path for the first alternative model\n",
    "file_path =Path(\"Resources/AlphabetSoup_A1.h5\")\n",
    "\n",
    "# Export your model to a HDF5 file\n",
    "nn.save(file_path)"
   ]
  },
  {
   "cell_type": "code",
   "execution_count": 50,
   "metadata": {},
   "outputs": [],
   "source": [
    "# Set the file path for the second alternative model\n",
    "file_path = Path(\"Resources/AlphabetSoup_A2.h5\")\n",
    "\n",
    "# Export your model to a HDF5 file\n",
    "nn.save(file_path)\n"
   ]
  },
  {
   "cell_type": "code",
   "execution_count": null,
   "metadata": {},
   "outputs": [],
   "source": []
  }
 ],
 "metadata": {
  "kernelspec": {
   "display_name": "Python 3",
   "language": "python",
   "name": "python3"
  },
  "language_info": {
   "codemirror_mode": {
    "name": "ipython",
    "version": 3
   },
   "file_extension": ".py",
   "mimetype": "text/x-python",
   "name": "python",
   "nbconvert_exporter": "python",
   "pygments_lexer": "ipython3",
   "version": "3.8.8"
  }
 },
 "nbformat": 4,
 "nbformat_minor": 4
}
